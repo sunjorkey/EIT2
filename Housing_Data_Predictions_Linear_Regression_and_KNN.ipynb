{
  "nbformat": 4,
  "nbformat_minor": 0,
  "metadata": {
    "colab": {
      "provenance": [],
      "mount_file_id": "1bp7a8N-bxPZv3EuktKZm-_fEgHXeTDPA",
      "authorship_tag": "ABX9TyOeBXjIxOc2/rPg6uzUL9Iy",
      "include_colab_link": true
    },
    "kernelspec": {
      "name": "python3",
      "display_name": "Python 3"
    },
    "language_info": {
      "name": "python"
    }
  },
  "cells": [
    {
      "cell_type": "markdown",
      "metadata": {
        "id": "view-in-github",
        "colab_type": "text"
      },
      "source": [
        "<a href=\"https://colab.research.google.com/github/sunjorkey/EIT2/blob/main/Housing_Data_Predictions_Linear_Regression_and_KNN.ipynb\" target=\"_parent\"><img src=\"https://colab.research.google.com/assets/colab-badge.svg\" alt=\"Open In Colab\"/></a>"
      ]
    },
    {
      "cell_type": "code",
      "execution_count": 1240,
      "metadata": {
        "id": "72rgM0WcvyIe"
      },
      "outputs": [],
      "source": []
    },
    {
      "cell_type": "code",
      "execution_count": 1241,
      "metadata": {
        "id": "iwR0HVblXKIX"
      },
      "outputs": [],
      "source": [
        "import pandas as pd\n",
        "import numpy as np\n",
        "import matplotlib.pyplot as plt\n",
        "import seaborn as sns\n",
        "from scipy.stats import multivariate_normal as mvn"
      ]
    },
    {
      "cell_type": "code",
      "source": [
        "house_df = pd.read_csv('/content/drive/MyDrive/Colab Notebooks/Week3/ass/raw_house_data.csv')"
      ],
      "metadata": {
        "id": "ZACKR0vpoydl"
      },
      "execution_count": 1242,
      "outputs": []
    },
    {
      "cell_type": "markdown",
      "source": [
        "##Data clean"
      ],
      "metadata": {
        "id": "vyNvfLmvW2j4"
      }
    },
    {
      "cell_type": "code",
      "source": [
        "house_df.count()\n"
      ],
      "metadata": {
        "id": "shHeGwOp4zJP",
        "colab": {
          "base_uri": "https://localhost:8080/"
        },
        "outputId": "8f6bbb14-1992-4391-bf38-102cd9da5434"
      },
      "execution_count": 1243,
      "outputs": [
        {
          "output_type": "execute_result",
          "data": {
            "text/plain": [
              "MLS                 5000\n",
              "sold_price          5000\n",
              "zipcode             5000\n",
              "longitude           5000\n",
              "latitude            5000\n",
              "lot_acres           4990\n",
              "taxes               5000\n",
              "year_built          5000\n",
              "bedrooms            5000\n",
              "bathrooms           5000\n",
              "sqrt_ft             5000\n",
              "garage              5000\n",
              "kitchen_features    5000\n",
              "fireplaces          4975\n",
              "floor_covering      5000\n",
              "HOA                 5000\n",
              "dtype: int64"
            ]
          },
          "metadata": {},
          "execution_count": 1243
        }
      ]
    },
    {
      "cell_type": "code",
      "source": [
        "# count the number of missing values in each column \n",
        "house_df.isnull().sum() "
      ],
      "metadata": {
        "colab": {
          "base_uri": "https://localhost:8080/"
        },
        "id": "otCE19GyLy9g",
        "outputId": "96b57c8d-a163-40b3-c789-4e5086bf69d6"
      },
      "execution_count": 1244,
      "outputs": [
        {
          "output_type": "execute_result",
          "data": {
            "text/plain": [
              "MLS                  0\n",
              "sold_price           0\n",
              "zipcode              0\n",
              "longitude            0\n",
              "latitude             0\n",
              "lot_acres           10\n",
              "taxes                0\n",
              "year_built           0\n",
              "bedrooms             0\n",
              "bathrooms            0\n",
              "sqrt_ft              0\n",
              "garage               0\n",
              "kitchen_features     0\n",
              "fireplaces          25\n",
              "floor_covering       0\n",
              "HOA                  0\n",
              "dtype: int64"
            ]
          },
          "metadata": {},
          "execution_count": 1244
        }
      ]
    },
    {
      "cell_type": "code",
      "source": [
        "house_df=house_df.drop_duplicates()\n",
        "# remove any duplicate rows "
      ],
      "metadata": {
        "id": "J1zyLFb05PzU"
      },
      "execution_count": 1245,
      "outputs": []
    },
    {
      "cell_type": "code",
      "source": [
        "for col in house_df.columns:\n",
        "    print(f\"Column {col} has {(house_df[col] == 'None').sum()} None values\")\n",
        "\n",
        "#iterates through each column and prints the number of \"None\" values in that column."
      ],
      "metadata": {
        "colab": {
          "base_uri": "https://localhost:8080/"
        },
        "id": "VV_Ps41YMKc_",
        "outputId": "21eef292-dab7-4156-e4b9-3b2fe38c6ac2"
      },
      "execution_count": 1246,
      "outputs": [
        {
          "output_type": "stream",
          "name": "stdout",
          "text": [
            "Column MLS has 0 None values\n",
            "Column sold_price has 0 None values\n",
            "Column zipcode has 0 None values\n",
            "Column longitude has 0 None values\n",
            "Column latitude has 0 None values\n",
            "Column lot_acres has 0 None values\n",
            "Column taxes has 0 None values\n",
            "Column year_built has 0 None values\n",
            "Column bedrooms has 0 None values\n",
            "Column bathrooms has 6 None values\n",
            "Column sqrt_ft has 56 None values\n",
            "Column garage has 7 None values\n",
            "Column kitchen_features has 33 None values\n",
            "Column fireplaces has 0 None values\n",
            "Column floor_covering has 1 None values\n",
            "Column HOA has 562 None values\n"
          ]
        }
      ]
    },
    {
      "cell_type": "code",
      "source": [
        "house_df.HOA.value_counts().nlargest(10).plot(kind='bar',figsize=(10,5))"
      ],
      "metadata": {
        "colab": {
          "base_uri": "https://localhost:8080/",
          "height": 354
        },
        "id": "2e8oEcZOwDOs",
        "outputId": "10834d9e-87bf-4e77-e6f7-3884d71ce30e"
      },
      "execution_count": 1247,
      "outputs": [
        {
          "output_type": "execute_result",
          "data": {
            "text/plain": [
              "<Axes: >"
            ]
          },
          "metadata": {},
          "execution_count": 1247
        },
        {
          "output_type": "display_data",
          "data": {
            "text/plain": [
              "<Figure size 720x360 with 1 Axes>"
            ],
            "image/png": "[encoded data removed]"
          },
          "metadata": {
            "needs_background": "light"
          }
        }
      ]
    },
    {
      "cell_type": "code",
      "source": [
        "house_df = house_df.replace('None', np.nan)  \n",
        "#replaces the value \"None\" with the value \"NaN\""
      ],
      "metadata": {
        "id": "_ro0KHMbZMg3"
      },
      "execution_count": 1248,
      "outputs": []
    },
    {
      "cell_type": "code",
      "source": [
        "house_df['HOA'] = house_df['HOA'].str.replace(r'\\D+', '', regex=True)\n",
        "\n",
        "# remove all non-numeric characters from the values in the HOA column"
      ],
      "metadata": {
        "id": "Eb1JpiwVnzyY"
      },
      "execution_count": 1249,
      "outputs": []
    },
    {
      "cell_type": "code",
      "source": [
        "house_df.dtypes"
      ],
      "metadata": {
        "id": "egEnilHHmYh9",
        "colab": {
          "base_uri": "https://localhost:8080/"
        },
        "outputId": "9a051c33-e6de-47cf-c701-5e33a00e0927"
      },
      "execution_count": 1250,
      "outputs": [
        {
          "output_type": "execute_result",
          "data": {
            "text/plain": [
              "MLS                   int64\n",
              "sold_price          float64\n",
              "zipcode               int64\n",
              "longitude           float64\n",
              "latitude            float64\n",
              "lot_acres           float64\n",
              "taxes               float64\n",
              "year_built            int64\n",
              "bedrooms              int64\n",
              "bathrooms            object\n",
              "sqrt_ft              object\n",
              "garage               object\n",
              "kitchen_features     object\n",
              "fireplaces          float64\n",
              "floor_covering       object\n",
              "HOA                  object\n",
              "dtype: object"
            ]
          },
          "metadata": {},
          "execution_count": 1250
        }
      ]
    },
    {
      "cell_type": "code",
      "source": [
        "house_df['bathrooms'] = house_df['bathrooms'].astype(float)\n",
        "house_df['bedrooms'] = house_df['bedrooms'].astype(float)\n",
        "house_df['year_built'] = house_df['year_built'].astype(int)\n",
        "house_df['sqrt_ft'] = house_df['sqrt_ft'].astype(float)\n",
        "house_df['garage'] = house_df['garage'].astype(float)\n",
        "house_df['bathrooms'] = house_df['bathrooms'].astype(float)\n",
        "house_df['fireplaces'] = house_df['fireplaces'].astype(float)\n",
        "house_df['HOA'] = house_df['HOA'].astype(float)\n",
        "\n",
        "#converts  data type"
      ],
      "metadata": {
        "id": "4UdMkdyfamU8"
      },
      "execution_count": 1251,
      "outputs": []
    },
    {
      "cell_type": "code",
      "source": [
        "house_df.dtypes"
      ],
      "metadata": {
        "colab": {
          "base_uri": "https://localhost:8080/"
        },
        "id": "u7V4dK-5bRe3",
        "outputId": "42661527-8adb-4de5-bb18-8b0c159385b6"
      },
      "execution_count": 1252,
      "outputs": [
        {
          "output_type": "execute_result",
          "data": {
            "text/plain": [
              "MLS                   int64\n",
              "sold_price          float64\n",
              "zipcode               int64\n",
              "longitude           float64\n",
              "latitude            float64\n",
              "lot_acres           float64\n",
              "taxes               float64\n",
              "year_built            int64\n",
              "bedrooms            float64\n",
              "bathrooms           float64\n",
              "sqrt_ft             float64\n",
              "garage              float64\n",
              "kitchen_features     object\n",
              "fireplaces          float64\n",
              "floor_covering       object\n",
              "HOA                 float64\n",
              "dtype: object"
            ]
          },
          "metadata": {},
          "execution_count": 1252
        }
      ]
    },
    {
      "cell_type": "code",
      "source": [
        "house_df['HOA'].mean()"
      ],
      "metadata": {
        "id": "ys0zmprIlsyQ",
        "colab": {
          "base_uri": "https://localhost:8080/"
        },
        "outputId": "1b694a69-56f9-4e1c-952f-61849c046205"
      },
      "execution_count": 1253,
      "outputs": [
        {
          "output_type": "execute_result",
          "data": {
            "text/plain": [
              "445.08765209553854"
            ]
          },
          "metadata": {},
          "execution_count": 1253
        }
      ]
    },
    {
      "cell_type": "code",
      "source": [
        "house_df.groupby(['zipcode']).mean(10)\n",
        "\n",
        "# group the dataframe by the column \"zipcode\" and then take the mean of each group. "
      ],
      "metadata": {
        "id": "21oCS1P5Ygp9",
        "colab": {
          "base_uri": "https://localhost:8080/",
          "height": 1000
        },
        "outputId": "6434cfac-2ea3-470d-bb9b-9be53ad151d2"
      },
      "execution_count": 1254,
      "outputs": [
        {
          "output_type": "execute_result",
          "data": {
            "text/plain": [
              "                  MLS    sold_price   longitude   latitude    lot_acres  \\\n",
              "zipcode                                                                   \n",
              "85118    2.170180e+07  6.900000e+05 -111.430863  33.366202     1.250000   \n",
              "85192    2.183245e+07  4.750000e+05 -110.755428  32.964708    12.060000   \n",
              "85541    2.182357e+07  6.000000e+05 -111.335860  34.314889     2.490000   \n",
              "85601    3.586477e+06  4.900000e+05 -111.299662  31.584172    38.980000   \n",
              "85602    2.128234e+07  6.205000e+05 -110.343385  32.069192   238.465000   \n",
              "85603    2.181917e+07  9.870000e+05 -109.980961  31.486463    36.000000   \n",
              "85605    2.142016e+07  4.250000e+05 -109.454637  32.283327    68.700000   \n",
              "85609    2.142447e+07  2.500000e+06 -110.095713  32.057222  1048.180000   \n",
              "85610    2.168115e+07  7.470000e+05 -109.826223  31.712335   117.020000   \n",
              "85611    1.953820e+07  7.323333e+05 -110.547408  31.625380    31.463333   \n",
              "85614    1.347187e+07  6.224450e+05 -110.966724  31.843946     2.356596   \n",
              "85615    2.187890e+07  7.305000e+05 -110.248003  31.426579     4.186667   \n",
              "85619    2.158275e+07  6.313743e+05 -110.756209  32.442326     0.284286   \n",
              "85621    1.103873e+07  6.100000e+05 -110.893521  31.377198    12.062000   \n",
              "85622    1.074484e+07  6.083160e+05 -111.014514  31.830721     2.301250   \n",
              "85623    2.172410e+07  6.108871e+05 -110.894752  32.586536     1.980968   \n",
              "85624    2.166590e+07  8.072500e+05 -110.724171  31.568540    78.744000   \n",
              "85625    2.182229e+07  5.300000e+05 -109.685284  31.879267   119.790000   \n",
              "85629    1.909755e+07  6.078714e+05 -110.954668  31.888213     0.893571   \n",
              "85630    2.168140e+07  5.966667e+05 -110.102175  31.903075    43.803333   \n",
              "85637    2.151294e+07  9.202722e+05 -110.677684  31.674687   127.591481   \n",
              "85638    2.190900e+07  5.000000e+05 -110.082311  31.712638   555.600000   \n",
              "85640    1.728996e+07  2.092880e+06 -111.044264  31.562124   111.510000   \n",
              "85641    2.167900e+07  6.684119e+05 -110.681249  32.057651    12.969412   \n",
              "85643    2.151121e+07  6.530000e+05 -110.067819  32.430516   282.840000   \n",
              "85645    9.573159e+06  6.644444e+05 -111.156365  31.688771   101.535000   \n",
              "85646    1.191024e+07  8.550687e+05 -111.037543  31.613154    81.080333   \n",
              "85648    1.813814e+07  6.508090e+05 -110.943077  31.527664    33.402000   \n",
              "85658    2.157511e+07  9.496158e+05 -111.077886  32.456490     0.992500   \n",
              "85701    2.167213e+07  7.545480e+05 -110.969911  32.215461     0.203571   \n",
              "85704    2.159606e+07  6.515679e+05 -110.975947  32.341266     1.687629   \n",
              "85705    2.167889e+07  7.038535e+05 -110.966107  32.236093     0.279167   \n",
              "85710    2.156319e+07  6.375000e+05 -110.852086  32.233286     0.875000   \n",
              "85711    2.173617e+07  5.695000e+05 -110.886687  32.220947     1.425000   \n",
              "85712    2.159585e+07  7.659505e+05 -110.883852  32.261400     1.048636   \n",
              "85713    2.104086e+07  4.875000e+05 -111.082659  32.198482     0.420000   \n",
              "85715    2.161209e+07  8.462759e+05 -110.856282  32.259091     2.015851   \n",
              "85716    2.158114e+07  6.877104e+05 -110.924151  32.225275     0.540841   \n",
              "85718    2.156859e+07  8.251585e+05 -110.919741  32.317749     1.290551   \n",
              "85719    2.164035e+07  7.780317e+05 -110.941240  32.237847     0.268289   \n",
              "85730    2.157508e+07  6.175555e+05 -110.753908  32.174909     3.830741   \n",
              "85737    2.155774e+07  7.009165e+05 -110.973648  32.402670     1.243523   \n",
              "85739    2.157653e+07  7.290251e+05 -110.871811  32.533288     0.765000   \n",
              "85742    2.161375e+07  6.921062e+05 -111.036299  32.395284     2.625309   \n",
              "85743    2.165040e+07  6.588326e+05 -111.100947  32.324445     4.024868   \n",
              "85745    2.165612e+07  6.717710e+05 -111.054812  32.243281     2.929290   \n",
              "85747    2.165747e+07  6.939067e+05 -110.735106  32.140634     8.015333   \n",
              "85748    2.155807e+07  6.953823e+05 -110.741223  32.224930     4.495167   \n",
              "85749    2.161068e+07  7.156697e+05 -110.750734  32.271566     3.391845   \n",
              "85750    2.158195e+07  7.994184e+05 -110.848001  32.307413     1.182811   \n",
              "85755    2.159876e+07  7.722333e+05 -110.982999  32.447842     1.385401   \n",
              "85901    2.150749e+07  5.650000e+05 -110.088835  34.236965     1.020000   \n",
              "85929    2.113016e+07  6.550000e+05 -109.963279  34.169427    10.000000   \n",
              "85935    2.191499e+07  5.800000e+05 -109.861617  34.118430     0.350000   \n",
              "86024    2.181842e+07  1.800000e+06 -111.228462  34.596971    59.300000   \n",
              "86323    2.180458e+07  7.450000e+05 -112.520168  34.927884    36.300000   \n",
              "\n",
              "                taxes   year_built   bedrooms  bathrooms      sqrt_ft  \\\n",
              "zipcode                                                                 \n",
              "85118     7716.660000  2007.000000   4.000000   4.000000  4361.000000   \n",
              "85192     1000.000000  1969.000000   3.000000   2.000000  1772.000000   \n",
              "85541     1993.000000  1975.000000   4.000000   2.000000  2367.000000   \n",
              "85601     5739.000000  1977.000000   4.000000   3.000000  2811.000000   \n",
              "85602     7729.940000  1999.500000   3.500000   4.000000  3143.500000   \n",
              "85603     1630.400000  1985.000000   3.000000   4.000000  5802.000000   \n",
              "85605     4507.920000  2007.000000   3.000000   4.000000  3640.000000   \n",
              "85609     2441.600000  1985.000000   2.000000   2.000000  2895.000000   \n",
              "85610     4033.240000  2007.500000   3.000000   4.000000  4268.000000   \n",
              "85611     6663.224444  1996.666667   4.777778   4.444444  4227.222222   \n",
              "85614     5217.549400  2005.780000   3.360000   3.577778  3382.034483   \n",
              "85615     6853.133333  2008.666667   3.666667   4.333333  4267.333333   \n",
              "85619     7736.445714  2007.000000   3.428571   2.857143  2320.571429   \n",
              "85621     4280.528000  1994.800000   3.800000   4.000000  5365.400000   \n",
              "85622     4718.582759  1997.517241   3.206897   3.758621  3578.307692   \n",
              "85623     3226.105806  2007.516129   2.709677   3.580645  2629.483871   \n",
              "85624     4816.754000  1989.300000   3.400000   3.400000  3816.300000   \n",
              "85625     2325.100000  1979.000000   3.000000   3.000000  3488.000000   \n",
              "85629     2482.705714  2011.428571   3.571429   3.714286  3213.833333   \n",
              "85630     5026.908889  2002.888889   3.666667   3.444444  3703.666667   \n",
              "85637     5792.867778  1917.296296   4.185185   4.074074  3972.837037   \n",
              "85638     4669.320000  1934.000000  11.000000  11.000000  5800.000000   \n",
              "85640     4876.200000  1952.250000   4.500000   4.625000  4470.000000   \n",
              "85641     6409.453676  1999.308824   4.044118   4.352941  3889.941176   \n",
              "85643     5395.710000  1975.000000   3.000000   3.000000  2550.500000   \n",
              "85645     9632.617778  1738.888889  14.333333  14.000000  9281.333333   \n",
              "85646     6355.936066  1993.114754   3.311475   3.700000  4151.479167   \n",
              "85648     7170.214000  2008.200000   3.400000   4.200000  5345.200000   \n",
              "85658     7964.730486  2002.902778   3.458333   3.885417  3514.020833   \n",
              "85701     4722.789286  1802.071429   4.571429   3.714286  3603.142857   \n",
              "85704     6259.507732  1989.257732   4.278351   3.824742  3718.443299   \n",
              "85705     4779.673333  1921.833333   5.583333   4.416667  3679.333333   \n",
              "85710     5678.935000  1979.500000   4.000000   3.500000  3402.000000   \n",
              "85711     4261.938333  1959.500000   4.666667   3.833333  3819.666667   \n",
              "85712     6768.810909  1990.204545   4.204545   4.000000  3729.000000   \n",
              "85713     5672.520000  2004.000000   4.000000   3.000000  2985.000000   \n",
              "85715     7473.206489  1974.053191   4.212766   4.159574  4172.776596   \n",
              "85716     5161.646355  1954.186916   4.149533   3.887850  3536.616822   \n",
              "85718    17077.336923  1989.206637   3.993213   3.892157  3853.447210   \n",
              "85719     4561.107763  1964.394737   3.934211   3.697368  3254.750000   \n",
              "85730     5622.456296  1996.666667   4.259259   3.925926  3760.185185   \n",
              "85737     6963.337189  1999.387900   3.914591   3.551601  3536.128114   \n",
              "85739     5299.445844  2004.759740   3.051948   3.402597  3147.954545   \n",
              "85742     6533.731111  2001.160494   4.067901   3.839506  3732.024691   \n",
              "85743     6910.489474  2002.907895   4.118421   3.868421  3831.473684   \n",
              "85745     6563.632710  2002.974194   3.677419   3.664516  3502.922581   \n",
              "85747     6219.003333  1995.533333   3.733333   3.533333  3697.200000   \n",
              "85748     6349.866500  1993.783333   4.416667   4.050000  3977.316667   \n",
              "85749     6269.516783  1996.184539   4.249377   3.972569  3874.548628   \n",
              "85750     7244.741232  1994.587933   3.998716   3.700899  3765.598203   \n",
              "85755     7044.195054  2000.748373   3.704989   3.748373  3495.284165   \n",
              "85901     3942.540000  2002.000000   4.000000   4.000000  3321.000000   \n",
              "85929     5644.000000  2006.000000   5.000000   3.000000  4648.000000   \n",
              "85935     4679.000000  2003.000000   4.000000   4.000000  2771.000000   \n",
              "86024     4509.900000  2003.000000   2.000000   3.000000  1999.000000   \n",
              "86323     3379.980000  2004.000000   5.000000   3.000000  3670.000000   \n",
              "\n",
              "           garage  fireplaces          HOA  \n",
              "zipcode                                     \n",
              "85118    4.000000    1.000000     0.000000  \n",
              "85192    0.000000    0.000000          NaN  \n",
              "85541    2.000000    2.000000     0.000000  \n",
              "85601         NaN    1.000000          NaN  \n",
              "85602    3.000000    1.500000     0.000000  \n",
              "85603    0.000000    1.000000          NaN  \n",
              "85605    3.000000    1.000000     0.000000  \n",
              "85609    0.000000    1.000000     0.000000  \n",
              "85610    3.000000    3.500000    42.000000  \n",
              "85611    3.000000    2.333333     0.000000  \n",
              "85614    2.890000    1.512821  1342.065217  \n",
              "85615    4.166667    2.666667    81.000000  \n",
              "85619    1.000000    1.285714    75.000000  \n",
              "85621    2.500000    2.000000   833.500000  \n",
              "85622    3.068966    1.640000   488.105263  \n",
              "85623    2.838710    1.032258  9587.821429  \n",
              "85624    1.300000    1.700000    17.142857  \n",
              "85625    3.000000    1.000000     0.000000  \n",
              "85629    3.642857    1.166667   776.000000  \n",
              "85630    2.722222    2.000000   783.555556  \n",
              "85637    2.259259    1.777778    24.727273  \n",
              "85638    0.000000    1.000000          NaN  \n",
              "85640    4.500000    4.000000     0.000000  \n",
              "85641    3.264706    1.970588   685.583333  \n",
              "85643    1.500000    1.000000     0.000000  \n",
              "85645    1.500000    1.857143     0.000000  \n",
              "85646    2.413793    2.745455   203.974359  \n",
              "85648    3.700000    2.000000   453.333333  \n",
              "85658    2.845486    1.829861   286.332103  \n",
              "85701    0.714286    1.214286     7.400000  \n",
              "85704    2.829897    1.701031    25.111111  \n",
              "85705    1.250000    1.583333     0.000000  \n",
              "85710    2.500000    3.500000     0.000000  \n",
              "85711    2.000000    1.333333     0.000000  \n",
              "85712    2.022727    2.090909   558.236842  \n",
              "85713    3.000000    1.000000    68.000000  \n",
              "85715    2.478723    2.308511   918.932584  \n",
              "85716    1.504673    1.934579     1.844156  \n",
              "85718    2.661388    2.110106   341.107518  \n",
              "85719    1.763158    1.486842    20.472727  \n",
              "85730    4.240741    1.629630    23.333333  \n",
              "85737    2.959075    1.729537   133.827068  \n",
              "85739    2.912338    1.207792   579.951389  \n",
              "85742    3.416667    1.598765    80.975806  \n",
              "85743    3.578947    1.815789    69.115385  \n",
              "85745    3.093548    1.632258   462.308943  \n",
              "85747    2.933333    1.733333    42.000000  \n",
              "85748    3.083333    1.933333    38.777778  \n",
              "85749    3.118454    1.980050   327.294643  \n",
              "85750    2.775353    1.962773   370.441137  \n",
              "85755    3.161605    1.620390   861.943439  \n",
              "85901    2.500000    2.000000   150.000000  \n",
              "85929    3.000000    2.000000     0.000000  \n",
              "85935    2.000000    1.000000  3333.000000  \n",
              "86024    2.000000    1.000000          NaN  \n",
              "86323    3.000000    1.000000     0.000000  "
            ],
            "text/html": [
              "\n",
              "  <div id=\"df-0f22c904-fb14-452c-a1c0-a3031a3ddc14\">\n",
              "    <div class=\"colab-df-container\">\n",
              "      <div>\n",
              "<style scoped>\n",
              "    .dataframe tbody tr th:only-of-type {\n",
              "        vertical-align: middle;\n",
              "    }\n",
              "\n",
              "    .dataframe tbody tr th {\n",
              "        vertical-align: top;\n",
              "    }\n",
              "\n",
              "    .dataframe thead th {\n",
              "        text-align: right;\n",
              "    }\n",
              "</style>\n",
              "<table border=\"1\" class=\"dataframe\">\n",
              "  <thead>\n",
              "    <tr style=\"text-align: right;\">\n",
              "      <th></th>\n",
              "      <th>MLS</th>\n",
              "      <th>sold_price</th>\n",
              "      <th>longitude</th>\n",
              "      <th>latitude</th>\n",
              "      <th>lot_acres</th>\n",
              "      <th>taxes</th>\n",
              "      <th>year_built</th>\n",
              "      <th>bedrooms</th>\n",
              "      <th>bathrooms</th>\n",
              "      <th>sqrt_ft</th>\n",
              "      <th>garage</th>\n",
              "      <th>fireplaces</th>\n",
              "      <th>HOA</th>\n",
              "    </tr>\n",
              "    <tr>\n",
              "      <th>zipcode</th>\n",
              "      <th></th>\n",
              "      <th></th>\n",
              "      <th></th>\n",
              "      <th></th>\n",
              "      <th></th>\n",
              "      <th></th>\n",
              "      <th></th>\n",
              "      <th></th>\n",
              "      <th></th>\n",
              "      <th></th>\n",
              "      <th></th>\n",
              "      <th></th>\n",
              "      <th></th>\n",
              "    </tr>\n",
              "  </thead>\n",
              "  <tbody>\n",
              "    <tr>\n",
              "      <th>85118</th>\n",
              "      <td>2.170180e+07</td>\n",
              "      <td>6.900000e+05</td>\n",
              "      <td>-111.430863</td>\n",
              "      <td>33.366202</td>\n",
              "      <td>1.250000</td>\n",
              "      <td>7716.660000</td>\n",
              "      <td>2007.000000</td>\n",
              "      <td>4.000000</td>\n",
              "      <td>4.000000</td>\n",
              "      <td>4361.000000</td>\n",
              "      <td>4.000000</td>\n",
              "      <td>1.000000</td>\n",
              "      <td>0.000000</td>\n",
              "    </tr>\n",
              "    <tr>\n",
              "      <th>85192</th>\n",
              "      <td>2.183245e+07</td>\n",
              "      <td>4.750000e+05</td>\n",
              "      <td>-110.755428</td>\n",
              "      <td>32.964708</td>\n",
              "      <td>12.060000</td>\n",
              "      <td>1000.000000</td>\n",
              "      <td>1969.000000</td>\n",
              "      <td>3.000000</td>\n",
              "      <td>2.000000</td>\n",
              "      <td>1772.000000</td>\n",
              "      <td>0.000000</td>\n",
              "      <td>0.000000</td>\n",
              "      <td>NaN</td>\n",
              "    </tr>\n",
              "    <tr>\n",
              "      <th>85541</th>\n",
              "      <td>2.182357e+07</td>\n",
              "      <td>6.000000e+05</td>\n",
              "      <td>-111.335860</td>\n",
              "      <td>34.314889</td>\n",
              "      <td>2.490000</td>\n",
              "      <td>1993.000000</td>\n",
              "      <td>1975.000000</td>\n",
              "      <td>4.000000</td>\n",
              "      <td>2.000000</td>\n",
              "      <td>2367.000000</td>\n",
              "      <td>2.000000</td>\n",
              "      <td>2.000000</td>\n",
              "      <td>0.000000</td>\n",
              "    </tr>\n",
              "    <tr>\n",
              "      <th>85601</th>\n",
              "      <td>3.586477e+06</td>\n",
              "      <td>4.900000e+05</td>\n",
              "      <td>-111.299662</td>\n",
              "      <td>31.584172</td>\n",
              "      <td>38.980000</td>\n",
              "      <td>5739.000000</td>\n",
              "      <td>1977.000000</td>\n",
              "      <td>4.000000</td>\n",
              "      <td>3.000000</td>\n",
              "      <td>2811.000000</td>\n",
              "      <td>NaN</td>\n",
              "      <td>1.000000</td>\n",
              "      <td>NaN</td>\n",
              "    </tr>\n",
              "    <tr>\n",
              "      <th>85602</th>\n",
              "      <td>2.128234e+07</td>\n",
              "      <td>6.205000e+05</td>\n",
              "      <td>-110.343385</td>\n",
              "      <td>32.069192</td>\n",
              "      <td>238.465000</td>\n",
              "      <td>7729.940000</td>\n",
              "      <td>1999.500000</td>\n",
              "      <td>3.500000</td>\n",
              "      <td>4.000000</td>\n",
              "      <td>3143.500000</td>\n",
              "      <td>3.000000</td>\n",
              "      <td>1.500000</td>\n",
              "      <td>0.000000</td>\n",
              "    </tr>\n",
              "    <tr>\n",
              "      <th>85603</th>\n",
              "      <td>2.181917e+07</td>\n",
              "      <td>9.870000e+05</td>\n",
              "      <td>-109.980961</td>\n",
              "      <td>31.486463</td>\n",
              "      <td>36.000000</td>\n",
              "      <td>1630.400000</td>\n",
              "      <td>1985.000000</td>\n",
              "      <td>3.000000</td>\n",
              "      <td>4.000000</td>\n",
              "      <td>5802.000000</td>\n",
              "      <td>0.000000</td>\n",
              "      <td>1.000000</td>\n",
              "      <td>NaN</td>\n",
              "    </tr>\n",
              "    <tr>\n",
              "      <th>85605</th>\n",
              "      <td>2.142016e+07</td>\n",
              "      <td>4.250000e+05</td>\n",
              "      <td>-109.454637</td>\n",
              "      <td>32.283327</td>\n",
              "      <td>68.700000</td>\n",
              "      <td>4507.920000</td>\n",
              "      <td>2007.000000</td>\n",
              "      <td>3.000000</td>\n",
              "      <td>4.000000</td>\n",
              "      <td>3640.000000</td>\n",
              "      <td>3.000000</td>\n",
              "      <td>1.000000</td>\n",
              "      <td>0.000000</td>\n",
              "    </tr>\n",
              "    <tr>\n",
              "      <th>85609</th>\n",
              "      <td>2.142447e+07</td>\n",
              "      <td>2.500000e+06</td>\n",
              "      <td>-110.095713</td>\n",
              "      <td>32.057222</td>\n",
              "      <td>1048.180000</td>\n",
              "      <td>2441.600000</td>\n",
              "      <td>1985.000000</td>\n",
              "      <td>2.000000</td>\n",
              "      <td>2.000000</td>\n",
              "      <td>2895.000000</td>\n",
              "      <td>0.000000</td>\n",
              "      <td>1.000000</td>\n",
              "      <td>0.000000</td>\n",
              "    </tr>\n",
              "    <tr>\n",
              "      <th>85610</th>\n",
              "      <td>2.168115e+07</td>\n",
              "      <td>7.470000e+05</td>\n",
              "      <td>-109.826223</td>\n",
              "      <td>31.712335</td>\n",
              "      <td>117.020000</td>\n",
              "      <td>4033.240000</td>\n",
              "      <td>2007.500000</td>\n",
              "      <td>3.000000</td>\n",
              "      <td>4.000000</td>\n",
              "      <td>4268.000000</td>\n",
              "      <td>3.000000</td>\n",
              "      <td>3.500000</td>\n",
              "      <td>42.000000</td>\n",
              "    </tr>\n",
              "    <tr>\n",
              "      <th>85611</th>\n",
              "      <td>1.953820e+07</td>\n",
              "      <td>7.323333e+05</td>\n",
              "      <td>-110.547408</td>\n",
              "      <td>31.625380</td>\n",
              "      <td>31.463333</td>\n",
              "      <td>6663.224444</td>\n",
              "      <td>1996.666667</td>\n",
              "      <td>4.777778</td>\n",
              "      <td>4.444444</td>\n",
              "      <td>4227.222222</td>\n",
              "      <td>3.000000</td>\n",
              "      <td>2.333333</td>\n",
              "      <td>0.000000</td>\n",
              "    </tr>\n",
              "    <tr>\n",
              "      <th>85614</th>\n",
              "      <td>1.347187e+07</td>\n",
              "      <td>6.224450e+05</td>\n",
              "      <td>-110.966724</td>\n",
              "      <td>31.843946</td>\n",
              "      <td>2.356596</td>\n",
              "      <td>5217.549400</td>\n",
              "      <td>2005.780000</td>\n",
              "      <td>3.360000</td>\n",
              "      <td>3.577778</td>\n",
              "      <td>3382.034483</td>\n",
              "      <td>2.890000</td>\n",
              "      <td>1.512821</td>\n",
              "      <td>1342.065217</td>\n",
              "    </tr>\n",
              "    <tr>\n",
              "      <th>85615</th>\n",
              "      <td>2.187890e+07</td>\n",
              "      <td>7.305000e+05</td>\n",
              "      <td>-110.248003</td>\n",
              "      <td>31.426579</td>\n",
              "      <td>4.186667</td>\n",
              "      <td>6853.133333</td>\n",
              "      <td>2008.666667</td>\n",
              "      <td>3.666667</td>\n",
              "      <td>4.333333</td>\n",
              "      <td>4267.333333</td>\n",
              "      <td>4.166667</td>\n",
              "      <td>2.666667</td>\n",
              "      <td>81.000000</td>\n",
              "    </tr>\n",
              "    <tr>\n",
              "      <th>85619</th>\n",
              "      <td>2.158275e+07</td>\n",
              "      <td>6.313743e+05</td>\n",
              "      <td>-110.756209</td>\n",
              "      <td>32.442326</td>\n",
              "      <td>0.284286</td>\n",
              "      <td>7736.445714</td>\n",
              "      <td>2007.000000</td>\n",
              "      <td>3.428571</td>\n",
              "      <td>2.857143</td>\n",
              "      <td>2320.571429</td>\n",
              "      <td>1.000000</td>\n",
              "      <td>1.285714</td>\n",
              "      <td>75.000000</td>\n",
              "    </tr>\n",
              "    <tr>\n",
              "      <th>85621</th>\n",
              "      <td>1.103873e+07</td>\n",
              "      <td>6.100000e+05</td>\n",
              "      <td>-110.893521</td>\n",
              "      <td>31.377198</td>\n",
              "      <td>12.062000</td>\n",
              "      <td>4280.528000</td>\n",
              "      <td>1994.800000</td>\n",
              "      <td>3.800000</td>\n",
              "      <td>4.000000</td>\n",
              "      <td>5365.400000</td>\n",
              "      <td>2.500000</td>\n",
              "      <td>2.000000</td>\n",
              "      <td>833.500000</td>\n",
              "    </tr>\n",
              "    <tr>\n",
              "      <th>85622</th>\n",
              "      <td>1.074484e+07</td>\n",
              "      <td>6.083160e+05</td>\n",
              "      <td>-111.014514</td>\n",
              "      <td>31.830721</td>\n",
              "      <td>2.301250</td>\n",
              "      <td>4718.582759</td>\n",
              "      <td>1997.517241</td>\n",
              "      <td>3.206897</td>\n",
              "      <td>3.758621</td>\n",
              "      <td>3578.307692</td>\n",
              "      <td>3.068966</td>\n",
              "      <td>1.640000</td>\n",
              "      <td>488.105263</td>\n",
              "    </tr>\n",
              "    <tr>\n",
              "      <th>85623</th>\n",
              "      <td>2.172410e+07</td>\n",
              "      <td>6.108871e+05</td>\n",
              "      <td>-110.894752</td>\n",
              "      <td>32.586536</td>\n",
              "      <td>1.980968</td>\n",
              "      <td>3226.105806</td>\n",
              "      <td>2007.516129</td>\n",
              "      <td>2.709677</td>\n",
              "      <td>3.580645</td>\n",
              "      <td>2629.483871</td>\n",
              "      <td>2.838710</td>\n",
              "      <td>1.032258</td>\n",
              "      <td>9587.821429</td>\n",
              "    </tr>\n",
              "    <tr>\n",
              "      <th>85624</th>\n",
              "      <td>2.166590e+07</td>\n",
              "      <td>8.072500e+05</td>\n",
              "      <td>-110.724171</td>\n",
              "      <td>31.568540</td>\n",
              "      <td>78.744000</td>\n",
              "      <td>4816.754000</td>\n",
              "      <td>1989.300000</td>\n",
              "      <td>3.400000</td>\n",
              "      <td>3.400000</td>\n",
              "      <td>3816.300000</td>\n",
              "      <td>1.300000</td>\n",
              "      <td>1.700000</td>\n",
              "      <td>17.142857</td>\n",
              "    </tr>\n",
              "    <tr>\n",
              "      <th>85625</th>\n",
              "      <td>2.182229e+07</td>\n",
              "      <td>5.300000e+05</td>\n",
              "      <td>-109.685284</td>\n",
              "      <td>31.879267</td>\n",
              "      <td>119.790000</td>\n",
              "      <td>2325.100000</td>\n",
              "      <td>1979.000000</td>\n",
              "      <td>3.000000</td>\n",
              "      <td>3.000000</td>\n",
              "      <td>3488.000000</td>\n",
              "      <td>3.000000</td>\n",
              "      <td>1.000000</td>\n",
              "      <td>0.000000</td>\n",
              "    </tr>\n",
              "    <tr>\n",
              "      <th>85629</th>\n",
              "      <td>1.909755e+07</td>\n",
              "      <td>6.078714e+05</td>\n",
              "      <td>-110.954668</td>\n",
              "      <td>31.888213</td>\n",
              "      <td>0.893571</td>\n",
              "      <td>2482.705714</td>\n",
              "      <td>2011.428571</td>\n",
              "      <td>3.571429</td>\n",
              "      <td>3.714286</td>\n",
              "      <td>3213.833333</td>\n",
              "      <td>3.642857</td>\n",
              "      <td>1.166667</td>\n",
              "      <td>776.000000</td>\n",
              "    </tr>\n",
              "    <tr>\n",
              "      <th>85630</th>\n",
              "      <td>2.168140e+07</td>\n",
              "      <td>5.966667e+05</td>\n",
              "      <td>-110.102175</td>\n",
              "      <td>31.903075</td>\n",
              "      <td>43.803333</td>\n",
              "      <td>5026.908889</td>\n",
              "      <td>2002.888889</td>\n",
              "      <td>3.666667</td>\n",
              "      <td>3.444444</td>\n",
              "      <td>3703.666667</td>\n",
              "      <td>2.722222</td>\n",
              "      <td>2.000000</td>\n",
              "      <td>783.555556</td>\n",
              "    </tr>\n",
              "    <tr>\n",
              "      <th>85637</th>\n",
              "      <td>2.151294e+07</td>\n",
              "      <td>9.202722e+05</td>\n",
              "      <td>-110.677684</td>\n",
              "      <td>31.674687</td>\n",
              "      <td>127.591481</td>\n",
              "      <td>5792.867778</td>\n",
              "      <td>1917.296296</td>\n",
              "      <td>4.185185</td>\n",
              "      <td>4.074074</td>\n",
              "      <td>3972.837037</td>\n",
              "      <td>2.259259</td>\n",
              "      <td>1.777778</td>\n",
              "      <td>24.727273</td>\n",
              "    </tr>\n",
              "    <tr>\n",
              "      <th>85638</th>\n",
              "      <td>2.190900e+07</td>\n",
              "      <td>5.000000e+05</td>\n",
              "      <td>-110.082311</td>\n",
              "      <td>31.712638</td>\n",
              "      <td>555.600000</td>\n",
              "      <td>4669.320000</td>\n",
              "      <td>1934.000000</td>\n",
              "      <td>11.000000</td>\n",
              "      <td>11.000000</td>\n",
              "      <td>5800.000000</td>\n",
              "      <td>0.000000</td>\n",
              "      <td>1.000000</td>\n",
              "      <td>NaN</td>\n",
              "    </tr>\n",
              "    <tr>\n",
              "      <th>85640</th>\n",
              "      <td>1.728996e+07</td>\n",
              "      <td>2.092880e+06</td>\n",
              "      <td>-111.044264</td>\n",
              "      <td>31.562124</td>\n",
              "      <td>111.510000</td>\n",
              "      <td>4876.200000</td>\n",
              "      <td>1952.250000</td>\n",
              "      <td>4.500000</td>\n",
              "      <td>4.625000</td>\n",
              "      <td>4470.000000</td>\n",
              "      <td>4.500000</td>\n",
              "      <td>4.000000</td>\n",
              "      <td>0.000000</td>\n",
              "    </tr>\n",
              "    <tr>\n",
              "      <th>85641</th>\n",
              "      <td>2.167900e+07</td>\n",
              "      <td>6.684119e+05</td>\n",
              "      <td>-110.681249</td>\n",
              "      <td>32.057651</td>\n",
              "      <td>12.969412</td>\n",
              "      <td>6409.453676</td>\n",
              "      <td>1999.308824</td>\n",
              "      <td>4.044118</td>\n",
              "      <td>4.352941</td>\n",
              "      <td>3889.941176</td>\n",
              "      <td>3.264706</td>\n",
              "      <td>1.970588</td>\n",
              "      <td>685.583333</td>\n",
              "    </tr>\n",
              "    <tr>\n",
              "      <th>85643</th>\n",
              "      <td>2.151121e+07</td>\n",
              "      <td>6.530000e+05</td>\n",
              "      <td>-110.067819</td>\n",
              "      <td>32.430516</td>\n",
              "      <td>282.840000</td>\n",
              "      <td>5395.710000</td>\n",
              "      <td>1975.000000</td>\n",
              "      <td>3.000000</td>\n",
              "      <td>3.000000</td>\n",
              "      <td>2550.500000</td>\n",
              "      <td>1.500000</td>\n",
              "      <td>1.000000</td>\n",
              "      <td>0.000000</td>\n",
              "    </tr>\n",
              "    <tr>\n",
              "      <th>85645</th>\n",
              "      <td>9.573159e+06</td>\n",
              "      <td>6.644444e+05</td>\n",
              "      <td>-111.156365</td>\n",
              "      <td>31.688771</td>\n",
              "      <td>101.535000</td>\n",
              "      <td>9632.617778</td>\n",
              "      <td>1738.888889</td>\n",
              "      <td>14.333333</td>\n",
              "      <td>14.000000</td>\n",
              "      <td>9281.333333</td>\n",
              "      <td>1.500000</td>\n",
              "      <td>1.857143</td>\n",
              "      <td>0.000000</td>\n",
              "    </tr>\n",
              "    <tr>\n",
              "      <th>85646</th>\n",
              "      <td>1.191024e+07</td>\n",
              "      <td>8.550687e+05</td>\n",
              "      <td>-111.037543</td>\n",
              "      <td>31.613154</td>\n",
              "      <td>81.080333</td>\n",
              "      <td>6355.936066</td>\n",
              "      <td>1993.114754</td>\n",
              "      <td>3.311475</td>\n",
              "      <td>3.700000</td>\n",
              "      <td>4151.479167</td>\n",
              "      <td>2.413793</td>\n",
              "      <td>2.745455</td>\n",
              "      <td>203.974359</td>\n",
              "    </tr>\n",
              "    <tr>\n",
              "      <th>85648</th>\n",
              "      <td>1.813814e+07</td>\n",
              "      <td>6.508090e+05</td>\n",
              "      <td>-110.943077</td>\n",
              "      <td>31.527664</td>\n",
              "      <td>33.402000</td>\n",
              "      <td>7170.214000</td>\n",
              "      <td>2008.200000</td>\n",
              "      <td>3.400000</td>\n",
              "      <td>4.200000</td>\n",
              "      <td>5345.200000</td>\n",
              "      <td>3.700000</td>\n",
              "      <td>2.000000</td>\n",
              "      <td>453.333333</td>\n",
              "    </tr>\n",
              "    <tr>\n",
              "      <th>85658</th>\n",
              "      <td>2.157511e+07</td>\n",
              "      <td>9.496158e+05</td>\n",
              "      <td>-111.077886</td>\n",
              "      <td>32.456490</td>\n",
              "      <td>0.992500</td>\n",
              "      <td>7964.730486</td>\n",
              "      <td>2002.902778</td>\n",
              "      <td>3.458333</td>\n",
              "      <td>3.885417</td>\n",
              "      <td>3514.020833</td>\n",
              "      <td>2.845486</td>\n",
              "      <td>1.829861</td>\n",
              "      <td>286.332103</td>\n",
              "    </tr>\n",
              "    <tr>\n",
              "      <th>85701</th>\n",
              "      <td>2.167213e+07</td>\n",
              "      <td>7.545480e+05</td>\n",
              "      <td>-110.969911</td>\n",
              "      <td>32.215461</td>\n",
              "      <td>0.203571</td>\n",
              "      <td>4722.789286</td>\n",
              "      <td>1802.071429</td>\n",
              "      <td>4.571429</td>\n",
              "      <td>3.714286</td>\n",
              "      <td>3603.142857</td>\n",
              "      <td>0.714286</td>\n",
              "      <td>1.214286</td>\n",
              "      <td>7.400000</td>\n",
              "    </tr>\n",
              "    <tr>\n",
              "      <th>85704</th>\n",
              "      <td>2.159606e+07</td>\n",
              "      <td>6.515679e+05</td>\n",
              "      <td>-110.975947</td>\n",
              "      <td>32.341266</td>\n",
              "      <td>1.687629</td>\n",
              "      <td>6259.507732</td>\n",
              "      <td>1989.257732</td>\n",
              "      <td>4.278351</td>\n",
              "      <td>3.824742</td>\n",
              "      <td>3718.443299</td>\n",
              "      <td>2.829897</td>\n",
              "      <td>1.701031</td>\n",
              "      <td>25.111111</td>\n",
              "    </tr>\n",
              "    <tr>\n",
              "      <th>85705</th>\n",
              "      <td>2.167889e+07</td>\n",
              "      <td>7.038535e+05</td>\n",
              "      <td>-110.966107</td>\n",
              "      <td>32.236093</td>\n",
              "      <td>0.279167</td>\n",
              "      <td>4779.673333</td>\n",
              "      <td>1921.833333</td>\n",
              "      <td>5.583333</td>\n",
              "      <td>4.416667</td>\n",
              "      <td>3679.333333</td>\n",
              "      <td>1.250000</td>\n",
              "      <td>1.583333</td>\n",
              "      <td>0.000000</td>\n",
              "    </tr>\n",
              "    <tr>\n",
              "      <th>85710</th>\n",
              "      <td>2.156319e+07</td>\n",
              "      <td>6.375000e+05</td>\n",
              "      <td>-110.852086</td>\n",
              "      <td>32.233286</td>\n",
              "      <td>0.875000</td>\n",
              "      <td>5678.935000</td>\n",
              "      <td>1979.500000</td>\n",
              "      <td>4.000000</td>\n",
              "      <td>3.500000</td>\n",
              "      <td>3402.000000</td>\n",
              "      <td>2.500000</td>\n",
              "      <td>3.500000</td>\n",
              "      <td>0.000000</td>\n",
              "    </tr>\n",
              "    <tr>\n",
              "      <th>85711</th>\n",
              "      <td>2.173617e+07</td>\n",
              "      <td>5.695000e+05</td>\n",
              "      <td>-110.886687</td>\n",
              "      <td>32.220947</td>\n",
              "      <td>1.425000</td>\n",
              "      <td>4261.938333</td>\n",
              "      <td>1959.500000</td>\n",
              "      <td>4.666667</td>\n",
              "      <td>3.833333</td>\n",
              "      <td>3819.666667</td>\n",
              "      <td>2.000000</td>\n",
              "      <td>1.333333</td>\n",
              "      <td>0.000000</td>\n",
              "    </tr>\n",
              "    <tr>\n",
              "      <th>85712</th>\n",
              "      <td>2.159585e+07</td>\n",
              "      <td>7.659505e+05</td>\n",
              "      <td>-110.883852</td>\n",
              "      <td>32.261400</td>\n",
              "      <td>1.048636</td>\n",
              "      <td>6768.810909</td>\n",
              "      <td>1990.204545</td>\n",
              "      <td>4.204545</td>\n",
              "      <td>4.000000</td>\n",
              "      <td>3729.000000</td>\n",
              "      <td>2.022727</td>\n",
              "      <td>2.090909</td>\n",
              "      <td>558.236842</td>\n",
              "    </tr>\n",
              "    <tr>\n",
              "      <th>85713</th>\n",
              "      <td>2.104086e+07</td>\n",
              "      <td>4.875000e+05</td>\n",
              "      <td>-111.082659</td>\n",
              "      <td>32.198482</td>\n",
              "      <td>0.420000</td>\n",
              "      <td>5672.520000</td>\n",
              "      <td>2004.000000</td>\n",
              "      <td>4.000000</td>\n",
              "      <td>3.000000</td>\n",
              "      <td>2985.000000</td>\n",
              "      <td>3.000000</td>\n",
              "      <td>1.000000</td>\n",
              "      <td>68.000000</td>\n",
              "    </tr>\n",
              "    <tr>\n",
              "      <th>85715</th>\n",
              "      <td>2.161209e+07</td>\n",
              "      <td>8.462759e+05</td>\n",
              "      <td>-110.856282</td>\n",
              "      <td>32.259091</td>\n",
              "      <td>2.015851</td>\n",
              "      <td>7473.206489</td>\n",
              "      <td>1974.053191</td>\n",
              "      <td>4.212766</td>\n",
              "      <td>4.159574</td>\n",
              "      <td>4172.776596</td>\n",
              "      <td>2.478723</td>\n",
              "      <td>2.308511</td>\n",
              "      <td>918.932584</td>\n",
              "    </tr>\n",
              "    <tr>\n",
              "      <th>85716</th>\n",
              "      <td>2.158114e+07</td>\n",
              "      <td>6.877104e+05</td>\n",
              "      <td>-110.924151</td>\n",
              "      <td>32.225275</td>\n",
              "      <td>0.540841</td>\n",
              "      <td>5161.646355</td>\n",
              "      <td>1954.186916</td>\n",
              "      <td>4.149533</td>\n",
              "      <td>3.887850</td>\n",
              "      <td>3536.616822</td>\n",
              "      <td>1.504673</td>\n",
              "      <td>1.934579</td>\n",
              "      <td>1.844156</td>\n",
              "    </tr>\n",
              "    <tr>\n",
              "      <th>85718</th>\n",
              "      <td>2.156859e+07</td>\n",
              "      <td>8.251585e+05</td>\n",
              "      <td>-110.919741</td>\n",
              "      <td>32.317749</td>\n",
              "      <td>1.290551</td>\n",
              "      <td>17077.336923</td>\n",
              "      <td>1989.206637</td>\n",
              "      <td>3.993213</td>\n",
              "      <td>3.892157</td>\n",
              "      <td>3853.447210</td>\n",
              "      <td>2.661388</td>\n",
              "      <td>2.110106</td>\n",
              "      <td>341.107518</td>\n",
              "    </tr>\n",
              "    <tr>\n",
              "      <th>85719</th>\n",
              "      <td>2.164035e+07</td>\n",
              "      <td>7.780317e+05</td>\n",
              "      <td>-110.941240</td>\n",
              "      <td>32.237847</td>\n",
              "      <td>0.268289</td>\n",
              "      <td>4561.107763</td>\n",
              "      <td>1964.394737</td>\n",
              "      <td>3.934211</td>\n",
              "      <td>3.697368</td>\n",
              "      <td>3254.750000</td>\n",
              "      <td>1.763158</td>\n",
              "      <td>1.486842</td>\n",
              "      <td>20.472727</td>\n",
              "    </tr>\n",
              "    <tr>\n",
              "      <th>85730</th>\n",
              "      <td>2.157508e+07</td>\n",
              "      <td>6.175555e+05</td>\n",
              "      <td>-110.753908</td>\n",
              "      <td>32.174909</td>\n",
              "      <td>3.830741</td>\n",
              "      <td>5622.456296</td>\n",
              "      <td>1996.666667</td>\n",
              "      <td>4.259259</td>\n",
              "      <td>3.925926</td>\n",
              "      <td>3760.185185</td>\n",
              "      <td>4.240741</td>\n",
              "      <td>1.629630</td>\n",
              "      <td>23.333333</td>\n",
              "    </tr>\n",
              "    <tr>\n",
              "      <th>85737</th>\n",
              "      <td>2.155774e+07</td>\n",
              "      <td>7.009165e+05</td>\n",
              "      <td>-110.973648</td>\n",
              "      <td>32.402670</td>\n",
              "      <td>1.243523</td>\n",
              "      <td>6963.337189</td>\n",
              "      <td>1999.387900</td>\n",
              "      <td>3.914591</td>\n",
              "      <td>3.551601</td>\n",
              "      <td>3536.128114</td>\n",
              "      <td>2.959075</td>\n",
              "      <td>1.729537</td>\n",
              "      <td>133.827068</td>\n",
              "    </tr>\n",
              "    <tr>\n",
              "      <th>85739</th>\n",
              "      <td>2.157653e+07</td>\n",
              "      <td>7.290251e+05</td>\n",
              "      <td>-110.871811</td>\n",
              "      <td>32.533288</td>\n",
              "      <td>0.765000</td>\n",
              "      <td>5299.445844</td>\n",
              "      <td>2004.759740</td>\n",
              "      <td>3.051948</td>\n",
              "      <td>3.402597</td>\n",
              "      <td>3147.954545</td>\n",
              "      <td>2.912338</td>\n",
              "      <td>1.207792</td>\n",
              "      <td>579.951389</td>\n",
              "    </tr>\n",
              "    <tr>\n",
              "      <th>85742</th>\n",
              "      <td>2.161375e+07</td>\n",
              "      <td>6.921062e+05</td>\n",
              "      <td>-111.036299</td>\n",
              "      <td>32.395284</td>\n",
              "      <td>2.625309</td>\n",
              "      <td>6533.731111</td>\n",
              "      <td>2001.160494</td>\n",
              "      <td>4.067901</td>\n",
              "      <td>3.839506</td>\n",
              "      <td>3732.024691</td>\n",
              "      <td>3.416667</td>\n",
              "      <td>1.598765</td>\n",
              "      <td>80.975806</td>\n",
              "    </tr>\n",
              "    <tr>\n",
              "      <th>85743</th>\n",
              "      <td>2.165040e+07</td>\n",
              "      <td>6.588326e+05</td>\n",
              "      <td>-111.100947</td>\n",
              "      <td>32.324445</td>\n",
              "      <td>4.024868</td>\n",
              "      <td>6910.489474</td>\n",
              "      <td>2002.907895</td>\n",
              "      <td>4.118421</td>\n",
              "      <td>3.868421</td>\n",
              "      <td>3831.473684</td>\n",
              "      <td>3.578947</td>\n",
              "      <td>1.815789</td>\n",
              "      <td>69.115385</td>\n",
              "    </tr>\n",
              "    <tr>\n",
              "      <th>85745</th>\n",
              "      <td>2.165612e+07</td>\n",
              "      <td>6.717710e+05</td>\n",
              "      <td>-111.054812</td>\n",
              "      <td>32.243281</td>\n",
              "      <td>2.929290</td>\n",
              "      <td>6563.632710</td>\n",
              "      <td>2002.974194</td>\n",
              "      <td>3.677419</td>\n",
              "      <td>3.664516</td>\n",
              "      <td>3502.922581</td>\n",
              "      <td>3.093548</td>\n",
              "      <td>1.632258</td>\n",
              "      <td>462.308943</td>\n",
              "    </tr>\n",
              "    <tr>\n",
              "      <th>85747</th>\n",
              "      <td>2.165747e+07</td>\n",
              "      <td>6.939067e+05</td>\n",
              "      <td>-110.735106</td>\n",
              "      <td>32.140634</td>\n",
              "      <td>8.015333</td>\n",
              "      <td>6219.003333</td>\n",
              "      <td>1995.533333</td>\n",
              "      <td>3.733333</td>\n",
              "      <td>3.533333</td>\n",
              "      <td>3697.200000</td>\n",
              "      <td>2.933333</td>\n",
              "      <td>1.733333</td>\n",
              "      <td>42.000000</td>\n",
              "    </tr>\n",
              "    <tr>\n",
              "      <th>85748</th>\n",
              "      <td>2.155807e+07</td>\n",
              "      <td>6.953823e+05</td>\n",
              "      <td>-110.741223</td>\n",
              "      <td>32.224930</td>\n",
              "      <td>4.495167</td>\n",
              "      <td>6349.866500</td>\n",
              "      <td>1993.783333</td>\n",
              "      <td>4.416667</td>\n",
              "      <td>4.050000</td>\n",
              "      <td>3977.316667</td>\n",
              "      <td>3.083333</td>\n",
              "      <td>1.933333</td>\n",
              "      <td>38.777778</td>\n",
              "    </tr>\n",
              "    <tr>\n",
              "      <th>85749</th>\n",
              "      <td>2.161068e+07</td>\n",
              "      <td>7.156697e+05</td>\n",
              "      <td>-110.750734</td>\n",
              "      <td>32.271566</td>\n",
              "      <td>3.391845</td>\n",
              "      <td>6269.516783</td>\n",
              "      <td>1996.184539</td>\n",
              "      <td>4.249377</td>\n",
              "      <td>3.972569</td>\n",
              "      <td>3874.548628</td>\n",
              "      <td>3.118454</td>\n",
              "      <td>1.980050</td>\n",
              "      <td>327.294643</td>\n",
              "    </tr>\n",
              "    <tr>\n",
              "      <th>85750</th>\n",
              "      <td>2.158195e+07</td>\n",
              "      <td>7.994184e+05</td>\n",
              "      <td>-110.848001</td>\n",
              "      <td>32.307413</td>\n",
              "      <td>1.182811</td>\n",
              "      <td>7244.741232</td>\n",
              "      <td>1994.587933</td>\n",
              "      <td>3.998716</td>\n",
              "      <td>3.700899</td>\n",
              "      <td>3765.598203</td>\n",
              "      <td>2.775353</td>\n",
              "      <td>1.962773</td>\n",
              "      <td>370.441137</td>\n",
              "    </tr>\n",
              "    <tr>\n",
              "      <th>85755</th>\n",
              "      <td>2.159876e+07</td>\n",
              "      <td>7.722333e+05</td>\n",
              "      <td>-110.982999</td>\n",
              "      <td>32.447842</td>\n",
              "      <td>1.385401</td>\n",
              "      <td>7044.195054</td>\n",
              "      <td>2000.748373</td>\n",
              "      <td>3.704989</td>\n",
              "      <td>3.748373</td>\n",
              "      <td>3495.284165</td>\n",
              "      <td>3.161605</td>\n",
              "      <td>1.620390</td>\n",
              "      <td>861.943439</td>\n",
              "    </tr>\n",
              "    <tr>\n",
              "      <th>85901</th>\n",
              "      <td>2.150749e+07</td>\n",
              "      <td>5.650000e+05</td>\n",
              "      <td>-110.088835</td>\n",
              "      <td>34.236965</td>\n",
              "      <td>1.020000</td>\n",
              "      <td>3942.540000</td>\n",
              "      <td>2002.000000</td>\n",
              "      <td>4.000000</td>\n",
              "      <td>4.000000</td>\n",
              "      <td>3321.000000</td>\n",
              "      <td>2.500000</td>\n",
              "      <td>2.000000</td>\n",
              "      <td>150.000000</td>\n",
              "    </tr>\n",
              "    <tr>\n",
              "      <th>85929</th>\n",
              "      <td>2.113016e+07</td>\n",
              "      <td>6.550000e+05</td>\n",
              "      <td>-109.963279</td>\n",
              "      <td>34.169427</td>\n",
              "      <td>10.000000</td>\n",
              "      <td>5644.000000</td>\n",
              "      <td>2006.000000</td>\n",
              "      <td>5.000000</td>\n",
              "      <td>3.000000</td>\n",
              "      <td>4648.000000</td>\n",
              "      <td>3.000000</td>\n",
              "      <td>2.000000</td>\n",
              "      <td>0.000000</td>\n",
              "    </tr>\n",
              "    <tr>\n",
              "      <th>85935</th>\n",
              "      <td>2.191499e+07</td>\n",
              "      <td>5.800000e+05</td>\n",
              "      <td>-109.861617</td>\n",
              "      <td>34.118430</td>\n",
              "      <td>0.350000</td>\n",
              "      <td>4679.000000</td>\n",
              "      <td>2003.000000</td>\n",
              "      <td>4.000000</td>\n",
              "      <td>4.000000</td>\n",
              "      <td>2771.000000</td>\n",
              "      <td>2.000000</td>\n",
              "      <td>1.000000</td>\n",
              "      <td>3333.000000</td>\n",
              "    </tr>\n",
              "    <tr>\n",
              "      <th>86024</th>\n",
              "      <td>2.181842e+07</td>\n",
              "      <td>1.800000e+06</td>\n",
              "      <td>-111.228462</td>\n",
              "      <td>34.596971</td>\n",
              "      <td>59.300000</td>\n",
              "      <td>4509.900000</td>\n",
              "      <td>2003.000000</td>\n",
              "      <td>2.000000</td>\n",
              "      <td>3.000000</td>\n",
              "      <td>1999.000000</td>\n",
              "      <td>2.000000</td>\n",
              "      <td>1.000000</td>\n",
              "      <td>NaN</td>\n",
              "    </tr>\n",
              "    <tr>\n",
              "      <th>86323</th>\n",
              "      <td>2.180458e+07</td>\n",
              "      <td>7.450000e+05</td>\n",
              "      <td>-112.520168</td>\n",
              "      <td>34.927884</td>\n",
              "      <td>36.300000</td>\n",
              "      <td>3379.980000</td>\n",
              "      <td>2004.000000</td>\n",
              "      <td>5.000000</td>\n",
              "      <td>3.000000</td>\n",
              "      <td>3670.000000</td>\n",
              "      <td>3.000000</td>\n",
              "      <td>1.000000</td>\n",
              "      <td>0.000000</td>\n",
              "    </tr>\n",
              "  </tbody>\n",
              "</table>\n",
              "</div>\n",
              "      <button class=\"colab-df-convert\" onclick=\"convertToInteractive('df-0f22c904-fb14-452c-a1c0-a3031a3ddc14')\"\n",
              "              title=\"Convert this dataframe to an interactive table.\"\n",
              "              style=\"display:none;\">\n",
              "        \n",
              "  <svg xmlns=\"http://www.w3.org/2000/svg\" height=\"24px\"viewBox=\"0 0 24 24\"\n",
              "       width=\"24px\">\n",
              "    <path d=\"M0 0h24v24H0V0z\" fill=\"none\"/>\n",
              "    <path d=\"M18.56 5.44l.94 2.06.94-2.06 2.06-.94-2.06-.94-.94-2.06-.94 2.06-2.06.94zm-11 1L8.5 8.5l.94-2.06 2.06-.94-2.06-.94L8.5 2.5l-.94 2.06-2.06.94zm10 10l.94 2.06.94-2.06 2.06-.94-2.06-.94-.94-2.06-.94 2.06-2.06.94z\"/><path d=\"M17.41 7.96l-1.37-1.37c-.4-.4-.92-.59-1.43-.59-.52 0-1.04.2-1.43.59L10.3 9.45l-7.72 7.72c-.78.78-.78 2.05 0 2.83L4 21.41c.39.39.9.59 1.41.59.51 0 1.02-.2 1.41-.59l7.78-7.78 2.81-2.81c.8-.78.8-2.07 0-2.86zM5.41 20L4 18.59l7.72-7.72 1.47 1.35L5.41 20z\"/>\n",
              "  </svg>\n",
              "      </button>\n",
              "      \n",
              "  <style>\n",
              "    .colab-df-container {\n",
              "      display:flex;\n",
              "      flex-wrap:wrap;\n",
              "      gap: 12px;\n",
              "    }\n",
              "\n",
              "    .colab-df-convert {\n",
              "      background-color: #E8F0FE;\n",
              "      border: none;\n",
              "      border-radius: 50%;\n",
              "      cursor: pointer;\n",
              "      display: none;\n",
              "      fill: #1967D2;\n",
              "      height: 32px;\n",
              "      padding: 0 0 0 0;\n",
              "      width: 32px;\n",
              "    }\n",
              "\n",
              "    .colab-df-convert:hover {\n",
              "      background-color: #E2EBFA;\n",
              "      box-shadow: 0px 1px 2px rgba(60, 64, 67, 0.3), 0px 1px 3px 1px rgba(60, 64, 67, 0.15);\n",
              "      fill: #174EA6;\n",
              "    }\n",
              "\n",
              "    [theme=dark] .colab-df-convert {\n",
              "      background-color: #3B4455;\n",
              "      fill: #D2E3FC;\n",
              "    }\n",
              "\n",
              "    [theme=dark] .colab-df-convert:hover {\n",
              "      background-color: #434B5C;\n",
              "      box-shadow: 0px 1px 3px 1px rgba(0, 0, 0, 0.15);\n",
              "      filter: drop-shadow(0px 1px 2px rgba(0, 0, 0, 0.3));\n",
              "      fill: #FFFFFF;\n",
              "    }\n",
              "  </style>\n",
              "\n",
              "      <script>\n",
              "        const buttonEl =\n",
              "          document.querySelector('#df-0f22c904-fb14-452c-a1c0-a3031a3ddc14 button.colab-df-convert');\n",
              "        buttonEl.style.display =\n",
              "          google.colab.kernel.accessAllowed ? 'block' : 'none';\n",
              "\n",
              "        async function convertToInteractive(key) {\n",
              "          const element = document.querySelector('#df-0f22c904-fb14-452c-a1c0-a3031a3ddc14');\n",
              "          const dataTable =\n",
              "            await google.colab.kernel.invokeFunction('convertToInteractive',\n",
              "                                                     [key], {});\n",
              "          if (!dataTable) return;\n",
              "\n",
              "          const docLinkHtml = 'Like what you see? Visit the ' +\n",
              "            '<a target=\"_blank\" href=https://colab.research.google.com/notebooks/data_table.ipynb>data table notebook</a>'\n",
              "            + ' to learn more about interactive tables.';\n",
              "          element.innerHTML = '';\n",
              "          dataTable['output_type'] = 'display_data';\n",
              "          await google.colab.output.renderOutput(dataTable, element);\n",
              "          const docLink = document.createElement('div');\n",
              "          docLink.innerHTML = docLinkHtml;\n",
              "          element.appendChild(docLink);\n",
              "        }\n",
              "      </script>\n",
              "    </div>\n",
              "  </div>\n",
              "  "
            ]
          },
          "metadata": {},
          "execution_count": 1254
        }
      ]
    },
    {
      "cell_type": "code",
      "source": [
        "house_df['HOA'] = house_df.groupby('zipcode')['HOA'].transform(lambda x: x.fillna(x.mean()))\n",
        "\n",
        "#filling in missing values in the 'HOA' column of the dataframe with the mean value of 'HOA' for each zipcode."
      ],
      "metadata": {
        "id": "brQ7sxfgYr2z"
      },
      "execution_count": 1255,
      "outputs": []
    },
    {
      "cell_type": "code",
      "source": [
        "fig,ax=plt.subplots(figsize=(10,6))\n",
        "ax.scatter(house_df['HOA'],house_df['zipcode'])\n",
        "ax.set_xlabel('HOA')\n",
        "ax.set_ylabel('zipcode')"
      ],
      "metadata": {
        "colab": {
          "base_uri": "https://localhost:8080/",
          "height": 406
        },
        "id": "8CdkVi6SSN6w",
        "outputId": "123ca8f1-5ed2-4b74-836e-4a95f706c9e5"
      },
      "execution_count": 1256,
      "outputs": [
        {
          "output_type": "execute_result",
          "data": {
            "text/plain": [
              "Text(0, 0.5, 'zipcode')"
            ]
          },
          "metadata": {},
          "execution_count": 1256
        },
        {
          "output_type": "display_data",
          "data": {
            "text/plain": [
              "<Figure size 720x432 with 1 Axes>"
            ],
            "image/png": "[encoded data removed]"
          },
          "metadata": {
            "needs_background": "light"
          }
        }
      ]
    },
    {
      "cell_type": "code",
      "source": [
        "house_df = house_df.replace( np.nan,'None')  \n",
        "\n",
        "#replacing all NaN values with the string 'None'. "
      ],
      "metadata": {
        "id": "tQoh1gCw5HHB"
      },
      "execution_count": 1257,
      "outputs": []
    },
    {
      "cell_type": "code",
      "source": [
        "for col in house_df.columns:\n",
        "    print(f\"Column {col} has {(house_df[col] == 'None').sum()} None values\")\n",
        "\n",
        "#iterates through each column in a dataframe and prints out the number of values in each column that are equal to 'None'."
      ],
      "metadata": {
        "colab": {
          "base_uri": "https://localhost:8080/"
        },
        "id": "njc1jw1E4A3s",
        "outputId": "2d1edbf0-0d3d-4cef-bc2a-70d9205d923b"
      },
      "execution_count": 1258,
      "outputs": [
        {
          "output_type": "stream",
          "name": "stdout",
          "text": [
            "Column MLS has 0 None values\n",
            "Column sold_price has 0 None values\n",
            "Column zipcode has 0 None values\n",
            "Column longitude has 0 None values\n",
            "Column latitude has 0 None values\n",
            "Column lot_acres has 10 None values\n",
            "Column taxes has 0 None values\n",
            "Column year_built has 0 None values\n",
            "Column bedrooms has 0 None values\n",
            "Column bathrooms has 6 None values\n",
            "Column sqrt_ft has 56 None values\n",
            "Column garage has 7 None values\n",
            "Column kitchen_features has 33 None values\n",
            "Column fireplaces has 25 None values\n",
            "Column floor_covering has 1 None values\n",
            "Column HOA has 6 None values\n"
          ]
        }
      ]
    },
    {
      "cell_type": "code",
      "source": [
        "house_df = house_df[~(house_df == 'None').any(axis=1)]\n",
        "\n",
        "#remove any rows that contain a value of \"None\" in any column "
      ],
      "metadata": {
        "id": "qSVv90vYTJox"
      },
      "execution_count": 1259,
      "outputs": []
    },
    {
      "cell_type": "code",
      "source": [
        "for col in house_df.columns:\n",
        "    print(f\"Column {col} has {(house_df[col] == 'None').sum()} None values\")"
      ],
      "metadata": {
        "colab": {
          "base_uri": "https://localhost:8080/"
        },
        "id": "DKQnMwLx6q0f",
        "outputId": "d5105845-4249-4017-ea5d-539ff2c14f06"
      },
      "execution_count": 1260,
      "outputs": [
        {
          "output_type": "stream",
          "name": "stdout",
          "text": [
            "Column MLS has 0 None values\n",
            "Column sold_price has 0 None values\n",
            "Column zipcode has 0 None values\n",
            "Column longitude has 0 None values\n",
            "Column latitude has 0 None values\n",
            "Column lot_acres has 0 None values\n",
            "Column taxes has 0 None values\n",
            "Column year_built has 0 None values\n",
            "Column bedrooms has 0 None values\n",
            "Column bathrooms has 0 None values\n",
            "Column sqrt_ft has 0 None values\n",
            "Column garage has 0 None values\n",
            "Column kitchen_features has 0 None values\n",
            "Column fireplaces has 0 None values\n",
            "Column floor_covering has 0 None values\n",
            "Column HOA has 0 None values\n"
          ]
        }
      ]
    },
    {
      "cell_type": "code",
      "source": [
        "for col in house_df.columns:\n",
        "    print(f\"Column {col} has {(house_df[col] == 0).sum()} Zero values\")\n",
        "# iterates through each column in the dataframe and prints the number of zero values in that column. "
      ],
      "metadata": {
        "colab": {
          "base_uri": "https://localhost:8080/"
        },
        "id": "2mc5C9oFOe7Y",
        "outputId": "7df9b912-b477-4afe-f8a9-9f8ecf181f8d"
      },
      "execution_count": 1261,
      "outputs": [
        {
          "output_type": "stream",
          "name": "stdout",
          "text": [
            "Column MLS has 0 Zero values\n",
            "Column sold_price has 0 Zero values\n",
            "Column zipcode has 0 Zero values\n",
            "Column longitude has 0 Zero values\n",
            "Column latitude has 0 Zero values\n",
            "Column lot_acres has 35 Zero values\n",
            "Column taxes has 22 Zero values\n",
            "Column year_built has 5 Zero values\n",
            "Column bedrooms has 0 Zero values\n",
            "Column bathrooms has 0 Zero values\n",
            "Column sqrt_ft has 0 Zero values\n",
            "Column garage has 178 Zero values\n",
            "Column kitchen_features has 0 Zero values\n",
            "Column fireplaces has 299 Zero values\n",
            "Column floor_covering has 0 Zero values\n",
            "Column HOA has 831 Zero values\n"
          ]
        }
      ]
    },
    {
      "cell_type": "code",
      "source": [
        "house_df['year_built'] = house_df['year_built'][house_df['year_built'] != 0]\n",
        "\n",
        "# dropping all rows from the dataframe where the year_built column contains a 0 "
      ],
      "metadata": {
        "id": "Chf9ka7T-0oM",
        "colab": {
          "base_uri": "https://localhost:8080/"
        },
        "outputId": "2333b450-ed55-4b67-c2a7-1ec5666654b7"
      },
      "execution_count": 1262,
      "outputs": [
        {
          "output_type": "stream",
          "name": "stderr",
          "text": [
            "<ipython-input-1262-2ee28de864e5>:1: SettingWithCopyWarning: \n",
            "A value is trying to be set on a copy of a slice from a DataFrame.\n",
            "Try using .loc[row_indexer,col_indexer] = value instead\n",
            "\n",
            "See the caveats in the documentation: https://pandas.pydata.org/pandas-docs/stable/user_guide/indexing.html#returning-a-view-versus-a-copy\n",
            "  house_df['year_built'] = house_df['year_built'][house_df['year_built'] != 0]\n"
          ]
        }
      ]
    },
    {
      "cell_type": "code",
      "source": [
        "for col in house_df.columns:\n",
        "    print(f\"Column {col} has {(house_df[col] == 0).sum()} Zero values\")"
      ],
      "metadata": {
        "colab": {
          "base_uri": "https://localhost:8080/"
        },
        "id": "J7Pa3brj720o",
        "outputId": "2427c288-696b-40f2-e841-babe36cede9e"
      },
      "execution_count": 1263,
      "outputs": [
        {
          "output_type": "stream",
          "name": "stdout",
          "text": [
            "Column MLS has 0 Zero values\n",
            "Column sold_price has 0 Zero values\n",
            "Column zipcode has 0 Zero values\n",
            "Column longitude has 0 Zero values\n",
            "Column latitude has 0 Zero values\n",
            "Column lot_acres has 35 Zero values\n",
            "Column taxes has 22 Zero values\n",
            "Column year_built has 0 Zero values\n",
            "Column bedrooms has 0 Zero values\n",
            "Column bathrooms has 0 Zero values\n",
            "Column sqrt_ft has 0 Zero values\n",
            "Column garage has 178 Zero values\n",
            "Column kitchen_features has 0 Zero values\n",
            "Column fireplaces has 299 Zero values\n",
            "Column floor_covering has 0 Zero values\n",
            "Column HOA has 831 Zero values\n"
          ]
        }
      ]
    },
    {
      "cell_type": "code",
      "source": [
        "house_df.HOA.value_counts().nlargest(10).plot(kind='bar',figsize=(10,5))"
      ],
      "metadata": {
        "colab": {
          "base_uri": "https://localhost:8080/",
          "height": 439
        },
        "id": "7FpBWEAFFEgE",
        "outputId": "2dc6bac2-78fc-4918-9e82-f73fba86277d"
      },
      "execution_count": 1264,
      "outputs": [
        {
          "output_type": "execute_result",
          "data": {
            "text/plain": [
              "<Axes: >"
            ]
          },
          "metadata": {},
          "execution_count": 1264
        },
        {
          "output_type": "display_data",
          "data": {
            "text/plain": [
              "<Figure size 720x360 with 1 Axes>"
            ],
            "image/png": "[encoded data removed]"
          },
          "metadata": {
            "needs_background": "light"
          }
        }
      ]
    },
    {
      "cell_type": "code",
      "source": [
        "house_df=house_df.dropna()\n",
        "#dropping any rows with a missing value"
      ],
      "metadata": {
        "id": "05rApym5Pu39"
      },
      "execution_count": 1265,
      "outputs": []
    },
    {
      "cell_type": "code",
      "source": [
        "house_df.count()"
      ],
      "metadata": {
        "colab": {
          "base_uri": "https://localhost:8080/"
        },
        "id": "1GEH7PXWxm6h",
        "outputId": "23769d41-c396-43dc-8ac0-d240aeeca9a9"
      },
      "execution_count": 1266,
      "outputs": [
        {
          "output_type": "execute_result",
          "data": {
            "text/plain": [
              "MLS                 4899\n",
              "sold_price          4899\n",
              "zipcode             4899\n",
              "longitude           4899\n",
              "latitude            4899\n",
              "lot_acres           4899\n",
              "taxes               4899\n",
              "year_built          4899\n",
              "bedrooms            4899\n",
              "bathrooms           4899\n",
              "sqrt_ft             4899\n",
              "garage              4899\n",
              "kitchen_features    4899\n",
              "fireplaces          4899\n",
              "floor_covering      4899\n",
              "HOA                 4899\n",
              "dtype: int64"
            ]
          },
          "metadata": {},
          "execution_count": 1266
        }
      ]
    },
    {
      "cell_type": "code",
      "source": [
        "house_df.isnull().sum() "
      ],
      "metadata": {
        "colab": {
          "base_uri": "https://localhost:8080/"
        },
        "id": "g_ye0yEkxo9f",
        "outputId": "dde849ab-57c9-4324-865e-8e2b9aac6ced"
      },
      "execution_count": 1267,
      "outputs": [
        {
          "output_type": "execute_result",
          "data": {
            "text/plain": [
              "MLS                 0\n",
              "sold_price          0\n",
              "zipcode             0\n",
              "longitude           0\n",
              "latitude            0\n",
              "lot_acres           0\n",
              "taxes               0\n",
              "year_built          0\n",
              "bedrooms            0\n",
              "bathrooms           0\n",
              "sqrt_ft             0\n",
              "garage              0\n",
              "kitchen_features    0\n",
              "fireplaces          0\n",
              "floor_covering      0\n",
              "HOA                 0\n",
              "dtype: int64"
            ]
          },
          "metadata": {},
          "execution_count": 1267
        }
      ]
    },
    {
      "cell_type": "code",
      "source": [
        "house_df['price_Per_Sqrt_ft'] = house_df['sold_price']/house_df['sqrt_ft']"
      ],
      "metadata": {
        "id": "7xPW9UXmN9FE",
        "colab": {
          "base_uri": "https://localhost:8080/"
        },
        "outputId": "a5d396f6-e8f8-46aa-d450-1a770f8a0846"
      },
      "execution_count": 1268,
      "outputs": [
        {
          "output_type": "stream",
          "name": "stderr",
          "text": [
            "<ipython-input-1268-6346c30ac6c8>:1: SettingWithCopyWarning: \n",
            "A value is trying to be set on a copy of a slice from a DataFrame.\n",
            "Try using .loc[row_indexer,col_indexer] = value instead\n",
            "\n",
            "See the caveats in the documentation: https://pandas.pydata.org/pandas-docs/stable/user_guide/indexing.html#returning-a-view-versus-a-copy\n",
            "  house_df['price_Per_Sqrt_ft'] = house_df['sold_price']/house_df['sqrt_ft']\n"
          ]
        }
      ]
    },
    {
      "cell_type": "code",
      "source": [
        "house_df['lot_rate'] = house_df['lot_acres']*43560 /house_df['sqrt_ft']"
      ],
      "metadata": {
        "id": "cgJW5vVzm5iv",
        "colab": {
          "base_uri": "https://localhost:8080/"
        },
        "outputId": "d23c8109-31a3-4f7c-b5eb-276e136337db"
      },
      "execution_count": 1269,
      "outputs": [
        {
          "output_type": "stream",
          "name": "stderr",
          "text": [
            "<ipython-input-1269-6a2f04f2523d>:1: SettingWithCopyWarning: \n",
            "A value is trying to be set on a copy of a slice from a DataFrame.\n",
            "Try using .loc[row_indexer,col_indexer] = value instead\n",
            "\n",
            "See the caveats in the documentation: https://pandas.pydata.org/pandas-docs/stable/user_guide/indexing.html#returning-a-view-versus-a-copy\n",
            "  house_df['lot_rate'] = house_df['lot_acres']*43560 /house_df['sqrt_ft']\n"
          ]
        }
      ]
    },
    {
      "cell_type": "code",
      "source": [
        "house_df = house_df.replace(np.inf, np.nan)\n",
        "house_df.dropna()"
      ],
      "metadata": {
        "colab": {
          "base_uri": "https://localhost:8080/",
          "height": 921
        },
        "id": "UeRGZe9yqkkL",
        "outputId": "ca98afc6-4fa4-494a-f675-288f506c4eb7"
      },
      "execution_count": 1270,
      "outputs": [
        {
          "output_type": "execute_result",
          "data": {
            "text/plain": [
              "           MLS  sold_price  zipcode   longitude   latitude lot_acres  \\\n",
              "0     21530491   5300000.0    85637 -110.378200  31.356362    2154.0   \n",
              "1     21529082   4200000.0    85646 -111.045371  31.594213    1707.0   \n",
              "3     21919321   4500000.0    85646 -111.035925  31.645878    636.67   \n",
              "4     21306357   3411450.0    85750 -110.813768  32.285162      3.21   \n",
              "5     21528016   3250000.0    85718 -110.910593  32.339090      1.67   \n",
              "...        ...         ...      ...         ...        ...       ...   \n",
              "4993  21908358    565000.0    85750 -110.820216  32.307646      0.83   \n",
              "4994  21909379    535000.0    85718 -110.922291  32.317496      0.18   \n",
              "4995  21810382    495000.0    85641 -110.661829  31.907917      4.98   \n",
              "4996  21908591    550000.0    85750 -110.858556  32.316373      1.42   \n",
              "4998  21900515    550000.0    85745 -111.055528  32.296871      1.01   \n",
              "\n",
              "         taxes  year_built  bedrooms bathrooms  sqrt_ft garage  \\\n",
              "0      5272.00      1941.0      13.0      10.0  10500.0    0.0   \n",
              "1     10422.36      1997.0       2.0       2.0   7300.0    0.0   \n",
              "3      8418.58      1930.0       7.0       5.0   9019.0    4.0   \n",
              "4     15393.00      1995.0       4.0       6.0   6396.0    3.0   \n",
              "5     27802.84      1999.0       3.0       4.0   6842.0    3.0   \n",
              "...        ...         ...       ...       ...      ...    ...   \n",
              "4993   4568.71      1986.0       4.0       3.0   2813.0    2.0   \n",
              "4994   4414.00      2002.0       3.0       2.0   2106.0    2.0   \n",
              "4995   2017.00      2005.0       5.0       3.0   3601.0    3.0   \n",
              "4996   4822.01      1990.0       4.0       3.0   2318.0    3.0   \n",
              "4998   5822.93      2009.0       4.0       4.0   3724.0    3.0   \n",
              "\n",
              "                                       kitchen_features fireplaces  \\\n",
              "0               Dishwasher, Freezer, Refrigerator, Oven        6.0   \n",
              "1                          Dishwasher, Garbage Disposal        5.0   \n",
              "3     Dishwasher, Double Sink, Pantry: Butler, Refri...        4.0   \n",
              "4     Dishwasher, Garbage Disposal, Refrigerator, Mi...        5.0   \n",
              "5     Dishwasher, Garbage Disposal, Refrigerator, Mi...        5.0   \n",
              "...                                                 ...        ...   \n",
              "4993  Dishwasher, Double Sink, Electric Range, Garba...        2.0   \n",
              "4994  Dishwasher, Double Sink, Electric Range, Garba...        1.0   \n",
              "4995  Dishwasher, Double Sink, Garbage Disposal, Gas...        1.0   \n",
              "4996  Dishwasher, Double Sink, Electric Range, Garba...        1.0   \n",
              "4998  Dishwasher, Double Sink, Garbage Disposal, Gas...        1.0   \n",
              "\n",
              "                    floor_covering         HOA price_Per_Sqrt_ft      lot_rate  \n",
              "0               Mexican Tile, Wood         0.0        504.761905   8936.022857  \n",
              "1             Natural Stone, Other         0.0        575.342466  10185.879452  \n",
              "3     Ceramic Tile, Laminate, Wood  203.974359        498.946668   3074.991152  \n",
              "4                 Carpet, Concrete        55.0         533.37242     21.861726  \n",
              "5       Natural Stone, Wood, Other       422.0        475.007308     10.632154  \n",
              "...                            ...         ...               ...           ...  \n",
              "4993          Carpet, Mexican Tile         6.0        200.853182     12.852755  \n",
              "4994                  Ceramic Tile       198.0        254.036087      3.723077  \n",
              "4995          Carpet, Ceramic Tile  685.583333        137.461816     60.241266  \n",
              "4996          Carpet, Ceramic Tile        43.0        237.273512     26.684728  \n",
              "4998          Carpet, Ceramic Tile  462.308943        147.690655     11.814071  \n",
              "\n",
              "[4899 rows x 18 columns]"
            ],
            "text/html": [
              "\n",
              "  <div id=\"df-e1342d07-36cb-4406-98b0-a353a22574f0\">\n",
              "    <div class=\"colab-df-container\">\n",
              "      <div>\n",
              "<style scoped>\n",
              "    .dataframe tbody tr th:only-of-type {\n",
              "        vertical-align: middle;\n",
              "    }\n",
              "\n",
              "    .dataframe tbody tr th {\n",
              "        vertical-align: top;\n",
              "    }\n",
              "\n",
              "    .dataframe thead th {\n",
              "        text-align: right;\n",
              "    }\n",
              "</style>\n",
              "<table border=\"1\" class=\"dataframe\">\n",
              "  <thead>\n",
              "    <tr style=\"text-align: right;\">\n",
              "      <th></th>\n",
              "      <th>MLS</th>\n",
              "      <th>sold_price</th>\n",
              "      <th>zipcode</th>\n",
              "      <th>longitude</th>\n",
              "      <th>latitude</th>\n",
              "      <th>lot_acres</th>\n",
              "      <th>taxes</th>\n",
              "      <th>year_built</th>\n",
              "      <th>bedrooms</th>\n",
              "      <th>bathrooms</th>\n",
              "      <th>sqrt_ft</th>\n",
              "      <th>garage</th>\n",
              "      <th>kitchen_features</th>\n",
              "      <th>fireplaces</th>\n",
              "      <th>floor_covering</th>\n",
              "      <th>HOA</th>\n",
              "      <th>price_Per_Sqrt_ft</th>\n",
              "      <th>lot_rate</th>\n",
              "    </tr>\n",
              "  </thead>\n",
              "  <tbody>\n",
              "    <tr>\n",
              "      <th>0</th>\n",
              "      <td>21530491</td>\n",
              "      <td>5300000.0</td>\n",
              "      <td>85637</td>\n",
              "      <td>-110.378200</td>\n",
              "      <td>31.356362</td>\n",
              "      <td>2154.0</td>\n",
              "      <td>5272.00</td>\n",
              "      <td>1941.0</td>\n",
              "      <td>13.0</td>\n",
              "      <td>10.0</td>\n",
              "      <td>10500.0</td>\n",
              "      <td>0.0</td>\n",
              "      <td>Dishwasher, Freezer, Refrigerator, Oven</td>\n",
              "      <td>6.0</td>\n",
              "      <td>Mexican Tile, Wood</td>\n",
              "      <td>0.0</td>\n",
              "      <td>504.761905</td>\n",
              "      <td>8936.022857</td>\n",
              "    </tr>\n",
              "    <tr>\n",
              "      <th>1</th>\n",
              "      <td>21529082</td>\n",
              "      <td>4200000.0</td>\n",
              "      <td>85646</td>\n",
              "      <td>-111.045371</td>\n",
              "      <td>31.594213</td>\n",
              "      <td>1707.0</td>\n",
              "      <td>10422.36</td>\n",
              "      <td>1997.0</td>\n",
              "      <td>2.0</td>\n",
              "      <td>2.0</td>\n",
              "      <td>7300.0</td>\n",
              "      <td>0.0</td>\n",
              "      <td>Dishwasher, Garbage Disposal</td>\n",
              "      <td>5.0</td>\n",
              "      <td>Natural Stone, Other</td>\n",
              "      <td>0.0</td>\n",
              "      <td>575.342466</td>\n",
              "      <td>10185.879452</td>\n",
              "    </tr>\n",
              "    <tr>\n",
              "      <th>3</th>\n",
              "      <td>21919321</td>\n",
              "      <td>4500000.0</td>\n",
              "      <td>85646</td>\n",
              "      <td>-111.035925</td>\n",
              "      <td>31.645878</td>\n",
              "      <td>636.67</td>\n",
              "      <td>8418.58</td>\n",
              "      <td>1930.0</td>\n",
              "      <td>7.0</td>\n",
              "      <td>5.0</td>\n",
              "      <td>9019.0</td>\n",
              "      <td>4.0</td>\n",
              "      <td>Dishwasher, Double Sink, Pantry: Butler, Refri...</td>\n",
              "      <td>4.0</td>\n",
              "      <td>Ceramic Tile, Laminate, Wood</td>\n",
              "      <td>203.974359</td>\n",
              "      <td>498.946668</td>\n",
              "      <td>3074.991152</td>\n",
              "    </tr>\n",
              "    <tr>\n",
              "      <th>4</th>\n",
              "      <td>21306357</td>\n",
              "      <td>3411450.0</td>\n",
              "      <td>85750</td>\n",
              "      <td>-110.813768</td>\n",
              "      <td>32.285162</td>\n",
              "      <td>3.21</td>\n",
              "      <td>15393.00</td>\n",
              "      <td>1995.0</td>\n",
              "      <td>4.0</td>\n",
              "      <td>6.0</td>\n",
              "      <td>6396.0</td>\n",
              "      <td>3.0</td>\n",
              "      <td>Dishwasher, Garbage Disposal, Refrigerator, Mi...</td>\n",
              "      <td>5.0</td>\n",
              "      <td>Carpet, Concrete</td>\n",
              "      <td>55.0</td>\n",
              "      <td>533.37242</td>\n",
              "      <td>21.861726</td>\n",
              "    </tr>\n",
              "    <tr>\n",
              "      <th>5</th>\n",
              "      <td>21528016</td>\n",
              "      <td>3250000.0</td>\n",
              "      <td>85718</td>\n",
              "      <td>-110.910593</td>\n",
              "      <td>32.339090</td>\n",
              "      <td>1.67</td>\n",
              "      <td>27802.84</td>\n",
              "      <td>1999.0</td>\n",
              "      <td>3.0</td>\n",
              "      <td>4.0</td>\n",
              "      <td>6842.0</td>\n",
              "      <td>3.0</td>\n",
              "      <td>Dishwasher, Garbage Disposal, Refrigerator, Mi...</td>\n",
              "      <td>5.0</td>\n",
              "      <td>Natural Stone, Wood, Other</td>\n",
              "      <td>422.0</td>\n",
              "      <td>475.007308</td>\n",
              "      <td>10.632154</td>\n",
              "    </tr>\n",
              "    <tr>\n",
              "      <th>...</th>\n",
              "      <td>...</td>\n",
              "      <td>...</td>\n",
              "      <td>...</td>\n",
              "      <td>...</td>\n",
              "      <td>...</td>\n",
              "      <td>...</td>\n",
              "      <td>...</td>\n",
              "      <td>...</td>\n",
              "      <td>...</td>\n",
              "      <td>...</td>\n",
              "      <td>...</td>\n",
              "      <td>...</td>\n",
              "      <td>...</td>\n",
              "      <td>...</td>\n",
              "      <td>...</td>\n",
              "      <td>...</td>\n",
              "      <td>...</td>\n",
              "      <td>...</td>\n",
              "    </tr>\n",
              "    <tr>\n",
              "      <th>4993</th>\n",
              "      <td>21908358</td>\n",
              "      <td>565000.0</td>\n",
              "      <td>85750</td>\n",
              "      <td>-110.820216</td>\n",
              "      <td>32.307646</td>\n",
              "      <td>0.83</td>\n",
              "      <td>4568.71</td>\n",
              "      <td>1986.0</td>\n",
              "      <td>4.0</td>\n",
              "      <td>3.0</td>\n",
              "      <td>2813.0</td>\n",
              "      <td>2.0</td>\n",
              "      <td>Dishwasher, Double Sink, Electric Range, Garba...</td>\n",
              "      <td>2.0</td>\n",
              "      <td>Carpet, Mexican Tile</td>\n",
              "      <td>6.0</td>\n",
              "      <td>200.853182</td>\n",
              "      <td>12.852755</td>\n",
              "    </tr>\n",
              "    <tr>\n",
              "      <th>4994</th>\n",
              "      <td>21909379</td>\n",
              "      <td>535000.0</td>\n",
              "      <td>85718</td>\n",
              "      <td>-110.922291</td>\n",
              "      <td>32.317496</td>\n",
              "      <td>0.18</td>\n",
              "      <td>4414.00</td>\n",
              "      <td>2002.0</td>\n",
              "      <td>3.0</td>\n",
              "      <td>2.0</td>\n",
              "      <td>2106.0</td>\n",
              "      <td>2.0</td>\n",
              "      <td>Dishwasher, Double Sink, Electric Range, Garba...</td>\n",
              "      <td>1.0</td>\n",
              "      <td>Ceramic Tile</td>\n",
              "      <td>198.0</td>\n",
              "      <td>254.036087</td>\n",
              "      <td>3.723077</td>\n",
              "    </tr>\n",
              "    <tr>\n",
              "      <th>4995</th>\n",
              "      <td>21810382</td>\n",
              "      <td>495000.0</td>\n",
              "      <td>85641</td>\n",
              "      <td>-110.661829</td>\n",
              "      <td>31.907917</td>\n",
              "      <td>4.98</td>\n",
              "      <td>2017.00</td>\n",
              "      <td>2005.0</td>\n",
              "      <td>5.0</td>\n",
              "      <td>3.0</td>\n",
              "      <td>3601.0</td>\n",
              "      <td>3.0</td>\n",
              "      <td>Dishwasher, Double Sink, Garbage Disposal, Gas...</td>\n",
              "      <td>1.0</td>\n",
              "      <td>Carpet, Ceramic Tile</td>\n",
              "      <td>685.583333</td>\n",
              "      <td>137.461816</td>\n",
              "      <td>60.241266</td>\n",
              "    </tr>\n",
              "    <tr>\n",
              "      <th>4996</th>\n",
              "      <td>21908591</td>\n",
              "      <td>550000.0</td>\n",
              "      <td>85750</td>\n",
              "      <td>-110.858556</td>\n",
              "      <td>32.316373</td>\n",
              "      <td>1.42</td>\n",
              "      <td>4822.01</td>\n",
              "      <td>1990.0</td>\n",
              "      <td>4.0</td>\n",
              "      <td>3.0</td>\n",
              "      <td>2318.0</td>\n",
              "      <td>3.0</td>\n",
              "      <td>Dishwasher, Double Sink, Electric Range, Garba...</td>\n",
              "      <td>1.0</td>\n",
              "      <td>Carpet, Ceramic Tile</td>\n",
              "      <td>43.0</td>\n",
              "      <td>237.273512</td>\n",
              "      <td>26.684728</td>\n",
              "    </tr>\n",
              "    <tr>\n",
              "      <th>4998</th>\n",
              "      <td>21900515</td>\n",
              "      <td>550000.0</td>\n",
              "      <td>85745</td>\n",
              "      <td>-111.055528</td>\n",
              "      <td>32.296871</td>\n",
              "      <td>1.01</td>\n",
              "      <td>5822.93</td>\n",
              "      <td>2009.0</td>\n",
              "      <td>4.0</td>\n",
              "      <td>4.0</td>\n",
              "      <td>3724.0</td>\n",
              "      <td>3.0</td>\n",
              "      <td>Dishwasher, Double Sink, Garbage Disposal, Gas...</td>\n",
              "      <td>1.0</td>\n",
              "      <td>Carpet, Ceramic Tile</td>\n",
              "      <td>462.308943</td>\n",
              "      <td>147.690655</td>\n",
              "      <td>11.814071</td>\n",
              "    </tr>\n",
              "  </tbody>\n",
              "</table>\n",
              "<p>4899 rows × 18 columns</p>\n",
              "</div>\n",
              "      <button class=\"colab-df-convert\" onclick=\"convertToInteractive('df-e1342d07-36cb-4406-98b0-a353a22574f0')\"\n",
              "              title=\"Convert this dataframe to an interactive table.\"\n",
              "              style=\"display:none;\">\n",
              "        \n",
              "  <svg xmlns=\"http://www.w3.org/2000/svg\" height=\"24px\"viewBox=\"0 0 24 24\"\n",
              "       width=\"24px\">\n",
              "    <path d=\"M0 0h24v24H0V0z\" fill=\"none\"/>\n",
              "    <path d=\"M18.56 5.44l.94 2.06.94-2.06 2.06-.94-2.06-.94-.94-2.06-.94 2.06-2.06.94zm-11 1L8.5 8.5l.94-2.06 2.06-.94-2.06-.94L8.5 2.5l-.94 2.06-2.06.94zm10 10l.94 2.06.94-2.06 2.06-.94-2.06-.94-.94-2.06-.94 2.06-2.06.94z\"/><path d=\"M17.41 7.96l-1.37-1.37c-.4-.4-.92-.59-1.43-.59-.52 0-1.04.2-1.43.59L10.3 9.45l-7.72 7.72c-.78.78-.78 2.05 0 2.83L4 21.41c.39.39.9.59 1.41.59.51 0 1.02-.2 1.41-.59l7.78-7.78 2.81-2.81c.8-.78.8-2.07 0-2.86zM5.41 20L4 18.59l7.72-7.72 1.47 1.35L5.41 20z\"/>\n",
              "  </svg>\n",
              "      </button>\n",
              "      \n",
              "  <style>\n",
              "    .colab-df-container {\n",
              "      display:flex;\n",
              "      flex-wrap:wrap;\n",
              "      gap: 12px;\n",
              "    }\n",
              "\n",
              "    .colab-df-convert {\n",
              "      background-color: #E8F0FE;\n",
              "      border: none;\n",
              "      border-radius: 50%;\n",
              "      cursor: pointer;\n",
              "      display: none;\n",
              "      fill: #1967D2;\n",
              "      height: 32px;\n",
              "      padding: 0 0 0 0;\n",
              "      width: 32px;\n",
              "    }\n",
              "\n",
              "    .colab-df-convert:hover {\n",
              "      background-color: #E2EBFA;\n",
              "      box-shadow: 0px 1px 2px rgba(60, 64, 67, 0.3), 0px 1px 3px 1px rgba(60, 64, 67, 0.15);\n",
              "      fill: #174EA6;\n",
              "    }\n",
              "\n",
              "    [theme=dark] .colab-df-convert {\n",
              "      background-color: #3B4455;\n",
              "      fill: #D2E3FC;\n",
              "    }\n",
              "\n",
              "    [theme=dark] .colab-df-convert:hover {\n",
              "      background-color: #434B5C;\n",
              "      box-shadow: 0px 1px 3px 1px rgba(0, 0, 0, 0.15);\n",
              "      filter: drop-shadow(0px 1px 2px rgba(0, 0, 0, 0.3));\n",
              "      fill: #FFFFFF;\n",
              "    }\n",
              "  </style>\n",
              "\n",
              "      <script>\n",
              "        const buttonEl =\n",
              "          document.querySelector('#df-e1342d07-36cb-4406-98b0-a353a22574f0 button.colab-df-convert');\n",
              "        buttonEl.style.display =\n",
              "          google.colab.kernel.accessAllowed ? 'block' : 'none';\n",
              "\n",
              "        async function convertToInteractive(key) {\n",
              "          const element = document.querySelector('#df-e1342d07-36cb-4406-98b0-a353a22574f0');\n",
              "          const dataTable =\n",
              "            await google.colab.kernel.invokeFunction('convertToInteractive',\n",
              "                                                     [key], {});\n",
              "          if (!dataTable) return;\n",
              "\n",
              "          const docLinkHtml = 'Like what you see? Visit the ' +\n",
              "            '<a target=\"_blank\" href=https://colab.research.google.com/notebooks/data_table.ipynb>data table notebook</a>'\n",
              "            + ' to learn more about interactive tables.';\n",
              "          element.innerHTML = '';\n",
              "          dataTable['output_type'] = 'display_data';\n",
              "          await google.colab.output.renderOutput(dataTable, element);\n",
              "          const docLink = document.createElement('div');\n",
              "          docLink.innerHTML = docLinkHtml;\n",
              "          element.appendChild(docLink);\n",
              "        }\n",
              "      </script>\n",
              "    </div>\n",
              "  </div>\n",
              "  "
            ]
          },
          "metadata": {},
          "execution_count": 1270
        }
      ]
    },
    {
      "cell_type": "markdown",
      "source": [
        "## create a new column for price range\n"
      ],
      "metadata": {
        "id": "dQbB3BG5y66Z"
      }
    },
    {
      "cell_type": "code",
      "source": [
        "house_df['price_range'] = 0"
      ],
      "metadata": {
        "id": "gXpDZ-Tfy5en"
      },
      "execution_count": 1271,
      "outputs": []
    },
    {
      "cell_type": "code",
      "source": [
        "# assign values to price range column\n",
        "house_df.loc[house_df['price_Per_Sqrt_ft'] <= 100, 'price_range'] = 1\n",
        "house_df.loc[(house_df['price_Per_Sqrt_ft'] > 100) & (house_df['price_Per_Sqrt_ft'] <= 200), 'price_range'] = 2\n",
        "house_df.loc[(house_df['price_Per_Sqrt_ft'] > 200) & (house_df['price_Per_Sqrt_ft'] <= 300), 'price_range'] = 3\n",
        "house_df.loc[(house_df['price_Per_Sqrt_ft'] > 300) & (house_df['price_Per_Sqrt_ft'] <= 400), 'price_range'] = 4\n",
        "house_df.loc[(house_df['price_Per_Sqrt_ft'] > 400) & (house_df['price_Per_Sqrt_ft'] <= 500), 'price_range'] = 5\n",
        "house_df.loc[(house_df['price_Per_Sqrt_ft'] > 500) & (house_df['price_Per_Sqrt_ft'] <= 600), 'price_range'] = 6\n",
        "house_df.loc[(house_df['price_Per_Sqrt_ft'] > 600) & (house_df['price_Per_Sqrt_ft'] <= 700), 'price_range'] = 7\n",
        "house_df.loc[(house_df['price_Per_Sqrt_ft'] > 700) & (house_df['price_Per_Sqrt_ft'] <= 800), 'price_range'] = 8\n",
        "house_df.loc[(house_df['price_Per_Sqrt_ft'] > 800) & (house_df['price_Per_Sqrt_ft'] <= 900), 'price_range'] = 9\n",
        "house_df.loc[house_df['price_Per_Sqrt_ft'] > 900, 'price_range'] = 10"
      ],
      "metadata": {
        "id": "56RTfriHyf85"
      },
      "execution_count": 1272,
      "outputs": []
    },
    {
      "cell_type": "code",
      "source": [
        "house_df.head()"
      ],
      "metadata": {
        "colab": {
          "base_uri": "https://localhost:8080/",
          "height": 443
        },
        "id": "E26MQNiJygE3",
        "outputId": "2089169e-a822-4dbf-e5fc-f0ca739548ad"
      },
      "execution_count": 1273,
      "outputs": [
        {
          "output_type": "execute_result",
          "data": {
            "text/plain": [
              "        MLS  sold_price  zipcode   longitude   latitude lot_acres     taxes  \\\n",
              "0  21530491   5300000.0    85637 -110.378200  31.356362    2154.0   5272.00   \n",
              "1  21529082   4200000.0    85646 -111.045371  31.594213    1707.0  10422.36   \n",
              "3  21919321   4500000.0    85646 -111.035925  31.645878    636.67   8418.58   \n",
              "4  21306357   3411450.0    85750 -110.813768  32.285162      3.21  15393.00   \n",
              "5  21528016   3250000.0    85718 -110.910593  32.339090      1.67  27802.84   \n",
              "\n",
              "   year_built  bedrooms bathrooms  sqrt_ft garage  \\\n",
              "0      1941.0      13.0      10.0  10500.0    0.0   \n",
              "1      1997.0       2.0       2.0   7300.0    0.0   \n",
              "3      1930.0       7.0       5.0   9019.0    4.0   \n",
              "4      1995.0       4.0       6.0   6396.0    3.0   \n",
              "5      1999.0       3.0       4.0   6842.0    3.0   \n",
              "\n",
              "                                    kitchen_features fireplaces  \\\n",
              "0            Dishwasher, Freezer, Refrigerator, Oven        6.0   \n",
              "1                       Dishwasher, Garbage Disposal        5.0   \n",
              "3  Dishwasher, Double Sink, Pantry: Butler, Refri...        4.0   \n",
              "4  Dishwasher, Garbage Disposal, Refrigerator, Mi...        5.0   \n",
              "5  Dishwasher, Garbage Disposal, Refrigerator, Mi...        5.0   \n",
              "\n",
              "                 floor_covering         HOA price_Per_Sqrt_ft      lot_rate  \\\n",
              "0            Mexican Tile, Wood         0.0        504.761905   8936.022857   \n",
              "1          Natural Stone, Other         0.0        575.342466  10185.879452   \n",
              "3  Ceramic Tile, Laminate, Wood  203.974359        498.946668   3074.991152   \n",
              "4              Carpet, Concrete        55.0         533.37242     21.861726   \n",
              "5    Natural Stone, Wood, Other       422.0        475.007308     10.632154   \n",
              "\n",
              "   price_range  \n",
              "0            6  \n",
              "1            6  \n",
              "3            5  \n",
              "4            6  \n",
              "5            5  "
            ],
            "text/html": [
              "\n",
              "  <div id=\"df-d7708b67-b71f-4cfa-92ce-0078837926f4\">\n",
              "    <div class=\"colab-df-container\">\n",
              "      <div>\n",
              "<style scoped>\n",
              "    .dataframe tbody tr th:only-of-type {\n",
              "        vertical-align: middle;\n",
              "    }\n",
              "\n",
              "    .dataframe tbody tr th {\n",
              "        vertical-align: top;\n",
              "    }\n",
              "\n",
              "    .dataframe thead th {\n",
              "        text-align: right;\n",
              "    }\n",
              "</style>\n",
              "<table border=\"1\" class=\"dataframe\">\n",
              "  <thead>\n",
              "    <tr style=\"text-align: right;\">\n",
              "      <th></th>\n",
              "      <th>MLS</th>\n",
              "      <th>sold_price</th>\n",
              "      <th>zipcode</th>\n",
              "      <th>longitude</th>\n",
              "      <th>latitude</th>\n",
              "      <th>lot_acres</th>\n",
              "      <th>taxes</th>\n",
              "      <th>year_built</th>\n",
              "      <th>bedrooms</th>\n",
              "      <th>bathrooms</th>\n",
              "      <th>sqrt_ft</th>\n",
              "      <th>garage</th>\n",
              "      <th>kitchen_features</th>\n",
              "      <th>fireplaces</th>\n",
              "      <th>floor_covering</th>\n",
              "      <th>HOA</th>\n",
              "      <th>price_Per_Sqrt_ft</th>\n",
              "      <th>lot_rate</th>\n",
              "      <th>price_range</th>\n",
              "    </tr>\n",
              "  </thead>\n",
              "  <tbody>\n",
              "    <tr>\n",
              "      <th>0</th>\n",
              "      <td>21530491</td>\n",
              "      <td>5300000.0</td>\n",
              "      <td>85637</td>\n",
              "      <td>-110.378200</td>\n",
              "      <td>31.356362</td>\n",
              "      <td>2154.0</td>\n",
              "      <td>5272.00</td>\n",
              "      <td>1941.0</td>\n",
              "      <td>13.0</td>\n",
              "      <td>10.0</td>\n",
              "      <td>10500.0</td>\n",
              "      <td>0.0</td>\n",
              "      <td>Dishwasher, Freezer, Refrigerator, Oven</td>\n",
              "      <td>6.0</td>\n",
              "      <td>Mexican Tile, Wood</td>\n",
              "      <td>0.0</td>\n",
              "      <td>504.761905</td>\n",
              "      <td>8936.022857</td>\n",
              "      <td>6</td>\n",
              "    </tr>\n",
              "    <tr>\n",
              "      <th>1</th>\n",
              "      <td>21529082</td>\n",
              "      <td>4200000.0</td>\n",
              "      <td>85646</td>\n",
              "      <td>-111.045371</td>\n",
              "      <td>31.594213</td>\n",
              "      <td>1707.0</td>\n",
              "      <td>10422.36</td>\n",
              "      <td>1997.0</td>\n",
              "      <td>2.0</td>\n",
              "      <td>2.0</td>\n",
              "      <td>7300.0</td>\n",
              "      <td>0.0</td>\n",
              "      <td>Dishwasher, Garbage Disposal</td>\n",
              "      <td>5.0</td>\n",
              "      <td>Natural Stone, Other</td>\n",
              "      <td>0.0</td>\n",
              "      <td>575.342466</td>\n",
              "      <td>10185.879452</td>\n",
              "      <td>6</td>\n",
              "    </tr>\n",
              "    <tr>\n",
              "      <th>3</th>\n",
              "      <td>21919321</td>\n",
              "      <td>4500000.0</td>\n",
              "      <td>85646</td>\n",
              "      <td>-111.035925</td>\n",
              "      <td>31.645878</td>\n",
              "      <td>636.67</td>\n",
              "      <td>8418.58</td>\n",
              "      <td>1930.0</td>\n",
              "      <td>7.0</td>\n",
              "      <td>5.0</td>\n",
              "      <td>9019.0</td>\n",
              "      <td>4.0</td>\n",
              "      <td>Dishwasher, Double Sink, Pantry: Butler, Refri...</td>\n",
              "      <td>4.0</td>\n",
              "      <td>Ceramic Tile, Laminate, Wood</td>\n",
              "      <td>203.974359</td>\n",
              "      <td>498.946668</td>\n",
              "      <td>3074.991152</td>\n",
              "      <td>5</td>\n",
              "    </tr>\n",
              "    <tr>\n",
              "      <th>4</th>\n",
              "      <td>21306357</td>\n",
              "      <td>3411450.0</td>\n",
              "      <td>85750</td>\n",
              "      <td>-110.813768</td>\n",
              "      <td>32.285162</td>\n",
              "      <td>3.21</td>\n",
              "      <td>15393.00</td>\n",
              "      <td>1995.0</td>\n",
              "      <td>4.0</td>\n",
              "      <td>6.0</td>\n",
              "      <td>6396.0</td>\n",
              "      <td>3.0</td>\n",
              "      <td>Dishwasher, Garbage Disposal, Refrigerator, Mi...</td>\n",
              "      <td>5.0</td>\n",
              "      <td>Carpet, Concrete</td>\n",
              "      <td>55.0</td>\n",
              "      <td>533.37242</td>\n",
              "      <td>21.861726</td>\n",
              "      <td>6</td>\n",
              "    </tr>\n",
              "    <tr>\n",
              "      <th>5</th>\n",
              "      <td>21528016</td>\n",
              "      <td>3250000.0</td>\n",
              "      <td>85718</td>\n",
              "      <td>-110.910593</td>\n",
              "      <td>32.339090</td>\n",
              "      <td>1.67</td>\n",
              "      <td>27802.84</td>\n",
              "      <td>1999.0</td>\n",
              "      <td>3.0</td>\n",
              "      <td>4.0</td>\n",
              "      <td>6842.0</td>\n",
              "      <td>3.0</td>\n",
              "      <td>Dishwasher, Garbage Disposal, Refrigerator, Mi...</td>\n",
              "      <td>5.0</td>\n",
              "      <td>Natural Stone, Wood, Other</td>\n",
              "      <td>422.0</td>\n",
              "      <td>475.007308</td>\n",
              "      <td>10.632154</td>\n",
              "      <td>5</td>\n",
              "    </tr>\n",
              "  </tbody>\n",
              "</table>\n",
              "</div>\n",
              "      <button class=\"colab-df-convert\" onclick=\"convertToInteractive('df-d7708b67-b71f-4cfa-92ce-0078837926f4')\"\n",
              "              title=\"Convert this dataframe to an interactive table.\"\n",
              "              style=\"display:none;\">\n",
              "        \n",
              "  <svg xmlns=\"http://www.w3.org/2000/svg\" height=\"24px\"viewBox=\"0 0 24 24\"\n",
              "       width=\"24px\">\n",
              "    <path d=\"M0 0h24v24H0V0z\" fill=\"none\"/>\n",
              "    <path d=\"M18.56 5.44l.94 2.06.94-2.06 2.06-.94-2.06-.94-.94-2.06-.94 2.06-2.06.94zm-11 1L8.5 8.5l.94-2.06 2.06-.94-2.06-.94L8.5 2.5l-.94 2.06-2.06.94zm10 10l.94 2.06.94-2.06 2.06-.94-2.06-.94-.94-2.06-.94 2.06-2.06.94z\"/><path d=\"M17.41 7.96l-1.37-1.37c-.4-.4-.92-.59-1.43-.59-.52 0-1.04.2-1.43.59L10.3 9.45l-7.72 7.72c-.78.78-.78 2.05 0 2.83L4 21.41c.39.39.9.59 1.41.59.51 0 1.02-.2 1.41-.59l7.78-7.78 2.81-2.81c.8-.78.8-2.07 0-2.86zM5.41 20L4 18.59l7.72-7.72 1.47 1.35L5.41 20z\"/>\n",
              "  </svg>\n",
              "      </button>\n",
              "      \n",
              "  <style>\n",
              "    .colab-df-container {\n",
              "      display:flex;\n",
              "      flex-wrap:wrap;\n",
              "      gap: 12px;\n",
              "    }\n",
              "\n",
              "    .colab-df-convert {\n",
              "      background-color: #E8F0FE;\n",
              "      border: none;\n",
              "      border-radius: 50%;\n",
              "      cursor: pointer;\n",
              "      display: none;\n",
              "      fill: #1967D2;\n",
              "      height: 32px;\n",
              "      padding: 0 0 0 0;\n",
              "      width: 32px;\n",
              "    }\n",
              "\n",
              "    .colab-df-convert:hover {\n",
              "      background-color: #E2EBFA;\n",
              "      box-shadow: 0px 1px 2px rgba(60, 64, 67, 0.3), 0px 1px 3px 1px rgba(60, 64, 67, 0.15);\n",
              "      fill: #174EA6;\n",
              "    }\n",
              "\n",
              "    [theme=dark] .colab-df-convert {\n",
              "      background-color: #3B4455;\n",
              "      fill: #D2E3FC;\n",
              "    }\n",
              "\n",
              "    [theme=dark] .colab-df-convert:hover {\n",
              "      background-color: #434B5C;\n",
              "      box-shadow: 0px 1px 3px 1px rgba(0, 0, 0, 0.15);\n",
              "      filter: drop-shadow(0px 1px 2px rgba(0, 0, 0, 0.3));\n",
              "      fill: #FFFFFF;\n",
              "    }\n",
              "  </style>\n",
              "\n",
              "      <script>\n",
              "        const buttonEl =\n",
              "          document.querySelector('#df-d7708b67-b71f-4cfa-92ce-0078837926f4 button.colab-df-convert');\n",
              "        buttonEl.style.display =\n",
              "          google.colab.kernel.accessAllowed ? 'block' : 'none';\n",
              "\n",
              "        async function convertToInteractive(key) {\n",
              "          const element = document.querySelector('#df-d7708b67-b71f-4cfa-92ce-0078837926f4');\n",
              "          const dataTable =\n",
              "            await google.colab.kernel.invokeFunction('convertToInteractive',\n",
              "                                                     [key], {});\n",
              "          if (!dataTable) return;\n",
              "\n",
              "          const docLinkHtml = 'Like what you see? Visit the ' +\n",
              "            '<a target=\"_blank\" href=https://colab.research.google.com/notebooks/data_table.ipynb>data table notebook</a>'\n",
              "            + ' to learn more about interactive tables.';\n",
              "          element.innerHTML = '';\n",
              "          dataTable['output_type'] = 'display_data';\n",
              "          await google.colab.output.renderOutput(dataTable, element);\n",
              "          const docLink = document.createElement('div');\n",
              "          docLink.innerHTML = docLinkHtml;\n",
              "          element.appendChild(docLink);\n",
              "        }\n",
              "      </script>\n",
              "    </div>\n",
              "  </div>\n",
              "  "
            ]
          },
          "metadata": {},
          "execution_count": 1273
        }
      ]
    },
    {
      "cell_type": "code",
      "source": [
        "house_df['latitude']"
      ],
      "metadata": {
        "colab": {
          "base_uri": "https://localhost:8080/"
        },
        "id": "nOmRVNf3837p",
        "outputId": "0c30caaa-5e72-47a9-ea2d-02de5d97cd10"
      },
      "execution_count": 1274,
      "outputs": [
        {
          "output_type": "execute_result",
          "data": {
            "text/plain": [
              "0       31.356362\n",
              "1       31.594213\n",
              "3       31.645878\n",
              "4       32.285162\n",
              "5       32.339090\n",
              "          ...    \n",
              "4993    32.307646\n",
              "4994    32.317496\n",
              "4995    31.907917\n",
              "4996    32.316373\n",
              "4998    32.296871\n",
              "Name: latitude, Length: 4899, dtype: float64"
            ]
          },
          "metadata": {},
          "execution_count": 1274
        }
      ]
    },
    {
      "cell_type": "code",
      "source": [
        "house_df['latitude']=house_df['latitude']*1000000\n",
        "house_df['longitude']=house_df['longitude']*1000000\n",
        "house_df['latitude']"
      ],
      "metadata": {
        "colab": {
          "base_uri": "https://localhost:8080/"
        },
        "id": "0ChYMnMU1RQC",
        "outputId": "d1f51ced-ea7f-40a1-b23c-d87385f1ba4d"
      },
      "execution_count": 1275,
      "outputs": [
        {
          "output_type": "execute_result",
          "data": {
            "text/plain": [
              "0       31356362.0\n",
              "1       31594213.0\n",
              "3       31645878.0\n",
              "4       32285162.0\n",
              "5       32339090.0\n",
              "           ...    \n",
              "4993    32307646.0\n",
              "4994    32317496.0\n",
              "4995    31907917.0\n",
              "4996    32316373.0\n",
              "4998    32296871.0\n",
              "Name: latitude, Length: 4899, dtype: float64"
            ]
          },
          "metadata": {},
          "execution_count": 1275
        }
      ]
    },
    {
      "cell_type": "code",
      "source": [
        "house_df['latitude'] = house_df['latitude'].astype(int)\n",
        "house_df['longitude'] = house_df['longitude'].astype(int)\n",
        "house_df['lot_rate'] = house_df['lot_rate'].astype(int)\n",
        "house_df['sold_price'] = house_df['sold_price'].astype(int)\n",
        "house_df['sqrt_ft'] = house_df['sqrt_ft'].astype(int)\n",
        "house_df['price_Per_Sqrt_ft'] = house_df['price_Per_Sqrt_ft'].astype(int)\n",
        "  \n"
      ],
      "metadata": {
        "id": "UcQI-6ZxBYAH"
      },
      "execution_count": 1276,
      "outputs": []
    },
    {
      "cell_type": "code",
      "source": [
        "house_df.dtypes"
      ],
      "metadata": {
        "colab": {
          "base_uri": "https://localhost:8080/"
        },
        "id": "3nhmWbHhgsPj",
        "outputId": "32e1932b-9218-4fb5-d57a-531c6bcdc0a3"
      },
      "execution_count": 1277,
      "outputs": [
        {
          "output_type": "execute_result",
          "data": {
            "text/plain": [
              "MLS                    int64\n",
              "sold_price             int64\n",
              "zipcode                int64\n",
              "longitude              int64\n",
              "latitude               int64\n",
              "lot_acres             object\n",
              "taxes                float64\n",
              "year_built           float64\n",
              "bedrooms             float64\n",
              "bathrooms             object\n",
              "sqrt_ft                int64\n",
              "garage                object\n",
              "kitchen_features      object\n",
              "fireplaces            object\n",
              "floor_covering        object\n",
              "HOA                   object\n",
              "price_Per_Sqrt_ft      int64\n",
              "lot_rate               int64\n",
              "price_range            int64\n",
              "dtype: object"
            ]
          },
          "metadata": {},
          "execution_count": 1277
        }
      ]
    },
    {
      "cell_type": "code",
      "source": [
        "X=house_df[['price_range','latitude','longitude','zipcode']].copy()"
      ],
      "metadata": {
        "id": "5oeDhJVRPbT1"
      },
      "execution_count": 1278,
      "outputs": []
    },
    {
      "cell_type": "code",
      "source": [
        "usecase=house_df[['price_range','lot_acres','lot_rate','sqrt_ft','latitude','longitude','sold_price','price_Per_Sqrt_ft']].copy()\n",
        "usecase"
      ],
      "metadata": {
        "colab": {
          "base_uri": "https://localhost:8080/",
          "height": 423
        },
        "id": "Q1l67Cg02_pc",
        "outputId": "898f795b-b919-4937-a32a-5f0330b52354"
      },
      "execution_count": 1279,
      "outputs": [
        {
          "output_type": "execute_result",
          "data": {
            "text/plain": [
              "      price_range lot_acres  lot_rate  sqrt_ft  latitude  longitude  \\\n",
              "0               6    2154.0      8936    10500  31356362 -110378200   \n",
              "1               6    1707.0     10185     7300  31594213 -111045371   \n",
              "3               5    636.67      3074     9019  31645878 -111035925   \n",
              "4               6      3.21        21     6396  32285162 -110813768   \n",
              "5               5      1.67        10     6842  32339090 -110910593   \n",
              "...           ...       ...       ...      ...       ...        ...   \n",
              "4993            3      0.83        12     2813  32307646 -110820216   \n",
              "4994            3      0.18         3     2106  32317496 -110922291   \n",
              "4995            2      4.98        60     3601  31907917 -110661829   \n",
              "4996            3      1.42        26     2318  32316373 -110858556   \n",
              "4998            2      1.01        11     3724  32296871 -111055528   \n",
              "\n",
              "      sold_price  price_Per_Sqrt_ft  \n",
              "0        5300000                504  \n",
              "1        4200000                575  \n",
              "3        4500000                498  \n",
              "4        3411450                533  \n",
              "5        3250000                475  \n",
              "...          ...                ...  \n",
              "4993      565000                200  \n",
              "4994      535000                254  \n",
              "4995      495000                137  \n",
              "4996      550000                237  \n",
              "4998      550000                147  \n",
              "\n",
              "[4899 rows x 8 columns]"
            ],
            "text/html": [
              "\n",
              "  <div id=\"df-80c320f0-1e49-4e5e-b16a-2413649300de\">\n",
              "    <div class=\"colab-df-container\">\n",
              "      <div>\n",
              "<style scoped>\n",
              "    .dataframe tbody tr th:only-of-type {\n",
              "        vertical-align: middle;\n",
              "    }\n",
              "\n",
              "    .dataframe tbody tr th {\n",
              "        vertical-align: top;\n",
              "    }\n",
              "\n",
              "    .dataframe thead th {\n",
              "        text-align: right;\n",
              "    }\n",
              "</style>\n",
              "<table border=\"1\" class=\"dataframe\">\n",
              "  <thead>\n",
              "    <tr style=\"text-align: right;\">\n",
              "      <th></th>\n",
              "      <th>price_range</th>\n",
              "      <th>lot_acres</th>\n",
              "      <th>lot_rate</th>\n",
              "      <th>sqrt_ft</th>\n",
              "      <th>latitude</th>\n",
              "      <th>longitude</th>\n",
              "      <th>sold_price</th>\n",
              "      <th>price_Per_Sqrt_ft</th>\n",
              "    </tr>\n",
              "  </thead>\n",
              "  <tbody>\n",
              "    <tr>\n",
              "      <th>0</th>\n",
              "      <td>6</td>\n",
              "      <td>2154.0</td>\n",
              "      <td>8936</td>\n",
              "      <td>10500</td>\n",
              "      <td>31356362</td>\n",
              "      <td>-110378200</td>\n",
              "      <td>5300000</td>\n",
              "      <td>504</td>\n",
              "    </tr>\n",
              "    <tr>\n",
              "      <th>1</th>\n",
              "      <td>6</td>\n",
              "      <td>1707.0</td>\n",
              "      <td>10185</td>\n",
              "      <td>7300</td>\n",
              "      <td>31594213</td>\n",
              "      <td>-111045371</td>\n",
              "      <td>4200000</td>\n",
              "      <td>575</td>\n",
              "    </tr>\n",
              "    <tr>\n",
              "      <th>3</th>\n",
              "      <td>5</td>\n",
              "      <td>636.67</td>\n",
              "      <td>3074</td>\n",
              "      <td>9019</td>\n",
              "      <td>31645878</td>\n",
              "      <td>-111035925</td>\n",
              "      <td>4500000</td>\n",
              "      <td>498</td>\n",
              "    </tr>\n",
              "    <tr>\n",
              "      <th>4</th>\n",
              "      <td>6</td>\n",
              "      <td>3.21</td>\n",
              "      <td>21</td>\n",
              "      <td>6396</td>\n",
              "      <td>32285162</td>\n",
              "      <td>-110813768</td>\n",
              "      <td>3411450</td>\n",
              "      <td>533</td>\n",
              "    </tr>\n",
              "    <tr>\n",
              "      <th>5</th>\n",
              "      <td>5</td>\n",
              "      <td>1.67</td>\n",
              "      <td>10</td>\n",
              "      <td>6842</td>\n",
              "      <td>32339090</td>\n",
              "      <td>-110910593</td>\n",
              "      <td>3250000</td>\n",
              "      <td>475</td>\n",
              "    </tr>\n",
              "    <tr>\n",
              "      <th>...</th>\n",
              "      <td>...</td>\n",
              "      <td>...</td>\n",
              "      <td>...</td>\n",
              "      <td>...</td>\n",
              "      <td>...</td>\n",
              "      <td>...</td>\n",
              "      <td>...</td>\n",
              "      <td>...</td>\n",
              "    </tr>\n",
              "    <tr>\n",
              "      <th>4993</th>\n",
              "      <td>3</td>\n",
              "      <td>0.83</td>\n",
              "      <td>12</td>\n",
              "      <td>2813</td>\n",
              "      <td>32307646</td>\n",
              "      <td>-110820216</td>\n",
              "      <td>565000</td>\n",
              "      <td>200</td>\n",
              "    </tr>\n",
              "    <tr>\n",
              "      <th>4994</th>\n",
              "      <td>3</td>\n",
              "      <td>0.18</td>\n",
              "      <td>3</td>\n",
              "      <td>2106</td>\n",
              "      <td>32317496</td>\n",
              "      <td>-110922291</td>\n",
              "      <td>535000</td>\n",
              "      <td>254</td>\n",
              "    </tr>\n",
              "    <tr>\n",
              "      <th>4995</th>\n",
              "      <td>2</td>\n",
              "      <td>4.98</td>\n",
              "      <td>60</td>\n",
              "      <td>3601</td>\n",
              "      <td>31907917</td>\n",
              "      <td>-110661829</td>\n",
              "      <td>495000</td>\n",
              "      <td>137</td>\n",
              "    </tr>\n",
              "    <tr>\n",
              "      <th>4996</th>\n",
              "      <td>3</td>\n",
              "      <td>1.42</td>\n",
              "      <td>26</td>\n",
              "      <td>2318</td>\n",
              "      <td>32316373</td>\n",
              "      <td>-110858556</td>\n",
              "      <td>550000</td>\n",
              "      <td>237</td>\n",
              "    </tr>\n",
              "    <tr>\n",
              "      <th>4998</th>\n",
              "      <td>2</td>\n",
              "      <td>1.01</td>\n",
              "      <td>11</td>\n",
              "      <td>3724</td>\n",
              "      <td>32296871</td>\n",
              "      <td>-111055528</td>\n",
              "      <td>550000</td>\n",
              "      <td>147</td>\n",
              "    </tr>\n",
              "  </tbody>\n",
              "</table>\n",
              "<p>4899 rows × 8 columns</p>\n",
              "</div>\n",
              "      <button class=\"colab-df-convert\" onclick=\"convertToInteractive('df-80c320f0-1e49-4e5e-b16a-2413649300de')\"\n",
              "              title=\"Convert this dataframe to an interactive table.\"\n",
              "              style=\"display:none;\">\n",
              "        \n",
              "  <svg xmlns=\"http://www.w3.org/2000/svg\" height=\"24px\"viewBox=\"0 0 24 24\"\n",
              "       width=\"24px\">\n",
              "    <path d=\"M0 0h24v24H0V0z\" fill=\"none\"/>\n",
              "    <path d=\"M18.56 5.44l.94 2.06.94-2.06 2.06-.94-2.06-.94-.94-2.06-.94 2.06-2.06.94zm-11 1L8.5 8.5l.94-2.06 2.06-.94-2.06-.94L8.5 2.5l-.94 2.06-2.06.94zm10 10l.94 2.06.94-2.06 2.06-.94-2.06-.94-.94-2.06-.94 2.06-2.06.94z\"/><path d=\"M17.41 7.96l-1.37-1.37c-.4-.4-.92-.59-1.43-.59-.52 0-1.04.2-1.43.59L10.3 9.45l-7.72 7.72c-.78.78-.78 2.05 0 2.83L4 21.41c.39.39.9.59 1.41.59.51 0 1.02-.2 1.41-.59l7.78-7.78 2.81-2.81c.8-.78.8-2.07 0-2.86zM5.41 20L4 18.59l7.72-7.72 1.47 1.35L5.41 20z\"/>\n",
              "  </svg>\n",
              "      </button>\n",
              "      \n",
              "  <style>\n",
              "    .colab-df-container {\n",
              "      display:flex;\n",
              "      flex-wrap:wrap;\n",
              "      gap: 12px;\n",
              "    }\n",
              "\n",
              "    .colab-df-convert {\n",
              "      background-color: #E8F0FE;\n",
              "      border: none;\n",
              "      border-radius: 50%;\n",
              "      cursor: pointer;\n",
              "      display: none;\n",
              "      fill: #1967D2;\n",
              "      height: 32px;\n",
              "      padding: 0 0 0 0;\n",
              "      width: 32px;\n",
              "    }\n",
              "\n",
              "    .colab-df-convert:hover {\n",
              "      background-color: #E2EBFA;\n",
              "      box-shadow: 0px 1px 2px rgba(60, 64, 67, 0.3), 0px 1px 3px 1px rgba(60, 64, 67, 0.15);\n",
              "      fill: #174EA6;\n",
              "    }\n",
              "\n",
              "    [theme=dark] .colab-df-convert {\n",
              "      background-color: #3B4455;\n",
              "      fill: #D2E3FC;\n",
              "    }\n",
              "\n",
              "    [theme=dark] .colab-df-convert:hover {\n",
              "      background-color: #434B5C;\n",
              "      box-shadow: 0px 1px 3px 1px rgba(0, 0, 0, 0.15);\n",
              "      filter: drop-shadow(0px 1px 2px rgba(0, 0, 0, 0.3));\n",
              "      fill: #FFFFFF;\n",
              "    }\n",
              "  </style>\n",
              "\n",
              "      <script>\n",
              "        const buttonEl =\n",
              "          document.querySelector('#df-80c320f0-1e49-4e5e-b16a-2413649300de button.colab-df-convert');\n",
              "        buttonEl.style.display =\n",
              "          google.colab.kernel.accessAllowed ? 'block' : 'none';\n",
              "\n",
              "        async function convertToInteractive(key) {\n",
              "          const element = document.querySelector('#df-80c320f0-1e49-4e5e-b16a-2413649300de');\n",
              "          const dataTable =\n",
              "            await google.colab.kernel.invokeFunction('convertToInteractive',\n",
              "                                                     [key], {});\n",
              "          if (!dataTable) return;\n",
              "\n",
              "          const docLinkHtml = 'Like what you see? Visit the ' +\n",
              "            '<a target=\"_blank\" href=https://colab.research.google.com/notebooks/data_table.ipynb>data table notebook</a>'\n",
              "            + ' to learn more about interactive tables.';\n",
              "          element.innerHTML = '';\n",
              "          dataTable['output_type'] = 'display_data';\n",
              "          await google.colab.output.renderOutput(dataTable, element);\n",
              "          const docLink = document.createElement('div');\n",
              "          docLink.innerHTML = docLinkHtml;\n",
              "          element.appendChild(docLink);\n",
              "        }\n",
              "      </script>\n",
              "    </div>\n",
              "  </div>\n",
              "  "
            ]
          },
          "metadata": {},
          "execution_count": 1279
        }
      ]
    },
    {
      "cell_type": "code",
      "source": [
        "#X = np.array(X, dtype=np.int64) "
      ],
      "metadata": {
        "id": "X95TOmksG9mh"
      },
      "execution_count": 1280,
      "outputs": []
    },
    {
      "cell_type": "code",
      "source": [
        "#X = X.astype(int)"
      ],
      "metadata": {
        "id": "E4_DiOxQK1gh"
      },
      "execution_count": 1281,
      "outputs": []
    },
    {
      "cell_type": "code",
      "source": [
        "#X  = X.astype(float)"
      ],
      "metadata": {
        "id": "M5BlD40kHsmD"
      },
      "execution_count": 1282,
      "outputs": []
    },
    {
      "cell_type": "code",
      "source": [
        "X=X.to_numpy()\n"
      ],
      "metadata": {
        "id": "jDMCBjJXPnPM"
      },
      "execution_count": 1283,
      "outputs": []
    },
    {
      "cell_type": "code",
      "source": [
        "y=X[:,0]\n",
        "y"
      ],
      "metadata": {
        "id": "pdkuzRVgQgx-",
        "colab": {
          "base_uri": "https://localhost:8080/"
        },
        "outputId": "d99e2c73-4c15-4992-b6da-4ced50b517ee"
      },
      "execution_count": 1284,
      "outputs": [
        {
          "output_type": "execute_result",
          "data": {
            "text/plain": [
              "array([6, 6, 5, ..., 2, 3, 2])"
            ]
          },
          "metadata": {},
          "execution_count": 1284
        }
      ]
    },
    {
      "cell_type": "code",
      "source": [
        "X=X[:,1:]\n",
        "X"
      ],
      "metadata": {
        "id": "U7nlLudRRK9D",
        "colab": {
          "base_uri": "https://localhost:8080/"
        },
        "outputId": "b14694dd-31a9-4d9f-a90e-4ccf05a8389e"
      },
      "execution_count": 1285,
      "outputs": [
        {
          "output_type": "execute_result",
          "data": {
            "text/plain": [
              "array([[  31356362, -110378200,      85637],\n",
              "       [  31594213, -111045371,      85646],\n",
              "       [  31645878, -111035925,      85646],\n",
              "       ...,\n",
              "       [  31907917, -110661829,      85641],\n",
              "       [  32316373, -110858556,      85750],\n",
              "       [  32296871, -111055528,      85745]])"
            ]
          },
          "metadata": {},
          "execution_count": 1285
        }
      ]
    },
    {
      "cell_type": "markdown",
      "source": [
        "##split data"
      ],
      "metadata": {
        "id": "xGBoYRkVV8j4"
      }
    },
    {
      "cell_type": "code",
      "source": [
        "import sklearn.model_selection as model_selection\n",
        "X_train, X_test, y_train, y_test = model_selection.train_test_split(X, y, train_size=0.9,test_size=0.1, random_state=101)\n",
        "print (\"X_train: \", X_train)\n",
        "print (\"y_train: \", y_train)\n",
        "print (\"X_test: \", X_test)\n",
        "print (\"y_test: \", y_test)"
      ],
      "metadata": {
        "colab": {
          "base_uri": "https://localhost:8080/"
        },
        "id": "g87Bcg-XjYzV",
        "outputId": "c8c0ad7d-85e5-4a9f-c4d3-e4e87f0e1b73"
      },
      "execution_count": 1286,
      "outputs": [
        {
          "output_type": "stream",
          "name": "stdout",
          "text": [
            "X_train:  [[  32314079 -110839437      85750]\n",
            " [  32292655 -110799494      85749]\n",
            " [  32434775 -110976939      85755]\n",
            " ...\n",
            " [  32406416 -110988991      85737]\n",
            " [  32257520 -111065113      85745]\n",
            " [  32459894 -110980627      85755]]\n",
            "y_train:  [2 2 2 ... 3 3 3]\n",
            "X_test:  [[  32316401 -110838149      85750]\n",
            " [  32407289 -110964806      85737]\n",
            " [  32316373 -110858556      85750]\n",
            " ...\n",
            " [  32296115 -110827564      85750]\n",
            " [  32332155 -110902762      85718]\n",
            " [  32303547 -110756841      85749]]\n",
            "y_test:  [4 2 3 2 2 3 3 3 2 2 3 1 3 2 3 3 5 2 2 2 5 2 3 3 3 2 3 3 3 3 2 4 3 3 3 3 3\n",
            " 2 4 3 5 3 3 3 3 3 2 3 2 2 2 2 2 2 3 2 3 3 3 3 2 4 3 3 4 2 2 3 3 2 2 3 2 2\n",
            " 3 2 2 2 2 2 3 2 2 2 3 5 2 3 6 3 2 3 3 2 4 3 2 3 3 2 4 3 2 3 2 2 3 3 4 2 2\n",
            " 2 2 2 3 2 2 3 3 3 2 2 2 3 2 2 3 2 2 2 3 3 2 4 3 3 2 3 3 2 3 3 3 2 2 3 3 3\n",
            " 4 2 6 3 3 2 2 2 4 3 3 4 2 3 2 3 2 3 2 4 2 2 2 2 3 3 3 4 2 3 3 2 3 2 2 3 2\n",
            " 2 2 3 3 4 2 3 3 2 3 3 3 3 3 2 2 2 3 3 2 3 2 3 3 2 3 3 3 2 4 3 3 3 2 3 3 3\n",
            " 3 3 4 3 2 3 3 2 3 2 2 4 2 2 3 2 3 4 3 2 3 2 2 2 3 2 3 4 3 3 2 3 2 3 6 3 3\n",
            " 4 2 2 3 2 2 3 2 3 3 3 2 2 3 2 1 3 2 3 3 4 3 4 2 3 3 2 3 2 2 3 3 3 3 2 6 3\n",
            " 2 2 2 2 2 2 2 3 2 2 3 3 6 2 3 3 3 3 3 4 3 2 2 3 2 3 4 2 2 2 2 3 5 2 5 2 2\n",
            " 2 4 3 2 2 2 2 2 3 3 2 3 3 3 2 3 2 2 2 2 3 2 3 3 3 2 2 3 2 2 2 3 2 3 3 2 3\n",
            " 2 3 3 2 2 3 2 3 2 3 2 3 3 2 2 3 2 3 2 3 2 2 2 4 3 2 5 2 2 2 3 2 3 3 2 3 2\n",
            " 2 3 5 3 4 3 3 2 3 3 2 3 2 3 2 3 3 2 2 3 2 2 3 2 3 3 3 3 3 2 3 3 3 3 2 3 3\n",
            " 3 3 3 3 4 4 3 2 2 2 3 2 2 2 3 2 2 3 2 2 3 2 3 2 2 3 3 3 3 2 2 3 3 3 4 2 4\n",
            " 4 2 2 2 3 3 2 2 2]\n"
          ]
        }
      ]
    },
    {
      "cell_type": "code",
      "source": [
        "def accuracy(y_train, y_train_hat):\n",
        "  return np.mean(y_train==y_train_hat)"
      ],
      "metadata": {
        "id": "QON5PQBHL5PQ"
      },
      "execution_count": 1287,
      "outputs": []
    },
    {
      "cell_type": "markdown",
      "source": [
        "##KNN"
      ],
      "metadata": {
        "id": "HU-Pon1yV_uW"
      }
    },
    {
      "cell_type": "code",
      "source": [
        "#Apply class for KNN classification\n",
        "class KNNClassifier():\n",
        "\n",
        "  def fit(self,X,y):\n",
        "    self.X=X\n",
        "    self.y=y\n",
        "\n",
        "  def predict(self,X,K, epsilon =1e-3):\n",
        "    N= len(X)\n",
        "    y_hat=np.zeros(N)\n",
        "\n",
        "    for i in range(N):\n",
        "      dist2 = np.sum((self.X-X[i])**2,axis=1)    \n",
        "      idxt = np.argsort(dist2)[:K]    #sorted indices \n",
        "      gamma_k=1/(np.sqrt(dist2[idxt]+epsilon))\n",
        "      y_hat[i]= np.bincount(self.y[idxt],weights=gamma_k).argmax()\n",
        "\n",
        "    return y_hat\n",
        "  "
      ],
      "metadata": {
        "id": "PTXG8GrocEEz"
      },
      "execution_count": 1288,
      "outputs": []
    },
    {
      "cell_type": "code",
      "source": [
        "#train and predict using KNN\n",
        "knn=KNNClassifier()\n",
        "knn.fit(X_train,y_train)\n",
        "y_train_hat=knn.predict(X_train,5)\n",
        "y_test_hat=knn.predict(X_test,5)"
      ],
      "metadata": {
        "id": "DfIYIBeHcIId"
      },
      "execution_count": 1289,
      "outputs": []
    },
    {
      "cell_type": "code",
      "source": [
        "accuracy(y_train,y_train_hat)"
      ],
      "metadata": {
        "colab": {
          "base_uri": "https://localhost:8080/"
        },
        "id": "sMgHa_mZLv8g",
        "outputId": "1d2f180d-eb1b-4e0f-a329-061a2b473e2c"
      },
      "execution_count": 1290,
      "outputs": [
        {
          "output_type": "execute_result",
          "data": {
            "text/plain": [
              "0.9977319119981856"
            ]
          },
          "metadata": {},
          "execution_count": 1290
        }
      ]
    },
    {
      "cell_type": "code",
      "source": [
        "accuracy(y_test,y_test_hat)"
      ],
      "metadata": {
        "colab": {
          "base_uri": "https://localhost:8080/"
        },
        "id": "ZHSIbc2WMPcz",
        "outputId": "9f9f8645-b687-453b-c4df-73a2691eda7a"
      },
      "execution_count": 1291,
      "outputs": [
        {
          "output_type": "execute_result",
          "data": {
            "text/plain": [
              "0.6"
            ]
          },
          "metadata": {},
          "execution_count": 1291
        }
      ]
    },
    {
      "cell_type": "code",
      "source": [
        "from geopy import Nominatim\n",
        "def get_location(address):\n",
        "    geolocator = Nominatim(user_agent=\"myGeocoder\")\n",
        "    location = geolocator.geocode(address)\n",
        "    latitude = location.latitude\n",
        "    longitude = location.longitude\n",
        "    return latitude, longitude"
      ],
      "metadata": {
        "id": "3NB0O9eSHMmr"
      },
      "execution_count": 1292,
      "outputs": []
    },
    {
      "cell_type": "code",
      "source": [
        "# get coordinates of user input address\n",
        "address = input(\"Please enter your address: \")\n",
        "latitude, longitude = get_location(address)\n",
        "print(\"Latitude: {}, Longitude: {}\".format(latitude, longitude))\n",
        "#    41 E Oregon St, Tucson, AZ 85706"
      ],
      "metadata": {
        "colab": {
          "base_uri": "https://localhost:8080/"
        },
        "id": "85j_Db1rb6CW",
        "outputId": "6ad693df-b461-4a96-9334-01b68019053c"
      },
      "execution_count": 1293,
      "outputs": [
        {
          "output_type": "stream",
          "name": "stdout",
          "text": [
            "Please enter your address: 41 E Oregon St, Tucson, AZ 85706\n",
            "Latitude: 32.15355822959653, Longitude: -110.96749222561645\n"
          ]
        }
      ]
    },
    {
      "cell_type": "code",
      "source": [
        "sold_price = int(input(\"Please enter the sold_price: \"))\n",
        "#85646"
      ],
      "metadata": {
        "colab": {
          "base_uri": "https://localhost:8080/"
        },
        "id": "2ZIlexrUelzM",
        "outputId": "04d8ac72-a995-494c-cbf6-bad611f3084b"
      },
      "execution_count": 1294,
      "outputs": [
        {
          "name": "stdout",
          "output_type": "stream",
          "text": [
            "Please enter the sold_price: 85646\n"
          ]
        }
      ]
    },
    {
      "cell_type": "code",
      "source": [
        "XTest=np.array([[longitude,latitude,sold_price]])\n",
        "longitude,latitude,sold_price"
      ],
      "metadata": {
        "id": "FelO5kuZaIc5",
        "colab": {
          "base_uri": "https://localhost:8080/"
        },
        "outputId": "0f8bda45-85cd-4747-a2af-1205a9779d78"
      },
      "execution_count": 1295,
      "outputs": [
        {
          "output_type": "execute_result",
          "data": {
            "text/plain": [
              "(-110.96749222561645, 32.15355822959653, 85646)"
            ]
          },
          "metadata": {},
          "execution_count": 1295
        }
      ]
    },
    {
      "cell_type": "code",
      "source": [
        "YTest=knn.predict(XTest,10)"
      ],
      "metadata": {
        "id": "l-ZyzkZHgheh"
      },
      "execution_count": 1296,
      "outputs": []
    },
    {
      "cell_type": "code",
      "source": [
        "YTest"
      ],
      "metadata": {
        "colab": {
          "base_uri": "https://localhost:8080/"
        },
        "id": "beBrfLQxVsVL",
        "outputId": "8457ce0a-65b9-4ddd-a208-3f5f960455e6"
      },
      "execution_count": 1297,
      "outputs": [
        {
          "output_type": "execute_result",
          "data": {
            "text/plain": [
              "array([2.])"
            ]
          },
          "metadata": {},
          "execution_count": 1297
        }
      ]
    },
    {
      "cell_type": "code",
      "source": [],
      "metadata": {
        "id": "MOhcA5QsgOKL"
      },
      "execution_count": 1297,
      "outputs": []
    },
    {
      "cell_type": "markdown",
      "source": [
        "##KNN R"
      ],
      "metadata": {
        "id": "6uUpnIlGgQ4a"
      }
    },
    {
      "cell_type": "code",
      "source": [
        "class KNNRegressor():\n",
        "\n",
        "  def fit(self,X,y):\n",
        "    self.X=X\n",
        "    self.y=y\n",
        "\n",
        "  def predict(self,X,K,epsilon=1e-3):\n",
        "    N = len(X)  #num of observsions\n",
        "    y_hat = np.zeros(N)\n",
        "\n",
        "    for i in range(N):\n",
        "      dist2= np.sum((self.X-X[i])**2,axis=1)\n",
        "      idxt = np.argsort(dist2)[:K]    #nearest N\n",
        "      gamma_k =  np.exp(-dist2[idxt])/np.exp(-dist2[idxt]).sum()\n",
        "      y_hat[i]=gamma_k.dot(self.y[idxt])\n",
        "\n",
        "    return y_hat\n",
        "  "
      ],
      "metadata": {
        "id": "vED6_ACqgOVq"
      },
      "execution_count": 1298,
      "outputs": []
    },
    {
      "cell_type": "code",
      "source": [
        "#train and predict using KNN\n",
        "knn=KNNRegressor()\n",
        "knn.fit(X_train,y_train)\n",
        "y_train_hat=knn.predict(X_train,3)\n",
        "y_test_hat=knn.predict(X_test,3)"
      ],
      "metadata": {
        "colab": {
          "base_uri": "https://localhost:8080/"
        },
        "id": "hegwOojzgOVq",
        "outputId": "49057545-fe00-4126-f5c8-3840b53f880e"
      },
      "execution_count": 1299,
      "outputs": [
        {
          "output_type": "stream",
          "name": "stderr",
          "text": [
            "<ipython-input-1298-309bd14b96a1>:14: RuntimeWarning: invalid value encountered in true_divide\n",
            "  gamma_k =  np.exp(-dist2[idxt])/np.exp(-dist2[idxt]).sum()\n"
          ]
        }
      ]
    },
    {
      "cell_type": "code",
      "source": [
        "accuracy(y_train,y_train_hat)"
      ],
      "metadata": {
        "colab": {
          "base_uri": "https://localhost:8080/"
        },
        "outputId": "eb8629a8-9dd9-4488-96e4-820c01e95436",
        "id": "X7MpAKgEgOVq"
      },
      "execution_count": 1300,
      "outputs": [
        {
          "output_type": "execute_result",
          "data": {
            "text/plain": [
              "0.9494216375595373"
            ]
          },
          "metadata": {},
          "execution_count": 1300
        }
      ]
    },
    {
      "cell_type": "code",
      "source": [
        "accuracy(y_test,y_test_hat)"
      ],
      "metadata": {
        "colab": {
          "base_uri": "https://localhost:8080/"
        },
        "outputId": "f6c87cc9-a1be-4d57-ab0a-2b919b300edb",
        "id": "th-xPlcygOVr"
      },
      "execution_count": 1301,
      "outputs": [
        {
          "output_type": "execute_result",
          "data": {
            "text/plain": [
              "0.12244897959183673"
            ]
          },
          "metadata": {},
          "execution_count": 1301
        }
      ]
    },
    {
      "cell_type": "markdown",
      "source": [
        "##linear Regression"
      ],
      "metadata": {
        "id": "qnoIKVpVW63n"
      }
    },
    {
      "cell_type": "code",
      "source": [
        "house_df = house_df[house_df['lot_rate'] <= 500]\n",
        "house_df = house_df[house_df['price_Per_Sqrt_ft'] <= 500]"
      ],
      "metadata": {
        "id": "_QNhF5ems0qD"
      },
      "execution_count": 1302,
      "outputs": []
    },
    {
      "cell_type": "code",
      "source": [
        "X=house_df[['price_range','lot_rate']].copy()"
      ],
      "metadata": {
        "id": "XzE0ypnmoqfB"
      },
      "execution_count": 1303,
      "outputs": []
    },
    {
      "cell_type": "code",
      "source": [
        "X = np.array(X, dtype=np.float64) "
      ],
      "metadata": {
        "id": "Uax3E74yoqsP"
      },
      "execution_count": 1304,
      "outputs": []
    },
    {
      "cell_type": "code",
      "source": [
        "#X = X.astype(int)"
      ],
      "metadata": {
        "id": "cFT9u87joqsQ"
      },
      "execution_count": 1305,
      "outputs": []
    },
    {
      "cell_type": "code",
      "source": [
        "#X  = X.astype(float)"
      ],
      "metadata": {
        "id": "TSvn-YiFoqsQ"
      },
      "execution_count": 1306,
      "outputs": []
    },
    {
      "cell_type": "code",
      "source": [
        "#X=X.to_numpy()"
      ],
      "metadata": {
        "id": "uDDo0jBwoqsQ"
      },
      "execution_count": 1307,
      "outputs": []
    },
    {
      "cell_type": "code",
      "source": [
        "y=X[:,-1]"
      ],
      "metadata": {
        "id": "byWvcJ02oqsQ"
      },
      "execution_count": 1308,
      "outputs": []
    },
    {
      "cell_type": "code",
      "source": [
        "X=X[:,:-1]"
      ],
      "metadata": {
        "id": "tCcNYHIRoqsQ"
      },
      "execution_count": 1309,
      "outputs": []
    },
    {
      "cell_type": "code",
      "source": [
        "X,y"
      ],
      "metadata": {
        "colab": {
          "base_uri": "https://localhost:8080/"
        },
        "outputId": "d610b18e-e041-4655-b864-60107f2e3719",
        "id": "ehJVza4UoqsQ"
      },
      "execution_count": 1310,
      "outputs": [
        {
          "output_type": "execute_result",
          "data": {
            "text/plain": [
              "(array([[5.],\n",
              "        [2.],\n",
              "        [3.],\n",
              "        ...,\n",
              "        [2.],\n",
              "        [3.],\n",
              "        [2.]]), array([10.,  7.,  5., ..., 60., 26., 11.]))"
            ]
          },
          "metadata": {},
          "execution_count": 1310
        }
      ]
    },
    {
      "cell_type": "code",
      "source": [
        "class SimpleLinearReg():\n",
        "  def fit(self,X,y):\n",
        "    self.y=y\n",
        "    self.d=np.mean(X**2)-np.mean(X)**2\n",
        "    self.w0=(np.mean(y)*np.mean(X**2)-np.mean(X)*np.mean(X*y))/self.d\n",
        "    self.w1=(np.mean(X*y)-(np.mean(X)*np.mean(y)))/self.d  \n",
        "\n",
        "\n",
        "  def predict(self,X,show=0):\n",
        "    y_hat=self.w1*X+self.w0\n",
        "\n",
        "    if show:\n",
        "      plt.figure()\n",
        "      plt.scatter(X,self.y,s=8)\n",
        "      plt.plot(X,y_hat,color=\"#FF0070\")\n",
        "\n",
        "    return y_hat  "
      ],
      "metadata": {
        "id": "5JtBqcjzPMm8"
      },
      "execution_count": 1311,
      "outputs": []
    },
    {
      "cell_type": "code",
      "source": [
        "slr = SimpleLinearReg()"
      ],
      "metadata": {
        "id": "7UecScGHPrcJ"
      },
      "execution_count": 1312,
      "outputs": []
    },
    {
      "cell_type": "code",
      "source": [
        "slr.fit(X[:,0],y)"
      ],
      "metadata": {
        "id": "k56bi0RcPrcK"
      },
      "execution_count": 1313,
      "outputs": []
    },
    {
      "cell_type": "code",
      "source": [
        "y_hat=slr.predict(X[:,0],show=1)\n",
        "plt.figure(figsize=(13,8))\n",
        "plt.scatter(X[:,0],y,s=8)\n",
        "plt.plot(X[:,0],y_hat,color=\"#FF0070\")\n",
        "plt.xlabel('price range')\n",
        "plt.ylabel('lot rate')\n"
      ],
      "metadata": {
        "colab": {
          "base_uri": "https://localhost:8080/",
          "height": 763
        },
        "outputId": "6cc346c4-acf3-4339-9f10-b9d3f33aa6e4",
        "id": "eGBtbCUTPrcK"
      },
      "execution_count": 1314,
      "outputs": [
        {
          "output_type": "execute_result",
          "data": {
            "text/plain": [
              "Text(0, 0.5, 'lot rate')"
            ]
          },
          "metadata": {},
          "execution_count": 1314
        },
        {
          "output_type": "display_data",
          "data": {
            "text/plain": [
              "<Figure size 432x288 with 1 Axes>"
            ],
            "image/png": "[encoded data removed]"
          },
          "metadata": {
            "needs_background": "light"
          }
        },
        {
          "output_type": "display_data",
          "data": {
            "text/plain": [
              "<Figure size 936x576 with 1 Axes>"
            ],
            "image/png": "[encoded data removed]"
          },
          "metadata": {
            "needs_background": "light"
          }
        }
      ]
    },
    {
      "cell_type": "code",
      "source": [],
      "metadata": {
        "id": "mvsx2E37lMp_"
      },
      "execution_count": 1314,
      "outputs": []
    },
    {
      "cell_type": "code",
      "source": [
        "X=house_df[['price_Per_Sqrt_ft','lot_rate','price_range']].copy()"
      ],
      "metadata": {
        "id": "GoSy9trdlM03"
      },
      "execution_count": 1315,
      "outputs": []
    },
    {
      "cell_type": "code",
      "source": [
        "X = np.array(X, dtype=np.float64) "
      ],
      "metadata": {
        "id": "GOVl9zrRlM03"
      },
      "execution_count": 1316,
      "outputs": []
    },
    {
      "cell_type": "code",
      "source": [
        "#X = X.astype(int)"
      ],
      "metadata": {
        "id": "YQxG8ND3lM03"
      },
      "execution_count": 1317,
      "outputs": []
    },
    {
      "cell_type": "code",
      "source": [
        "#X  = X.astype(float)"
      ],
      "metadata": {
        "id": "3K9uSPmSlM03"
      },
      "execution_count": 1318,
      "outputs": []
    },
    {
      "cell_type": "code",
      "source": [
        "#X=X.to_numpy()"
      ],
      "metadata": {
        "id": "NIBkABP9lM03"
      },
      "execution_count": 1319,
      "outputs": []
    },
    {
      "cell_type": "code",
      "source": [
        "y=X[:,-1]\n",
        "y"
      ],
      "metadata": {
        "colab": {
          "base_uri": "https://localhost:8080/"
        },
        "id": "mJ6WoRPBlM03",
        "outputId": "76b86401-5cd7-4549-97bd-9abe2debfa40"
      },
      "execution_count": 1320,
      "outputs": [
        {
          "output_type": "execute_result",
          "data": {
            "text/plain": [
              "array([5., 2., 3., ..., 2., 3., 2.])"
            ]
          },
          "metadata": {},
          "execution_count": 1320
        }
      ]
    },
    {
      "cell_type": "code",
      "source": [
        "X=X[:,:-1]\n",
        "X"
      ],
      "metadata": {
        "colab": {
          "base_uri": "https://localhost:8080/"
        },
        "id": "vcMg7Eh8lM04",
        "outputId": "78fd488e-4522-4cee-ef54-253aa0600240"
      },
      "execution_count": 1321,
      "outputs": [
        {
          "output_type": "execute_result",
          "data": {
            "text/plain": [
              "array([[475.,  10.],\n",
              "       [199.,   7.],\n",
              "       [280.,   5.],\n",
              "       ...,\n",
              "       [137.,  60.],\n",
              "       [237.,  26.],\n",
              "       [147.,  11.]])"
            ]
          },
          "metadata": {},
          "execution_count": 1321
        }
      ]
    },
    {
      "cell_type": "code",
      "source": [
        "X,y"
      ],
      "metadata": {
        "colab": {
          "base_uri": "https://localhost:8080/"
        },
        "outputId": "9bde91f2-99b9-4da1-bbde-997cf61b34e3",
        "id": "Qw5XBcerlM04"
      },
      "execution_count": 1322,
      "outputs": [
        {
          "output_type": "execute_result",
          "data": {
            "text/plain": [
              "(array([[475.,  10.],\n",
              "        [199.,   7.],\n",
              "        [280.,   5.],\n",
              "        ...,\n",
              "        [137.,  60.],\n",
              "        [237.,  26.],\n",
              "        [147.,  11.]]), array([5., 2., 3., ..., 2., 3., 2.]))"
            ]
          },
          "metadata": {},
          "execution_count": 1322
        }
      ]
    },
    {
      "cell_type": "code",
      "source": [
        "class LinearRegression():\n",
        "  def fit(self,X,y):\n",
        "    self.w = np.linalg.solve(X.T@X,X.T@y)\n",
        "\n",
        "  def predict(self,X):\n",
        "    return np.matmul(X,self.w)\n",
        "    "
      ],
      "metadata": {
        "id": "z3D9Dkl14BYm"
      },
      "execution_count": 1323,
      "outputs": []
    },
    {
      "cell_type": "code",
      "source": [
        "def OLS(Y,Y_hat,N):\n",
        "  return (1/(2*N)*np.sum((Y-Y_hat)**2))"
      ],
      "metadata": {
        "id": "3Z49s84b5K3H"
      },
      "execution_count": 1324,
      "outputs": []
    },
    {
      "cell_type": "code",
      "source": [
        "def R2(Y,Y_hat):\n",
        "  return (1-(np.sum((Y-Y_hat)**2)/np.sum((Y-np.mean(Y))**2)))"
      ],
      "metadata": {
        "id": "-gbsNEgG6Ih-"
      },
      "execution_count": 1325,
      "outputs": []
    },
    {
      "cell_type": "code",
      "source": [
        "class MVLinearRegression():  #MV = multivariate\n",
        "  def fit(self,X,y,eta = 1e-3, epochs=1e3, show_curve = False):\n",
        "    epochs=int(epochs)\n",
        "    N,D = X.shape #N=elements D=features\n",
        "    Y=y\n",
        "   # Initialize the weights\n",
        "    self.w = np.random.randn(D)\n",
        "\n",
        "    J=np.zeros(epochs)\n",
        "\n",
        "    for epoch in range(epochs):\n",
        "      Y_hat=self.predict(X)\n",
        "      J[epoch]=OLS(Y,Y_hat,N)\n",
        "      #weight update Rule:\n",
        "      self.w -=eta*(1/N)*(X.T@(Y_hat-Y))\n",
        "\n",
        "    if show_curve:\n",
        "      plt.figure()\n",
        "      plt.plot(J)\n",
        "      plt.xlabel(\"epochs\")\n",
        "      plt.ylabel(\"$\\mathcal{J}$\")\n",
        "      plt.title(\"Training Curve\")\n",
        "      #Plt.show()\n",
        "\n",
        "  def predict(self,X):\n",
        "    return X @ self.w"
      ],
      "metadata": {
        "id": "IVzZ0Ll-nT99"
      },
      "execution_count": 1326,
      "outputs": []
    },
    {
      "cell_type": "code",
      "source": [
        "myReg = MVLinearRegression()"
      ],
      "metadata": {
        "id": "OLhaAKDB3CU7"
      },
      "execution_count": 1327,
      "outputs": []
    },
    {
      "cell_type": "code",
      "source": [
        "myReg.fit(X,y)"
      ],
      "metadata": {
        "id": "ifFCO-V73Lbl",
        "colab": {
          "base_uri": "https://localhost:8080/"
        },
        "outputId": "f7c0a6df-d2c6-48fc-ad49-bb800d0aa646"
      },
      "execution_count": 1328,
      "outputs": [
        {
          "output_type": "stream",
          "name": "stderr",
          "text": [
            "/usr/local/lib/python3.9/dist-packages/numpy/core/fromnumeric.py:86: RuntimeWarning: overflow encountered in reduce\n",
            "  return ufunc.reduce(obj, axis, dtype, out, **passkwargs)\n",
            "<ipython-input-1324-2484a7859a29>:2: RuntimeWarning: overflow encountered in square\n",
            "  return (1/(2*N)*np.sum((Y-Y_hat)**2))\n",
            "<ipython-input-1326-003a31c09231>:15: RuntimeWarning: overflow encountered in matmul\n",
            "  self.w -=eta*(1/N)*(X.T@(Y_hat-Y))\n",
            "<ipython-input-1326-003a31c09231>:15: RuntimeWarning: invalid value encountered in matmul\n",
            "  self.w -=eta*(1/N)*(X.T@(Y_hat-Y))\n",
            "<ipython-input-1326-003a31c09231>:15: RuntimeWarning: invalid value encountered in subtract\n",
            "  self.w -=eta*(1/N)*(X.T@(Y_hat-Y))\n"
          ]
        }
      ]
    },
    {
      "cell_type": "code",
      "source": [
        "plt.figure(figsize=(13,8))\n",
        "plt.scatter(X[:,0],y,s=8)\n",
        "plt.plot(X[:,0],y_hat,color=\"#FF0070\")\n",
        " "
      ],
      "metadata": {
        "colab": {
          "base_uri": "https://localhost:8080/",
          "height": 501
        },
        "id": "bHYO5XEpCx82",
        "outputId": "42920c3a-24f9-4c96-a527-cc47f98c518c"
      },
      "execution_count": 1329,
      "outputs": [
        {
          "output_type": "execute_result",
          "data": {
            "text/plain": [
              "[<matplotlib.lines.Line2D at 0x7f5f82c31cd0>]"
            ]
          },
          "metadata": {},
          "execution_count": 1329
        },
        {
          "output_type": "display_data",
          "data": {
            "text/plain": [
              "<Figure size 936x576 with 1 Axes>"
            ],
            "image/png": "[encoded data removed]"
          },
          "metadata": {
            "needs_background": "light"
          }
        }
      ]
    },
    {
      "cell_type": "code",
      "source": [
        "myReg.fit(X,y,epochs=5e4,eta=1e-5,show_curve=True)\n"
      ],
      "metadata": {
        "colab": {
          "base_uri": "https://localhost:8080/",
          "height": 295
        },
        "id": "_1qI8Awp3OE3",
        "outputId": "5b96dd7b-95cf-4447-f3eb-d3e8fe1782ed"
      },
      "execution_count": 1330,
      "outputs": [
        {
          "output_type": "display_data",
          "data": {
            "text/plain": [
              "<Figure size 432x288 with 1 Axes>"
            ],
            "image/png": "[encoded data removed]"
          },
          "metadata": {
            "needs_background": "light"
          }
        }
      ]
    }
  ]
}