{
  "cells": [
    {
      "cell_type": "markdown",
      "metadata": {
        "id": "view-in-github",
        "colab_type": "text"
      },
      "source": [
        "<a href=\"https://colab.research.google.com/github/sunjorkey/EIT2/blob/main/Housing_Data_Predictions_Linear_Regression_and_KNN.ipynb\" target=\"_parent\"><img src=\"https://colab.research.google.com/assets/colab-badge.svg\" alt=\"Open In Colab\"/></a>"
      ]
    },
    {
      "cell_type": "code",
      "execution_count": null,
      "metadata": {
        "id": "KyHGTQiyvpn7"
      },
      "outputs": [],
      "source": [
        "# Importing libraries\n",
        "import numpy as np\n",
        "import pandas as pd\n",
        "import matplotlib.pyplot as plt\n",
        "from matplotlib.colors import ListedColormap\n",
        "from matplotlib import cm"
      ]
    },
    {
      "cell_type": "code",
      "execution_count": null,
      "metadata": {
        "id": "wk7av1FPwL2H"
      },
      "outputs": [],
      "source": [
        "from geopy import Nominatim"
      ]
    },
    {
      "cell_type": "code",
      "execution_count": null,
      "metadata": {
        "colab": {
          "base_uri": "https://localhost:8080/"
        },
        "id": "5PSy40mFzf5f",
        "outputId": "e350b287-13f9-4684-ce3e-2cfcdfec7c29"
      },
      "outputs": [
        {
          "output_type": "stream",
          "name": "stderr",
          "text": [
            "<ipython-input-50-3f3e22dd2ef8>:1: MatplotlibDeprecationWarning: The get_cmap function was deprecated in Matplotlib 3.7 and will be removed two minor releases later. Use ``matplotlib.colormaps[name]`` or ``matplotlib.colormaps.get_cmap(obj)`` instead.\n",
            "  jet=cm.get_cmap('jet',20)\n"
          ]
        }
      ],
      "source": [
        "jet=cm.get_cmap('jet',20)"
      ]
    },
    {
      "cell_type": "code",
      "execution_count": null,
      "metadata": {
        "id": "BkHd_I6rwuAi"
      },
      "outputs": [],
      "source": [
        "data = pd.read_csv('/content/drive/MyDrive/Colab Notebooks/Week3/ass/raw_house_data.csv')"
      ]
    },
    {
      "cell_type": "code",
      "source": [
        "data = data.replace('None', np.nan)\n",
        "data['HOA'] = data['HOA'].str.replace(r'\\D+', '', regex=True) \n",
        "data=data.dropna()\n",
        "data.isnull().sum() "
      ],
      "metadata": {
        "colab": {
          "base_uri": "https://localhost:8080/"
        },
        "id": "Ys1prFJdFPvJ",
        "outputId": "b6b240ee-0e59-4fb1-9885-67dc3fa3dbcd"
      },
      "execution_count": null,
      "outputs": [
        {
          "output_type": "execute_result",
          "data": {
            "text/plain": [
              "MLS                 0\n",
              "sold_price          0\n",
              "zipcode             0\n",
              "longitude           0\n",
              "latitude            0\n",
              "lot_acres           0\n",
              "taxes               0\n",
              "year_built          0\n",
              "bedrooms            0\n",
              "bathrooms           0\n",
              "sqrt_ft             0\n",
              "garage              0\n",
              "kitchen_features    0\n",
              "fireplaces          0\n",
              "floor_covering      0\n",
              "HOA                 0\n",
              "dtype: int64"
            ]
          },
          "metadata": {},
          "execution_count": 52
        }
      ]
    },
    {
      "cell_type": "code",
      "source": [
        "data['bathrooms'] = data['bathrooms'].astype(float)\n",
        "data['bedrooms'] = data['bedrooms'].astype(float)\n",
        "data['year_built'] = data['year_built'].astype(int)\n",
        "data['garage'] = data['garage'].astype(float)\n",
        "data['bathrooms'] = data['bathrooms'].astype(float)\n",
        "data['fireplaces'] = data['fireplaces'].astype(float)\n",
        "data['HOA'] = data['HOA'].astype(float)\n",
        "\n",
        "\n",
        "data['sqrt_ft'] = data['sqrt_ft'].astype(float)\n",
        "data['sqrt_ft'] = data['sqrt_ft'].astype(int)\n",
        "\n",
        "data['lot_acres']= data['lot_acres']*43560\n",
        "data['lot_acres'] = data['lot_acres'].astype(int)\n",
        "\n",
        "data['latitude']=data['latitude']*1000000\n",
        "data['longitude']=data['longitude']*1000000\n",
        "data['latitude'] = data['latitude'].astype(int)\n",
        "data['longitude'] = data['longitude'].astype(int)\n",
        "\n",
        "data['price_Per_Sqrt_ft'] = data['sold_price']/data['sqrt_ft']\n",
        "data['price_Per_Sqrt_ft'] = data['price_Per_Sqrt_ft'].astype(int)\n"
      ],
      "metadata": {
        "id": "3UOq7qyXJjI1"
      },
      "execution_count": null,
      "outputs": []
    },
    {
      "cell_type": "markdown",
      "source": [
        "#KNN for address"
      ],
      "metadata": {
        "id": "tJnK32sPr0_x"
      }
    },
    {
      "cell_type": "code",
      "source": [
        "data.shape"
      ],
      "metadata": {
        "colab": {
          "base_uri": "https://localhost:8080/"
        },
        "id": "T8xtxzx2BQu_",
        "outputId": "dd1f3371-5c74-4b56-81f2-5fdf4c288869"
      },
      "execution_count": null,
      "outputs": [
        {
          "output_type": "execute_result",
          "data": {
            "text/plain": [
              "(4370, 17)"
            ]
          },
          "metadata": {},
          "execution_count": 54
        }
      ]
    },
    {
      "cell_type": "code",
      "execution_count": null,
      "metadata": {
        "id": "wFUz2oo9wzsM"
      },
      "outputs": [],
      "source": [
        "y=data[\"price_Per_Sqrt_ft\"].to_numpy()"
      ]
    },
    {
      "cell_type": "code",
      "execution_count": null,
      "metadata": {
        "id": "lw-yEJI_xgKS"
      },
      "outputs": [],
      "source": [
        "X=data[['longitude',\"latitude\"]].to_numpy()"
      ]
    },
    {
      "cell_type": "code",
      "source": [
        "def accuracy(y, y_hat):\n",
        "  return np.mean(y==y_hat)"
      ],
      "metadata": {
        "id": "XBCKQGp7ecdU"
      },
      "execution_count": null,
      "outputs": []
    },
    {
      "cell_type": "code",
      "execution_count": null,
      "metadata": {
        "id": "OKV37JjexvYc"
      },
      "outputs": [],
      "source": [
        "class KNNClassifier():\n",
        "\n",
        "  def fit(self,X,y):\n",
        "    self.X=X\n",
        "    self.y=y\n",
        "\n",
        "  def predict(self,X,K, epsilon =1e-3):\n",
        "    N= len(X)\n",
        "    y_hat=np.zeros(N)\n",
        "\n",
        "    for i in range(N):\n",
        "      dist2 = np.sum((self.X-X[i])**2,axis=1)    \n",
        "      idxt = np.argsort(dist2)[:K]    #sorted indices \n",
        "      gamma_k=1/(np.sqrt(dist2[idxt]+epsilon))\n",
        "      y_hat[i]= np.bincount(self.y[idxt],weights=gamma_k).argmax()\n",
        "\n",
        "    return y_hat"
      ]
    },
    {
      "cell_type": "code",
      "execution_count": null,
      "metadata": {
        "colab": {
          "base_uri": "https://localhost:8080/",
          "height": 633
        },
        "id": "392swVNGx_3l",
        "outputId": "78acd06f-5b3d-49ba-c6de-541000138958"
      },
      "outputs": [
        {
          "output_type": "execute_result",
          "data": {
            "text/plain": [
              "(31700000.0, 32530000.0)"
            ]
          },
          "metadata": {},
          "execution_count": 59
        },
        {
          "output_type": "display_data",
          "data": {
            "text/plain": [
              "<Figure size 720x720 with 1 Axes>"
            ],
            "image/png": "[encoded data removed]"
          },
          "metadata": {
            "needs_background": "light"
          }
        }
      ],
      "source": [
        "plt.figure(figsize=(10,10))\n",
        "plt.scatter(X[:,0],X[:,1],c=jet(y),s=1,alpha=.25)\n",
        "plt.xlim(-111200000,-110600000) \n",
        "plt.ylim(31700000,32530000)\n"
      ]
    },
    {
      "cell_type": "code",
      "execution_count": null,
      "metadata": {
        "id": "z7nF426mykP6"
      },
      "outputs": [],
      "source": [
        "knn=KNNClassifier()\n",
        "knn.fit(X,y)\n"
      ]
    },
    {
      "cell_type": "code",
      "execution_count": null,
      "metadata": {
        "id": "N8gsiiRC1Si9"
      },
      "outputs": [],
      "source": [
        "y_hat= knn.predict(X,30)"
      ]
    },
    {
      "cell_type": "code",
      "execution_count": null,
      "metadata": {
        "id": "54ZRCY3k1-_0"
      },
      "outputs": [],
      "source": [
        "def LatLon_convert(address):\n",
        "  geolocator = Nominatim(user_agent=\"mAIstros\")\n",
        "  X_test=[]\n",
        "  location=geolocator.geocode(address)\n",
        "  X_test.append([location.point[0],location.point[1]])\n",
        "\n",
        "  return X_test"
      ]
    },
    {
      "cell_type": "code",
      "execution_count": null,
      "metadata": {
        "colab": {
          "base_uri": "https://localhost:8080/"
        },
        "id": "3oOptr6r3hPk",
        "outputId": "17ac7cf3-7130-4794-c49f-5a5d02df520e"
      },
      "outputs": [
        {
          "output_type": "execute_result",
          "data": {
            "text/plain": [
              "[[33.90915665, -84.47914869915438]]"
            ]
          },
          "metadata": {},
          "execution_count": 63
        }
      ],
      "source": [
        "LatLon_convert('1785 The Exchange SE Atlanta')"
      ]
    },
    {
      "cell_type": "code",
      "source": [
        "accuracy(y,y_hat)"
      ],
      "metadata": {
        "colab": {
          "base_uri": "https://localhost:8080/"
        },
        "id": "aZ4x0e4qeTgK",
        "outputId": "2e915b0f-fa4a-46c8-8180-6654590e29e0"
      },
      "execution_count": null,
      "outputs": [
        {
          "output_type": "execute_result",
          "data": {
            "text/plain": [
              "0.9894736842105263"
            ]
          },
          "metadata": {},
          "execution_count": 64
        }
      ]
    },
    {
      "cell_type": "code",
      "source": [
        "data['address_price'] = y_hat"
      ],
      "metadata": {
        "id": "N05bSv6NsB95"
      },
      "execution_count": null,
      "outputs": []
    },
    {
      "cell_type": "markdown",
      "source": [
        "##KNN for land lot"
      ],
      "metadata": {
        "id": "jyE3X9j2raZH"
      }
    },
    {
      "cell_type": "code",
      "execution_count": null,
      "metadata": {
        "id": "ffghgsehrcU1"
      },
      "outputs": [],
      "source": [
        "y=data[\"price_Per_Sqrt_ft\"].to_numpy()"
      ]
    },
    {
      "cell_type": "code",
      "execution_count": null,
      "metadata": {
        "id": "r-766HEMrcU1"
      },
      "outputs": [],
      "source": [
        "X=data[['lot_acres',\"sqrt_ft\"]].to_numpy()"
      ]
    },
    {
      "cell_type": "code",
      "source": [
        "def accuracy(y, y_hat):\n",
        "  return np.mean(y==y_hat)"
      ],
      "metadata": {
        "id": "Ekx4GB4-rcU1"
      },
      "execution_count": null,
      "outputs": []
    },
    {
      "cell_type": "code",
      "execution_count": null,
      "metadata": {
        "id": "kdNtO6WarcU2"
      },
      "outputs": [],
      "source": [
        "class KNNClassifier():\n",
        "\n",
        "  def fit(self,X,y):\n",
        "    self.X=X\n",
        "    self.y=y\n",
        "\n",
        "  def predict(self,X,K, epsilon =1e-3):\n",
        "    N= len(X)\n",
        "    y_hat=np.zeros(N)\n",
        "\n",
        "    for i in range(N):\n",
        "      dist2 = np.sum((self.X-X[i])**2,axis=1)    \n",
        "      idxt = np.argsort(dist2)[:K]    #sorted indices \n",
        "      gamma_k=1/(np.sqrt(dist2[idxt]+epsilon))\n",
        "      y_hat[i]= np.bincount(self.y[idxt],weights=gamma_k).argmax()\n",
        "\n",
        "    return y_hat"
      ]
    },
    {
      "cell_type": "code",
      "execution_count": null,
      "metadata": {
        "id": "GQHmTpBYrcU3"
      },
      "outputs": [],
      "source": [
        "knn=KNNClassifier()\n",
        "knn.fit(X,y)"
      ]
    },
    {
      "cell_type": "code",
      "execution_count": null,
      "metadata": {
        "id": "TFYALnHercU3"
      },
      "outputs": [],
      "source": [
        "y_hat= knn.predict(X,30)"
      ]
    },
    {
      "cell_type": "code",
      "source": [
        "accuracy(y,y_hat)"
      ],
      "metadata": {
        "colab": {
          "base_uri": "https://localhost:8080/"
        },
        "outputId": "e67723ff-7343-4c8d-e15f-162e42e69304",
        "id": "s3F9IeGyrcU4"
      },
      "execution_count": null,
      "outputs": [
        {
          "output_type": "execute_result",
          "data": {
            "text/plain": [
              "0.9322654462242563"
            ]
          },
          "metadata": {},
          "execution_count": 72
        }
      ]
    },
    {
      "cell_type": "code",
      "execution_count": null,
      "metadata": {
        "id": "JSckYbbE5RN0"
      },
      "outputs": [],
      "source": [
        "data['lot_price'] = y_hat"
      ]
    },
    {
      "cell_type": "markdown",
      "source": [
        "##linear Regression"
      ],
      "metadata": {
        "id": "Dgz2IO0aDExR"
      }
    },
    {
      "cell_type": "code",
      "source": [
        "data.dtypes"
      ],
      "metadata": {
        "colab": {
          "base_uri": "https://localhost:8080/"
        },
        "id": "Nnk0ZIveDaP6",
        "outputId": "b5d084fb-a728-4440-fadd-e03e0eace02a"
      },
      "execution_count": null,
      "outputs": [
        {
          "output_type": "execute_result",
          "data": {
            "text/plain": [
              "MLS                    int64\n",
              "sold_price           float64\n",
              "zipcode                int64\n",
              "longitude              int64\n",
              "latitude               int64\n",
              "lot_acres              int64\n",
              "taxes                float64\n",
              "year_built             int64\n",
              "bedrooms             float64\n",
              "bathrooms            float64\n",
              "sqrt_ft                int64\n",
              "garage               float64\n",
              "kitchen_features      object\n",
              "fireplaces           float64\n",
              "floor_covering        object\n",
              "HOA                  float64\n",
              "price_Per_Sqrt_ft      int64\n",
              "address_price        float64\n",
              "lot_price            float64\n",
              "dtype: object"
            ]
          },
          "metadata": {},
          "execution_count": 74
        }
      ]
    },
    {
      "cell_type": "code",
      "source": [
        "y_lr=data[\"address_price\"].to_numpy()\n",
        "X_lr=data[\"lot_price\"].to_numpy()"
      ],
      "metadata": {
        "id": "yAGI2UmeCgso"
      },
      "execution_count": null,
      "outputs": []
    },
    {
      "cell_type": "code",
      "source": [
        "class SimpleLinearReg():\n",
        "  def fit(self,X,y):\n",
        "    self.y=y\n",
        "    self.d=np.mean(X**2)-np.mean(X)**2\n",
        "    self.w0=(np.mean(y)*np.mean(X**2)-np.mean(X)*np.mean(X*y))/self.d\n",
        "    self.w1=(np.mean(X*y)-(np.mean(X)*np.mean(y)))/self.d  \n",
        "\n",
        "\n",
        "  def predict(self,X,show=0):\n",
        "    y_hat=self.w1*X+self.w0\n",
        "\n",
        "    if show:\n",
        "      plt.figure()\n",
        "      plt.scatter(X,self.y,s=8)\n",
        "      plt.plot(X,y_hat,color=\"#FF0070\")\n",
        "\n",
        "    return y_hat  "
      ],
      "metadata": {
        "id": "5JtBqcjzPMm8"
      },
      "execution_count": null,
      "outputs": []
    },
    {
      "cell_type": "code",
      "source": [
        "slr = SimpleLinearReg()"
      ],
      "metadata": {
        "id": "7UecScGHPrcJ"
      },
      "execution_count": null,
      "outputs": []
    },
    {
      "cell_type": "code",
      "source": [
        "slr.fit(X_lr,y_lr)"
      ],
      "metadata": {
        "id": "k56bi0RcPrcK"
      },
      "execution_count": null,
      "outputs": []
    },
    {
      "cell_type": "code",
      "source": [
        "y_hat=slr.predict(X_lr)\n",
        "plt.figure(figsize=(13,8))\n",
        "plt.scatter(X_lr,y_lr,s=8)\n",
        "plt.plot(X_lr,y_hat,color=\"#FF0070\")\n",
        "plt.xlabel('address_price')\n",
        "plt.ylabel('lot_price')\n"
      ],
      "metadata": {
        "colab": {
          "base_uri": "https://localhost:8080/",
          "height": 515
        },
        "outputId": "f3270dac-8964-48eb-fd4b-0dd20e15f7f0",
        "id": "eGBtbCUTPrcK"
      },
      "execution_count": null,
      "outputs": [
        {
          "output_type": "execute_result",
          "data": {
            "text/plain": [
              "Text(0, 0.5, 'lot_price')"
            ]
          },
          "metadata": {},
          "execution_count": 79
        },
        {
          "output_type": "display_data",
          "data": {
            "text/plain": [
              "<Figure size 936x576 with 1 Axes>"
            ],
            "image/png": "[encoded data removed]"
          },
          "metadata": {
            "needs_background": "light"
          }
        }
      ]
    }
  ],
  "metadata": {
    "colab": {
      "provenance": [],
      "mount_file_id": "1GzB1OUiT_f-0ct-RvK-3H2SGpOGoFLk3",
      "authorship_tag": "ABX9TyNQJVRXSksf8IGHslqTHqlG",
      "include_colab_link": true
    },
    "kernelspec": {
      "display_name": "Python 3",
      "name": "python3"
    },
    "language_info": {
      "name": "python"
    }
  },
  "nbformat": 4,
  "nbformat_minor": 0
}