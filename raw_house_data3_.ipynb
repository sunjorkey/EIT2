{
  "nbformat": 4,
  "nbformat_minor": 0,
  "metadata": {
    "colab": {
      "provenance": [],
      "mount_file_id": "1NafKYd0Uhw60d7OYx2wkEzWIZmC117b_",
      "authorship_tag": "ABX9TyOsf+kT/AYP/o9ugqVd/u/0",
      "include_colab_link": true
    },
    "kernelspec": {
      "name": "python3",
      "display_name": "Python 3"
    },
    "language_info": {
      "name": "python"
    }
  },
  "cells": [
    {
      "cell_type": "markdown",
      "metadata": {
        "id": "view-in-github",
        "colab_type": "text"
      },
      "source": [
        "<a href=\"https://colab.research.google.com/github/sunjorkey/EIT2/blob/main/raw_house_data3_.ipynb\" target=\"_parent\"><img src=\"https://colab.research.google.com/assets/colab-badge.svg\" alt=\"Open In Colab\"/></a>"
      ]
    },
    {
      "cell_type": "markdown",
      "source": [
        "Count the number of missing values in each column. Remove any duplicate rows. Iterates through each column and prints the number of \"None\" values in that column. Group the data frame by the column \"zipcode\" and then take the mean of each group.\n",
        "Filling in missing values in the 'HOA' column of the data frame with the mean value of 'HOA' for each zip code. Remove any rows that contain a value of \"None\" in any column\n",
        "Iterates through each column in the data frame and prints the number of zero values in that column.Dropping all rows from the data frame where the year_built column contains a 0.Dropping any rows with a missing value. Splits kitchen_features values in the column on commas. Splits floor_covering values in the column on the comma. \n"
      ],
      "metadata": {
        "id": "ej2UzpfEDxp_"
      }
    },
    {
      "cell_type": "code",
      "execution_count": null,
      "metadata": {
        "id": "iwR0HVblXKIX"
      },
      "outputs": [],
      "source": [
        "import pandas as pd\n",
        "import numpy as np\n",
        "import matplotlib.pyplot as plt\n",
        "import seaborn as sns"
      ]
    },
    {
      "cell_type": "code",
      "source": [
        "house_df = pd.read_csv('/content/drive/MyDrive/Colab Notebooks/raw_house_data.csv')"
      ],
      "metadata": {
        "id": "ZACKR0vpoydl"
      },
      "execution_count": null,
      "outputs": []
    },
    {
      "cell_type": "code",
      "source": [
        "house_df.count()"
      ],
      "metadata": {
        "id": "shHeGwOp4zJP",
        "colab": {
          "base_uri": "https://localhost:8080/"
        },
        "outputId": "44a4fd3b-36d6-445b-c18a-26a183458a77"
      },
      "execution_count": null,
      "outputs": [
        {
          "output_type": "execute_result",
          "data": {
            "text/plain": [
              "MLS                 5000\n",
              "sold_price          5000\n",
              "zipcode             5000\n",
              "longitude           5000\n",
              "latitude            5000\n",
              "lot_acres           4990\n",
              "taxes               5000\n",
              "year_built          5000\n",
              "bedrooms            5000\n",
              "bathrooms           5000\n",
              "sqrt_ft             5000\n",
              "garage              5000\n",
              "kitchen_features    5000\n",
              "fireplaces          4975\n",
              "floor_covering      5000\n",
              "HOA                 5000\n",
              "dtype: int64"
            ]
          },
          "metadata": {},
          "execution_count": 3
        }
      ]
    },
    {
      "cell_type": "code",
      "source": [
        "# count the number of missing values in each column \n",
        "house_df.isnull().sum() "
      ],
      "metadata": {
        "colab": {
          "base_uri": "https://localhost:8080/"
        },
        "id": "otCE19GyLy9g",
        "outputId": "8958e38f-6282-4da6-f644-bfbff87df83a"
      },
      "execution_count": null,
      "outputs": [
        {
          "output_type": "execute_result",
          "data": {
            "text/plain": [
              "MLS                  0\n",
              "sold_price           0\n",
              "zipcode              0\n",
              "longitude            0\n",
              "latitude             0\n",
              "lot_acres           10\n",
              "taxes                0\n",
              "year_built           0\n",
              "bedrooms             0\n",
              "bathrooms            0\n",
              "sqrt_ft              0\n",
              "garage               0\n",
              "kitchen_features     0\n",
              "fireplaces          25\n",
              "floor_covering       0\n",
              "HOA                  0\n",
              "dtype: int64"
            ]
          },
          "metadata": {},
          "execution_count": 4
        }
      ]
    },
    {
      "cell_type": "code",
      "source": [
        "house_df=house_df.drop_duplicates()\n",
        "# remove any duplicate rows "
      ],
      "metadata": {
        "id": "J1zyLFb05PzU"
      },
      "execution_count": null,
      "outputs": []
    },
    {
      "cell_type": "code",
      "source": [
        "for col in house_df.columns:\n",
        "    print(f\"Column {col} has {(house_df[col] == 'None').sum()} None values\")\n",
        "\n",
        "#iterates through each column and prints the number of \"None\" values in that column."
      ],
      "metadata": {
        "colab": {
          "base_uri": "https://localhost:8080/"
        },
        "id": "VV_Ps41YMKc_",
        "outputId": "b6c3d76e-dfe0-4df7-f9f9-72c490401d3b"
      },
      "execution_count": null,
      "outputs": [
        {
          "output_type": "stream",
          "name": "stdout",
          "text": [
            "Column MLS has 0 None values\n",
            "Column sold_price has 0 None values\n",
            "Column zipcode has 0 None values\n",
            "Column longitude has 0 None values\n",
            "Column latitude has 0 None values\n",
            "Column lot_acres has 0 None values\n",
            "Column taxes has 0 None values\n",
            "Column year_built has 0 None values\n",
            "Column bedrooms has 0 None values\n",
            "Column bathrooms has 6 None values\n",
            "Column sqrt_ft has 56 None values\n",
            "Column garage has 7 None values\n",
            "Column kitchen_features has 33 None values\n",
            "Column fireplaces has 0 None values\n",
            "Column floor_covering has 1 None values\n",
            "Column HOA has 562 None values\n"
          ]
        }
      ]
    },
    {
      "cell_type": "code",
      "source": [
        "house_df.HOA.value_counts().nlargest(10).plot(kind='bar',figsize=(10,5))"
      ],
      "metadata": {
        "colab": {
          "base_uri": "https://localhost:8080/",
          "height": 353
        },
        "id": "2e8oEcZOwDOs",
        "outputId": "d4564d6c-55ad-4749-bab6-d54753a0cde0"
      },
      "execution_count": null,
      "outputs": [
        {
          "output_type": "execute_result",
          "data": {
            "text/plain": [
              "<AxesSubplot:>"
            ]
          },
          "metadata": {},
          "execution_count": 7
        },
        {
          "output_type": "display_data",
          "data": {
            "text/plain": [
              "<Figure size 720x360 with 1 Axes>"
            ],
            "image/png": "[encoded data removed]"
          },
          "metadata": {
            "needs_background": "light"
          }
        }
      ]
    },
    {
      "cell_type": "code",
      "source": [
        "house_df = house_df.replace('None', np.nan)  \n",
        "#replaces the value \"None\" with the value \"NaN\""
      ],
      "metadata": {
        "id": "_ro0KHMbZMg3"
      },
      "execution_count": null,
      "outputs": []
    },
    {
      "cell_type": "code",
      "source": [
        "house_df['HOA'] = house_df['HOA'].str.replace(r'\\D+', '', regex=True)\n",
        "\n",
        "# remove all non-numeric characters from the values in the HOA column"
      ],
      "metadata": {
        "id": "Eb1JpiwVnzyY"
      },
      "execution_count": null,
      "outputs": []
    },
    {
      "cell_type": "code",
      "source": [
        "house_df.dtypes"
      ],
      "metadata": {
        "id": "egEnilHHmYh9",
        "colab": {
          "base_uri": "https://localhost:8080/"
        },
        "outputId": "358c92f6-a4c9-426c-8b44-4eff689fada7"
      },
      "execution_count": null,
      "outputs": [
        {
          "output_type": "execute_result",
          "data": {
            "text/plain": [
              "MLS                   int64\n",
              "sold_price          float64\n",
              "zipcode               int64\n",
              "longitude           float64\n",
              "latitude            float64\n",
              "lot_acres           float64\n",
              "taxes               float64\n",
              "year_built            int64\n",
              "bedrooms              int64\n",
              "bathrooms            object\n",
              "sqrt_ft              object\n",
              "garage               object\n",
              "kitchen_features     object\n",
              "fireplaces          float64\n",
              "floor_covering       object\n",
              "HOA                  object\n",
              "dtype: object"
            ]
          },
          "metadata": {},
          "execution_count": 10
        }
      ]
    },
    {
      "cell_type": "code",
      "source": [
        "house_df['HOA'] = house_df['HOA'].astype(float)\n",
        "\n",
        "#converts all the values in the column to a float data type"
      ],
      "metadata": {
        "id": "7VmG_DH-myKC"
      },
      "execution_count": null,
      "outputs": []
    },
    {
      "cell_type": "code",
      "source": [
        "house_df['HOA'].mean()"
      ],
      "metadata": {
        "id": "ys0zmprIlsyQ",
        "colab": {
          "base_uri": "https://localhost:8080/"
        },
        "outputId": "03db17d3-95de-4b57-c8e9-1c7b88b470d0"
      },
      "execution_count": null,
      "outputs": [
        {
          "output_type": "execute_result",
          "data": {
            "text/plain": [
              "445.08765209553854"
            ]
          },
          "metadata": {},
          "execution_count": 12
        }
      ]
    },
    {
      "cell_type": "code",
      "source": [
        "house_df.groupby(['zipcode']).mean(10)\n",
        "\n",
        "# group the dataframe by the column \"zipcode\" and then take the mean of each group. "
      ],
      "metadata": {
        "id": "21oCS1P5Ygp9",
        "colab": {
          "base_uri": "https://localhost:8080/",
          "height": 1000
        },
        "outputId": "4b95a236-3e70-4c4f-b690-7fea42011615"
      },
      "execution_count": null,
      "outputs": [
        {
          "output_type": "execute_result",
          "data": {
            "text/plain": [
              "                  MLS    sold_price   longitude   latitude    lot_acres  \\\n",
              "zipcode                                                                   \n",
              "85118    2.170180e+07  6.900000e+05 -111.430863  33.366202     1.250000   \n",
              "85192    2.183245e+07  4.750000e+05 -110.755428  32.964708    12.060000   \n",
              "85541    2.182357e+07  6.000000e+05 -111.335860  34.314889     2.490000   \n",
              "85601    3.586477e+06  4.900000e+05 -111.299662  31.584172    38.980000   \n",
              "85602    2.128234e+07  6.205000e+05 -110.343385  32.069192   238.465000   \n",
              "85603    2.181917e+07  9.870000e+05 -109.980961  31.486463    36.000000   \n",
              "85605    2.142016e+07  4.250000e+05 -109.454637  32.283327    68.700000   \n",
              "85609    2.142447e+07  2.500000e+06 -110.095713  32.057222  1048.180000   \n",
              "85610    2.168115e+07  7.470000e+05 -109.826223  31.712335   117.020000   \n",
              "85611    1.953820e+07  7.323333e+05 -110.547408  31.625380    31.463333   \n",
              "85614    1.347187e+07  6.224450e+05 -110.966724  31.843946     2.356596   \n",
              "85615    2.187890e+07  7.305000e+05 -110.248003  31.426579     4.186667   \n",
              "85619    2.158275e+07  6.313743e+05 -110.756209  32.442326     0.284286   \n",
              "85621    1.103873e+07  6.100000e+05 -110.893521  31.377198    12.062000   \n",
              "85622    1.074484e+07  6.083160e+05 -111.014514  31.830721     2.301250   \n",
              "85623    2.172410e+07  6.108871e+05 -110.894752  32.586536     1.980968   \n",
              "85624    2.166590e+07  8.072500e+05 -110.724171  31.568540    78.744000   \n",
              "85625    2.182229e+07  5.300000e+05 -109.685284  31.879267   119.790000   \n",
              "85629    1.909755e+07  6.078714e+05 -110.954668  31.888213     0.893571   \n",
              "85630    2.168140e+07  5.966667e+05 -110.102175  31.903075    43.803333   \n",
              "85637    2.151294e+07  9.202722e+05 -110.677684  31.674687   127.591481   \n",
              "85638    2.190900e+07  5.000000e+05 -110.082311  31.712638   555.600000   \n",
              "85640    1.728996e+07  2.092880e+06 -111.044264  31.562124   111.510000   \n",
              "85641    2.167900e+07  6.684119e+05 -110.681249  32.057651    12.969412   \n",
              "85643    2.151121e+07  6.530000e+05 -110.067819  32.430516   282.840000   \n",
              "85645    9.573159e+06  6.644444e+05 -111.156365  31.688771   101.535000   \n",
              "85646    1.191024e+07  8.550687e+05 -111.037543  31.613154    81.080333   \n",
              "85648    1.813814e+07  6.508090e+05 -110.943077  31.527664    33.402000   \n",
              "85658    2.157511e+07  9.496158e+05 -111.077886  32.456490     0.992500   \n",
              "85701    2.167213e+07  7.545480e+05 -110.969911  32.215461     0.203571   \n",
              "85704    2.159606e+07  6.515679e+05 -110.975947  32.341266     1.687629   \n",
              "85705    2.167889e+07  7.038535e+05 -110.966107  32.236093     0.279167   \n",
              "85710    2.156319e+07  6.375000e+05 -110.852086  32.233286     0.875000   \n",
              "85711    2.173617e+07  5.695000e+05 -110.886687  32.220947     1.425000   \n",
              "85712    2.159585e+07  7.659505e+05 -110.883852  32.261400     1.048636   \n",
              "85713    2.104086e+07  4.875000e+05 -111.082659  32.198482     0.420000   \n",
              "85715    2.161209e+07  8.462759e+05 -110.856282  32.259091     2.015851   \n",
              "85716    2.158114e+07  6.877104e+05 -110.924151  32.225275     0.540841   \n",
              "85718    2.156859e+07  8.251585e+05 -110.919741  32.317749     1.290551   \n",
              "85719    2.164035e+07  7.780317e+05 -110.941240  32.237847     0.268289   \n",
              "85730    2.157508e+07  6.175555e+05 -110.753908  32.174909     3.830741   \n",
              "85737    2.155774e+07  7.009165e+05 -110.973648  32.402670     1.243523   \n",
              "85739    2.157653e+07  7.290251e+05 -110.871811  32.533288     0.765000   \n",
              "85742    2.161375e+07  6.921062e+05 -111.036299  32.395284     2.625309   \n",
              "85743    2.165040e+07  6.588326e+05 -111.100947  32.324445     4.024868   \n",
              "85745    2.165612e+07  6.717710e+05 -111.054812  32.243281     2.929290   \n",
              "85747    2.165747e+07  6.939067e+05 -110.735106  32.140634     8.015333   \n",
              "85748    2.155807e+07  6.953823e+05 -110.741223  32.224930     4.495167   \n",
              "85749    2.161068e+07  7.156697e+05 -110.750734  32.271566     3.391845   \n",
              "85750    2.158195e+07  7.994184e+05 -110.848001  32.307413     1.182811   \n",
              "85755    2.159876e+07  7.722333e+05 -110.982999  32.447842     1.385401   \n",
              "85901    2.150749e+07  5.650000e+05 -110.088835  34.236965     1.020000   \n",
              "85929    2.113016e+07  6.550000e+05 -109.963279  34.169427    10.000000   \n",
              "85935    2.191499e+07  5.800000e+05 -109.861617  34.118430     0.350000   \n",
              "86024    2.181842e+07  1.800000e+06 -111.228462  34.596971    59.300000   \n",
              "86323    2.180458e+07  7.450000e+05 -112.520168  34.927884    36.300000   \n",
              "\n",
              "                taxes   year_built   bedrooms  fireplaces          HOA  \n",
              "zipcode                                                                 \n",
              "85118     7716.660000  2007.000000   4.000000    1.000000     0.000000  \n",
              "85192     1000.000000  1969.000000   3.000000    0.000000          NaN  \n",
              "85541     1993.000000  1975.000000   4.000000    2.000000     0.000000  \n",
              "85601     5739.000000  1977.000000   4.000000    1.000000          NaN  \n",
              "85602     7729.940000  1999.500000   3.500000    1.500000     0.000000  \n",
              "85603     1630.400000  1985.000000   3.000000    1.000000          NaN  \n",
              "85605     4507.920000  2007.000000   3.000000    1.000000     0.000000  \n",
              "85609     2441.600000  1985.000000   2.000000    1.000000     0.000000  \n",
              "85610     4033.240000  2007.500000   3.000000    3.500000    42.000000  \n",
              "85611     6663.224444  1996.666667   4.777778    2.333333     0.000000  \n",
              "85614     5217.549400  2005.780000   3.360000    1.512821  1342.065217  \n",
              "85615     6853.133333  2008.666667   3.666667    2.666667    81.000000  \n",
              "85619     7736.445714  2007.000000   3.428571    1.285714    75.000000  \n",
              "85621     4280.528000  1994.800000   3.800000    2.000000   833.500000  \n",
              "85622     4718.582759  1997.517241   3.206897    1.640000   488.105263  \n",
              "85623     3226.105806  2007.516129   2.709677    1.032258  9587.821429  \n",
              "85624     4816.754000  1989.300000   3.400000    1.700000    17.142857  \n",
              "85625     2325.100000  1979.000000   3.000000    1.000000     0.000000  \n",
              "85629     2482.705714  2011.428571   3.571429    1.166667   776.000000  \n",
              "85630     5026.908889  2002.888889   3.666667    2.000000   783.555556  \n",
              "85637     5792.867778  1917.296296   4.185185    1.777778    24.727273  \n",
              "85638     4669.320000  1934.000000  11.000000    1.000000          NaN  \n",
              "85640     4876.200000  1952.250000   4.500000    4.000000     0.000000  \n",
              "85641     6409.453676  1999.308824   4.044118    1.970588   685.583333  \n",
              "85643     5395.710000  1975.000000   3.000000    1.000000     0.000000  \n",
              "85645     9632.617778  1738.888889  14.333333    1.857143     0.000000  \n",
              "85646     6355.936066  1993.114754   3.311475    2.745455   203.974359  \n",
              "85648     7170.214000  2008.200000   3.400000    2.000000   453.333333  \n",
              "85658     7964.730486  2002.902778   3.458333    1.829861   286.332103  \n",
              "85701     4722.789286  1802.071429   4.571429    1.214286     7.400000  \n",
              "85704     6259.507732  1989.257732   4.278351    1.701031    25.111111  \n",
              "85705     4779.673333  1921.833333   5.583333    1.583333     0.000000  \n",
              "85710     5678.935000  1979.500000   4.000000    3.500000     0.000000  \n",
              "85711     4261.938333  1959.500000   4.666667    1.333333     0.000000  \n",
              "85712     6768.810909  1990.204545   4.204545    2.090909   558.236842  \n",
              "85713     5672.520000  2004.000000   4.000000    1.000000    68.000000  \n",
              "85715     7473.206489  1974.053191   4.212766    2.308511   918.932584  \n",
              "85716     5161.646355  1954.186916   4.149533    1.934579     1.844156  \n",
              "85718    17077.336923  1989.206637   3.993213    2.110106   341.107518  \n",
              "85719     4561.107763  1964.394737   3.934211    1.486842    20.472727  \n",
              "85730     5622.456296  1996.666667   4.259259    1.629630    23.333333  \n",
              "85737     6963.337189  1999.387900   3.914591    1.729537   133.827068  \n",
              "85739     5299.445844  2004.759740   3.051948    1.207792   579.951389  \n",
              "85742     6533.731111  2001.160494   4.067901    1.598765    80.975806  \n",
              "85743     6910.489474  2002.907895   4.118421    1.815789    69.115385  \n",
              "85745     6563.632710  2002.974194   3.677419    1.632258   462.308943  \n",
              "85747     6219.003333  1995.533333   3.733333    1.733333    42.000000  \n",
              "85748     6349.866500  1993.783333   4.416667    1.933333    38.777778  \n",
              "85749     6269.516783  1996.184539   4.249377    1.980050   327.294643  \n",
              "85750     7244.741232  1994.587933   3.998716    1.962773   370.441137  \n",
              "85755     7044.195054  2000.748373   3.704989    1.620390   861.943439  \n",
              "85901     3942.540000  2002.000000   4.000000    2.000000   150.000000  \n",
              "85929     5644.000000  2006.000000   5.000000    2.000000     0.000000  \n",
              "85935     4679.000000  2003.000000   4.000000    1.000000  3333.000000  \n",
              "86024     4509.900000  2003.000000   2.000000    1.000000          NaN  \n",
              "86323     3379.980000  2004.000000   5.000000    1.000000     0.000000  "
            ],
            "text/html": [
              "\n",
              "  <div id=\"df-c38ff179-6a4d-49de-b182-f0a47b5e63ec\">\n",
              "    <div class=\"colab-df-container\">\n",
              "      <div>\n",
              "<style scoped>\n",
              "    .dataframe tbody tr th:only-of-type {\n",
              "        vertical-align: middle;\n",
              "    }\n",
              "\n",
              "    .dataframe tbody tr th {\n",
              "        vertical-align: top;\n",
              "    }\n",
              "\n",
              "    .dataframe thead th {\n",
              "        text-align: right;\n",
              "    }\n",
              "</style>\n",
              "<table border=\"1\" class=\"dataframe\">\n",
              "  <thead>\n",
              "    <tr style=\"text-align: right;\">\n",
              "      <th></th>\n",
              "      <th>MLS</th>\n",
              "      <th>sold_price</th>\n",
              "      <th>longitude</th>\n",
              "      <th>latitude</th>\n",
              "      <th>lot_acres</th>\n",
              "      <th>taxes</th>\n",
              "      <th>year_built</th>\n",
              "      <th>bedrooms</th>\n",
              "      <th>fireplaces</th>\n",
              "      <th>HOA</th>\n",
              "    </tr>\n",
              "    <tr>\n",
              "      <th>zipcode</th>\n",
              "      <th></th>\n",
              "      <th></th>\n",
              "      <th></th>\n",
              "      <th></th>\n",
              "      <th></th>\n",
              "      <th></th>\n",
              "      <th></th>\n",
              "      <th></th>\n",
              "      <th></th>\n",
              "      <th></th>\n",
              "    </tr>\n",
              "  </thead>\n",
              "  <tbody>\n",
              "    <tr>\n",
              "      <th>85118</th>\n",
              "      <td>2.170180e+07</td>\n",
              "      <td>6.900000e+05</td>\n",
              "      <td>-111.430863</td>\n",
              "      <td>33.366202</td>\n",
              "      <td>1.250000</td>\n",
              "      <td>7716.660000</td>\n",
              "      <td>2007.000000</td>\n",
              "      <td>4.000000</td>\n",
              "      <td>1.000000</td>\n",
              "      <td>0.000000</td>\n",
              "    </tr>\n",
              "    <tr>\n",
              "      <th>85192</th>\n",
              "      <td>2.183245e+07</td>\n",
              "      <td>4.750000e+05</td>\n",
              "      <td>-110.755428</td>\n",
              "      <td>32.964708</td>\n",
              "      <td>12.060000</td>\n",
              "      <td>1000.000000</td>\n",
              "      <td>1969.000000</td>\n",
              "      <td>3.000000</td>\n",
              "      <td>0.000000</td>\n",
              "      <td>NaN</td>\n",
              "    </tr>\n",
              "    <tr>\n",
              "      <th>85541</th>\n",
              "      <td>2.182357e+07</td>\n",
              "      <td>6.000000e+05</td>\n",
              "      <td>-111.335860</td>\n",
              "      <td>34.314889</td>\n",
              "      <td>2.490000</td>\n",
              "      <td>1993.000000</td>\n",
              "      <td>1975.000000</td>\n",
              "      <td>4.000000</td>\n",
              "      <td>2.000000</td>\n",
              "      <td>0.000000</td>\n",
              "    </tr>\n",
              "    <tr>\n",
              "      <th>85601</th>\n",
              "      <td>3.586477e+06</td>\n",
              "      <td>4.900000e+05</td>\n",
              "      <td>-111.299662</td>\n",
              "      <td>31.584172</td>\n",
              "      <td>38.980000</td>\n",
              "      <td>5739.000000</td>\n",
              "      <td>1977.000000</td>\n",
              "      <td>4.000000</td>\n",
              "      <td>1.000000</td>\n",
              "      <td>NaN</td>\n",
              "    </tr>\n",
              "    <tr>\n",
              "      <th>85602</th>\n",
              "      <td>2.128234e+07</td>\n",
              "      <td>6.205000e+05</td>\n",
              "      <td>-110.343385</td>\n",
              "      <td>32.069192</td>\n",
              "      <td>238.465000</td>\n",
              "      <td>7729.940000</td>\n",
              "      <td>1999.500000</td>\n",
              "      <td>3.500000</td>\n",
              "      <td>1.500000</td>\n",
              "      <td>0.000000</td>\n",
              "    </tr>\n",
              "    <tr>\n",
              "      <th>85603</th>\n",
              "      <td>2.181917e+07</td>\n",
              "      <td>9.870000e+05</td>\n",
              "      <td>-109.980961</td>\n",
              "      <td>31.486463</td>\n",
              "      <td>36.000000</td>\n",
              "      <td>1630.400000</td>\n",
              "      <td>1985.000000</td>\n",
              "      <td>3.000000</td>\n",
              "      <td>1.000000</td>\n",
              "      <td>NaN</td>\n",
              "    </tr>\n",
              "    <tr>\n",
              "      <th>85605</th>\n",
              "      <td>2.142016e+07</td>\n",
              "      <td>4.250000e+05</td>\n",
              "      <td>-109.454637</td>\n",
              "      <td>32.283327</td>\n",
              "      <td>68.700000</td>\n",
              "      <td>4507.920000</td>\n",
              "      <td>2007.000000</td>\n",
              "      <td>3.000000</td>\n",
              "      <td>1.000000</td>\n",
              "      <td>0.000000</td>\n",
              "    </tr>\n",
              "    <tr>\n",
              "      <th>85609</th>\n",
              "      <td>2.142447e+07</td>\n",
              "      <td>2.500000e+06</td>\n",
              "      <td>-110.095713</td>\n",
              "      <td>32.057222</td>\n",
              "      <td>1048.180000</td>\n",
              "      <td>2441.600000</td>\n",
              "      <td>1985.000000</td>\n",
              "      <td>2.000000</td>\n",
              "      <td>1.000000</td>\n",
              "      <td>0.000000</td>\n",
              "    </tr>\n",
              "    <tr>\n",
              "      <th>85610</th>\n",
              "      <td>2.168115e+07</td>\n",
              "      <td>7.470000e+05</td>\n",
              "      <td>-109.826223</td>\n",
              "      <td>31.712335</td>\n",
              "      <td>117.020000</td>\n",
              "      <td>4033.240000</td>\n",
              "      <td>2007.500000</td>\n",
              "      <td>3.000000</td>\n",
              "      <td>3.500000</td>\n",
              "      <td>42.000000</td>\n",
              "    </tr>\n",
              "    <tr>\n",
              "      <th>85611</th>\n",
              "      <td>1.953820e+07</td>\n",
              "      <td>7.323333e+05</td>\n",
              "      <td>-110.547408</td>\n",
              "      <td>31.625380</td>\n",
              "      <td>31.463333</td>\n",
              "      <td>6663.224444</td>\n",
              "      <td>1996.666667</td>\n",
              "      <td>4.777778</td>\n",
              "      <td>2.333333</td>\n",
              "      <td>0.000000</td>\n",
              "    </tr>\n",
              "    <tr>\n",
              "      <th>85614</th>\n",
              "      <td>1.347187e+07</td>\n",
              "      <td>6.224450e+05</td>\n",
              "      <td>-110.966724</td>\n",
              "      <td>31.843946</td>\n",
              "      <td>2.356596</td>\n",
              "      <td>5217.549400</td>\n",
              "      <td>2005.780000</td>\n",
              "      <td>3.360000</td>\n",
              "      <td>1.512821</td>\n",
              "      <td>1342.065217</td>\n",
              "    </tr>\n",
              "    <tr>\n",
              "      <th>85615</th>\n",
              "      <td>2.187890e+07</td>\n",
              "      <td>7.305000e+05</td>\n",
              "      <td>-110.248003</td>\n",
              "      <td>31.426579</td>\n",
              "      <td>4.186667</td>\n",
              "      <td>6853.133333</td>\n",
              "      <td>2008.666667</td>\n",
              "      <td>3.666667</td>\n",
              "      <td>2.666667</td>\n",
              "      <td>81.000000</td>\n",
              "    </tr>\n",
              "    <tr>\n",
              "      <th>85619</th>\n",
              "      <td>2.158275e+07</td>\n",
              "      <td>6.313743e+05</td>\n",
              "      <td>-110.756209</td>\n",
              "      <td>32.442326</td>\n",
              "      <td>0.284286</td>\n",
              "      <td>7736.445714</td>\n",
              "      <td>2007.000000</td>\n",
              "      <td>3.428571</td>\n",
              "      <td>1.285714</td>\n",
              "      <td>75.000000</td>\n",
              "    </tr>\n",
              "    <tr>\n",
              "      <th>85621</th>\n",
              "      <td>1.103873e+07</td>\n",
              "      <td>6.100000e+05</td>\n",
              "      <td>-110.893521</td>\n",
              "      <td>31.377198</td>\n",
              "      <td>12.062000</td>\n",
              "      <td>4280.528000</td>\n",
              "      <td>1994.800000</td>\n",
              "      <td>3.800000</td>\n",
              "      <td>2.000000</td>\n",
              "      <td>833.500000</td>\n",
              "    </tr>\n",
              "    <tr>\n",
              "      <th>85622</th>\n",
              "      <td>1.074484e+07</td>\n",
              "      <td>6.083160e+05</td>\n",
              "      <td>-111.014514</td>\n",
              "      <td>31.830721</td>\n",
              "      <td>2.301250</td>\n",
              "      <td>4718.582759</td>\n",
              "      <td>1997.517241</td>\n",
              "      <td>3.206897</td>\n",
              "      <td>1.640000</td>\n",
              "      <td>488.105263</td>\n",
              "    </tr>\n",
              "    <tr>\n",
              "      <th>85623</th>\n",
              "      <td>2.172410e+07</td>\n",
              "      <td>6.108871e+05</td>\n",
              "      <td>-110.894752</td>\n",
              "      <td>32.586536</td>\n",
              "      <td>1.980968</td>\n",
              "      <td>3226.105806</td>\n",
              "      <td>2007.516129</td>\n",
              "      <td>2.709677</td>\n",
              "      <td>1.032258</td>\n",
              "      <td>9587.821429</td>\n",
              "    </tr>\n",
              "    <tr>\n",
              "      <th>85624</th>\n",
              "      <td>2.166590e+07</td>\n",
              "      <td>8.072500e+05</td>\n",
              "      <td>-110.724171</td>\n",
              "      <td>31.568540</td>\n",
              "      <td>78.744000</td>\n",
              "      <td>4816.754000</td>\n",
              "      <td>1989.300000</td>\n",
              "      <td>3.400000</td>\n",
              "      <td>1.700000</td>\n",
              "      <td>17.142857</td>\n",
              "    </tr>\n",
              "    <tr>\n",
              "      <th>85625</th>\n",
              "      <td>2.182229e+07</td>\n",
              "      <td>5.300000e+05</td>\n",
              "      <td>-109.685284</td>\n",
              "      <td>31.879267</td>\n",
              "      <td>119.790000</td>\n",
              "      <td>2325.100000</td>\n",
              "      <td>1979.000000</td>\n",
              "      <td>3.000000</td>\n",
              "      <td>1.000000</td>\n",
              "      <td>0.000000</td>\n",
              "    </tr>\n",
              "    <tr>\n",
              "      <th>85629</th>\n",
              "      <td>1.909755e+07</td>\n",
              "      <td>6.078714e+05</td>\n",
              "      <td>-110.954668</td>\n",
              "      <td>31.888213</td>\n",
              "      <td>0.893571</td>\n",
              "      <td>2482.705714</td>\n",
              "      <td>2011.428571</td>\n",
              "      <td>3.571429</td>\n",
              "      <td>1.166667</td>\n",
              "      <td>776.000000</td>\n",
              "    </tr>\n",
              "    <tr>\n",
              "      <th>85630</th>\n",
              "      <td>2.168140e+07</td>\n",
              "      <td>5.966667e+05</td>\n",
              "      <td>-110.102175</td>\n",
              "      <td>31.903075</td>\n",
              "      <td>43.803333</td>\n",
              "      <td>5026.908889</td>\n",
              "      <td>2002.888889</td>\n",
              "      <td>3.666667</td>\n",
              "      <td>2.000000</td>\n",
              "      <td>783.555556</td>\n",
              "    </tr>\n",
              "    <tr>\n",
              "      <th>85637</th>\n",
              "      <td>2.151294e+07</td>\n",
              "      <td>9.202722e+05</td>\n",
              "      <td>-110.677684</td>\n",
              "      <td>31.674687</td>\n",
              "      <td>127.591481</td>\n",
              "      <td>5792.867778</td>\n",
              "      <td>1917.296296</td>\n",
              "      <td>4.185185</td>\n",
              "      <td>1.777778</td>\n",
              "      <td>24.727273</td>\n",
              "    </tr>\n",
              "    <tr>\n",
              "      <th>85638</th>\n",
              "      <td>2.190900e+07</td>\n",
              "      <td>5.000000e+05</td>\n",
              "      <td>-110.082311</td>\n",
              "      <td>31.712638</td>\n",
              "      <td>555.600000</td>\n",
              "      <td>4669.320000</td>\n",
              "      <td>1934.000000</td>\n",
              "      <td>11.000000</td>\n",
              "      <td>1.000000</td>\n",
              "      <td>NaN</td>\n",
              "    </tr>\n",
              "    <tr>\n",
              "      <th>85640</th>\n",
              "      <td>1.728996e+07</td>\n",
              "      <td>2.092880e+06</td>\n",
              "      <td>-111.044264</td>\n",
              "      <td>31.562124</td>\n",
              "      <td>111.510000</td>\n",
              "      <td>4876.200000</td>\n",
              "      <td>1952.250000</td>\n",
              "      <td>4.500000</td>\n",
              "      <td>4.000000</td>\n",
              "      <td>0.000000</td>\n",
              "    </tr>\n",
              "    <tr>\n",
              "      <th>85641</th>\n",
              "      <td>2.167900e+07</td>\n",
              "      <td>6.684119e+05</td>\n",
              "      <td>-110.681249</td>\n",
              "      <td>32.057651</td>\n",
              "      <td>12.969412</td>\n",
              "      <td>6409.453676</td>\n",
              "      <td>1999.308824</td>\n",
              "      <td>4.044118</td>\n",
              "      <td>1.970588</td>\n",
              "      <td>685.583333</td>\n",
              "    </tr>\n",
              "    <tr>\n",
              "      <th>85643</th>\n",
              "      <td>2.151121e+07</td>\n",
              "      <td>6.530000e+05</td>\n",
              "      <td>-110.067819</td>\n",
              "      <td>32.430516</td>\n",
              "      <td>282.840000</td>\n",
              "      <td>5395.710000</td>\n",
              "      <td>1975.000000</td>\n",
              "      <td>3.000000</td>\n",
              "      <td>1.000000</td>\n",
              "      <td>0.000000</td>\n",
              "    </tr>\n",
              "    <tr>\n",
              "      <th>85645</th>\n",
              "      <td>9.573159e+06</td>\n",
              "      <td>6.644444e+05</td>\n",
              "      <td>-111.156365</td>\n",
              "      <td>31.688771</td>\n",
              "      <td>101.535000</td>\n",
              "      <td>9632.617778</td>\n",
              "      <td>1738.888889</td>\n",
              "      <td>14.333333</td>\n",
              "      <td>1.857143</td>\n",
              "      <td>0.000000</td>\n",
              "    </tr>\n",
              "    <tr>\n",
              "      <th>85646</th>\n",
              "      <td>1.191024e+07</td>\n",
              "      <td>8.550687e+05</td>\n",
              "      <td>-111.037543</td>\n",
              "      <td>31.613154</td>\n",
              "      <td>81.080333</td>\n",
              "      <td>6355.936066</td>\n",
              "      <td>1993.114754</td>\n",
              "      <td>3.311475</td>\n",
              "      <td>2.745455</td>\n",
              "      <td>203.974359</td>\n",
              "    </tr>\n",
              "    <tr>\n",
              "      <th>85648</th>\n",
              "      <td>1.813814e+07</td>\n",
              "      <td>6.508090e+05</td>\n",
              "      <td>-110.943077</td>\n",
              "      <td>31.527664</td>\n",
              "      <td>33.402000</td>\n",
              "      <td>7170.214000</td>\n",
              "      <td>2008.200000</td>\n",
              "      <td>3.400000</td>\n",
              "      <td>2.000000</td>\n",
              "      <td>453.333333</td>\n",
              "    </tr>\n",
              "    <tr>\n",
              "      <th>85658</th>\n",
              "      <td>2.157511e+07</td>\n",
              "      <td>9.496158e+05</td>\n",
              "      <td>-111.077886</td>\n",
              "      <td>32.456490</td>\n",
              "      <td>0.992500</td>\n",
              "      <td>7964.730486</td>\n",
              "      <td>2002.902778</td>\n",
              "      <td>3.458333</td>\n",
              "      <td>1.829861</td>\n",
              "      <td>286.332103</td>\n",
              "    </tr>\n",
              "    <tr>\n",
              "      <th>85701</th>\n",
              "      <td>2.167213e+07</td>\n",
              "      <td>7.545480e+05</td>\n",
              "      <td>-110.969911</td>\n",
              "      <td>32.215461</td>\n",
              "      <td>0.203571</td>\n",
              "      <td>4722.789286</td>\n",
              "      <td>1802.071429</td>\n",
              "      <td>4.571429</td>\n",
              "      <td>1.214286</td>\n",
              "      <td>7.400000</td>\n",
              "    </tr>\n",
              "    <tr>\n",
              "      <th>85704</th>\n",
              "      <td>2.159606e+07</td>\n",
              "      <td>6.515679e+05</td>\n",
              "      <td>-110.975947</td>\n",
              "      <td>32.341266</td>\n",
              "      <td>1.687629</td>\n",
              "      <td>6259.507732</td>\n",
              "      <td>1989.257732</td>\n",
              "      <td>4.278351</td>\n",
              "      <td>1.701031</td>\n",
              "      <td>25.111111</td>\n",
              "    </tr>\n",
              "    <tr>\n",
              "      <th>85705</th>\n",
              "      <td>2.167889e+07</td>\n",
              "      <td>7.038535e+05</td>\n",
              "      <td>-110.966107</td>\n",
              "      <td>32.236093</td>\n",
              "      <td>0.279167</td>\n",
              "      <td>4779.673333</td>\n",
              "      <td>1921.833333</td>\n",
              "      <td>5.583333</td>\n",
              "      <td>1.583333</td>\n",
              "      <td>0.000000</td>\n",
              "    </tr>\n",
              "    <tr>\n",
              "      <th>85710</th>\n",
              "      <td>2.156319e+07</td>\n",
              "      <td>6.375000e+05</td>\n",
              "      <td>-110.852086</td>\n",
              "      <td>32.233286</td>\n",
              "      <td>0.875000</td>\n",
              "      <td>5678.935000</td>\n",
              "      <td>1979.500000</td>\n",
              "      <td>4.000000</td>\n",
              "      <td>3.500000</td>\n",
              "      <td>0.000000</td>\n",
              "    </tr>\n",
              "    <tr>\n",
              "      <th>85711</th>\n",
              "      <td>2.173617e+07</td>\n",
              "      <td>5.695000e+05</td>\n",
              "      <td>-110.886687</td>\n",
              "      <td>32.220947</td>\n",
              "      <td>1.425000</td>\n",
              "      <td>4261.938333</td>\n",
              "      <td>1959.500000</td>\n",
              "      <td>4.666667</td>\n",
              "      <td>1.333333</td>\n",
              "      <td>0.000000</td>\n",
              "    </tr>\n",
              "    <tr>\n",
              "      <th>85712</th>\n",
              "      <td>2.159585e+07</td>\n",
              "      <td>7.659505e+05</td>\n",
              "      <td>-110.883852</td>\n",
              "      <td>32.261400</td>\n",
              "      <td>1.048636</td>\n",
              "      <td>6768.810909</td>\n",
              "      <td>1990.204545</td>\n",
              "      <td>4.204545</td>\n",
              "      <td>2.090909</td>\n",
              "      <td>558.236842</td>\n",
              "    </tr>\n",
              "    <tr>\n",
              "      <th>85713</th>\n",
              "      <td>2.104086e+07</td>\n",
              "      <td>4.875000e+05</td>\n",
              "      <td>-111.082659</td>\n",
              "      <td>32.198482</td>\n",
              "      <td>0.420000</td>\n",
              "      <td>5672.520000</td>\n",
              "      <td>2004.000000</td>\n",
              "      <td>4.000000</td>\n",
              "      <td>1.000000</td>\n",
              "      <td>68.000000</td>\n",
              "    </tr>\n",
              "    <tr>\n",
              "      <th>85715</th>\n",
              "      <td>2.161209e+07</td>\n",
              "      <td>8.462759e+05</td>\n",
              "      <td>-110.856282</td>\n",
              "      <td>32.259091</td>\n",
              "      <td>2.015851</td>\n",
              "      <td>7473.206489</td>\n",
              "      <td>1974.053191</td>\n",
              "      <td>4.212766</td>\n",
              "      <td>2.308511</td>\n",
              "      <td>918.932584</td>\n",
              "    </tr>\n",
              "    <tr>\n",
              "      <th>85716</th>\n",
              "      <td>2.158114e+07</td>\n",
              "      <td>6.877104e+05</td>\n",
              "      <td>-110.924151</td>\n",
              "      <td>32.225275</td>\n",
              "      <td>0.540841</td>\n",
              "      <td>5161.646355</td>\n",
              "      <td>1954.186916</td>\n",
              "      <td>4.149533</td>\n",
              "      <td>1.934579</td>\n",
              "      <td>1.844156</td>\n",
              "    </tr>\n",
              "    <tr>\n",
              "      <th>85718</th>\n",
              "      <td>2.156859e+07</td>\n",
              "      <td>8.251585e+05</td>\n",
              "      <td>-110.919741</td>\n",
              "      <td>32.317749</td>\n",
              "      <td>1.290551</td>\n",
              "      <td>17077.336923</td>\n",
              "      <td>1989.206637</td>\n",
              "      <td>3.993213</td>\n",
              "      <td>2.110106</td>\n",
              "      <td>341.107518</td>\n",
              "    </tr>\n",
              "    <tr>\n",
              "      <th>85719</th>\n",
              "      <td>2.164035e+07</td>\n",
              "      <td>7.780317e+05</td>\n",
              "      <td>-110.941240</td>\n",
              "      <td>32.237847</td>\n",
              "      <td>0.268289</td>\n",
              "      <td>4561.107763</td>\n",
              "      <td>1964.394737</td>\n",
              "      <td>3.934211</td>\n",
              "      <td>1.486842</td>\n",
              "      <td>20.472727</td>\n",
              "    </tr>\n",
              "    <tr>\n",
              "      <th>85730</th>\n",
              "      <td>2.157508e+07</td>\n",
              "      <td>6.175555e+05</td>\n",
              "      <td>-110.753908</td>\n",
              "      <td>32.174909</td>\n",
              "      <td>3.830741</td>\n",
              "      <td>5622.456296</td>\n",
              "      <td>1996.666667</td>\n",
              "      <td>4.259259</td>\n",
              "      <td>1.629630</td>\n",
              "      <td>23.333333</td>\n",
              "    </tr>\n",
              "    <tr>\n",
              "      <th>85737</th>\n",
              "      <td>2.155774e+07</td>\n",
              "      <td>7.009165e+05</td>\n",
              "      <td>-110.973648</td>\n",
              "      <td>32.402670</td>\n",
              "      <td>1.243523</td>\n",
              "      <td>6963.337189</td>\n",
              "      <td>1999.387900</td>\n",
              "      <td>3.914591</td>\n",
              "      <td>1.729537</td>\n",
              "      <td>133.827068</td>\n",
              "    </tr>\n",
              "    <tr>\n",
              "      <th>85739</th>\n",
              "      <td>2.157653e+07</td>\n",
              "      <td>7.290251e+05</td>\n",
              "      <td>-110.871811</td>\n",
              "      <td>32.533288</td>\n",
              "      <td>0.765000</td>\n",
              "      <td>5299.445844</td>\n",
              "      <td>2004.759740</td>\n",
              "      <td>3.051948</td>\n",
              "      <td>1.207792</td>\n",
              "      <td>579.951389</td>\n",
              "    </tr>\n",
              "    <tr>\n",
              "      <th>85742</th>\n",
              "      <td>2.161375e+07</td>\n",
              "      <td>6.921062e+05</td>\n",
              "      <td>-111.036299</td>\n",
              "      <td>32.395284</td>\n",
              "      <td>2.625309</td>\n",
              "      <td>6533.731111</td>\n",
              "      <td>2001.160494</td>\n",
              "      <td>4.067901</td>\n",
              "      <td>1.598765</td>\n",
              "      <td>80.975806</td>\n",
              "    </tr>\n",
              "    <tr>\n",
              "      <th>85743</th>\n",
              "      <td>2.165040e+07</td>\n",
              "      <td>6.588326e+05</td>\n",
              "      <td>-111.100947</td>\n",
              "      <td>32.324445</td>\n",
              "      <td>4.024868</td>\n",
              "      <td>6910.489474</td>\n",
              "      <td>2002.907895</td>\n",
              "      <td>4.118421</td>\n",
              "      <td>1.815789</td>\n",
              "      <td>69.115385</td>\n",
              "    </tr>\n",
              "    <tr>\n",
              "      <th>85745</th>\n",
              "      <td>2.165612e+07</td>\n",
              "      <td>6.717710e+05</td>\n",
              "      <td>-111.054812</td>\n",
              "      <td>32.243281</td>\n",
              "      <td>2.929290</td>\n",
              "      <td>6563.632710</td>\n",
              "      <td>2002.974194</td>\n",
              "      <td>3.677419</td>\n",
              "      <td>1.632258</td>\n",
              "      <td>462.308943</td>\n",
              "    </tr>\n",
              "    <tr>\n",
              "      <th>85747</th>\n",
              "      <td>2.165747e+07</td>\n",
              "      <td>6.939067e+05</td>\n",
              "      <td>-110.735106</td>\n",
              "      <td>32.140634</td>\n",
              "      <td>8.015333</td>\n",
              "      <td>6219.003333</td>\n",
              "      <td>1995.533333</td>\n",
              "      <td>3.733333</td>\n",
              "      <td>1.733333</td>\n",
              "      <td>42.000000</td>\n",
              "    </tr>\n",
              "    <tr>\n",
              "      <th>85748</th>\n",
              "      <td>2.155807e+07</td>\n",
              "      <td>6.953823e+05</td>\n",
              "      <td>-110.741223</td>\n",
              "      <td>32.224930</td>\n",
              "      <td>4.495167</td>\n",
              "      <td>6349.866500</td>\n",
              "      <td>1993.783333</td>\n",
              "      <td>4.416667</td>\n",
              "      <td>1.933333</td>\n",
              "      <td>38.777778</td>\n",
              "    </tr>\n",
              "    <tr>\n",
              "      <th>85749</th>\n",
              "      <td>2.161068e+07</td>\n",
              "      <td>7.156697e+05</td>\n",
              "      <td>-110.750734</td>\n",
              "      <td>32.271566</td>\n",
              "      <td>3.391845</td>\n",
              "      <td>6269.516783</td>\n",
              "      <td>1996.184539</td>\n",
              "      <td>4.249377</td>\n",
              "      <td>1.980050</td>\n",
              "      <td>327.294643</td>\n",
              "    </tr>\n",
              "    <tr>\n",
              "      <th>85750</th>\n",
              "      <td>2.158195e+07</td>\n",
              "      <td>7.994184e+05</td>\n",
              "      <td>-110.848001</td>\n",
              "      <td>32.307413</td>\n",
              "      <td>1.182811</td>\n",
              "      <td>7244.741232</td>\n",
              "      <td>1994.587933</td>\n",
              "      <td>3.998716</td>\n",
              "      <td>1.962773</td>\n",
              "      <td>370.441137</td>\n",
              "    </tr>\n",
              "    <tr>\n",
              "      <th>85755</th>\n",
              "      <td>2.159876e+07</td>\n",
              "      <td>7.722333e+05</td>\n",
              "      <td>-110.982999</td>\n",
              "      <td>32.447842</td>\n",
              "      <td>1.385401</td>\n",
              "      <td>7044.195054</td>\n",
              "      <td>2000.748373</td>\n",
              "      <td>3.704989</td>\n",
              "      <td>1.620390</td>\n",
              "      <td>861.943439</td>\n",
              "    </tr>\n",
              "    <tr>\n",
              "      <th>85901</th>\n",
              "      <td>2.150749e+07</td>\n",
              "      <td>5.650000e+05</td>\n",
              "      <td>-110.088835</td>\n",
              "      <td>34.236965</td>\n",
              "      <td>1.020000</td>\n",
              "      <td>3942.540000</td>\n",
              "      <td>2002.000000</td>\n",
              "      <td>4.000000</td>\n",
              "      <td>2.000000</td>\n",
              "      <td>150.000000</td>\n",
              "    </tr>\n",
              "    <tr>\n",
              "      <th>85929</th>\n",
              "      <td>2.113016e+07</td>\n",
              "      <td>6.550000e+05</td>\n",
              "      <td>-109.963279</td>\n",
              "      <td>34.169427</td>\n",
              "      <td>10.000000</td>\n",
              "      <td>5644.000000</td>\n",
              "      <td>2006.000000</td>\n",
              "      <td>5.000000</td>\n",
              "      <td>2.000000</td>\n",
              "      <td>0.000000</td>\n",
              "    </tr>\n",
              "    <tr>\n",
              "      <th>85935</th>\n",
              "      <td>2.191499e+07</td>\n",
              "      <td>5.800000e+05</td>\n",
              "      <td>-109.861617</td>\n",
              "      <td>34.118430</td>\n",
              "      <td>0.350000</td>\n",
              "      <td>4679.000000</td>\n",
              "      <td>2003.000000</td>\n",
              "      <td>4.000000</td>\n",
              "      <td>1.000000</td>\n",
              "      <td>3333.000000</td>\n",
              "    </tr>\n",
              "    <tr>\n",
              "      <th>86024</th>\n",
              "      <td>2.181842e+07</td>\n",
              "      <td>1.800000e+06</td>\n",
              "      <td>-111.228462</td>\n",
              "      <td>34.596971</td>\n",
              "      <td>59.300000</td>\n",
              "      <td>4509.900000</td>\n",
              "      <td>2003.000000</td>\n",
              "      <td>2.000000</td>\n",
              "      <td>1.000000</td>\n",
              "      <td>NaN</td>\n",
              "    </tr>\n",
              "    <tr>\n",
              "      <th>86323</th>\n",
              "      <td>2.180458e+07</td>\n",
              "      <td>7.450000e+05</td>\n",
              "      <td>-112.520168</td>\n",
              "      <td>34.927884</td>\n",
              "      <td>36.300000</td>\n",
              "      <td>3379.980000</td>\n",
              "      <td>2004.000000</td>\n",
              "      <td>5.000000</td>\n",
              "      <td>1.000000</td>\n",
              "      <td>0.000000</td>\n",
              "    </tr>\n",
              "  </tbody>\n",
              "</table>\n",
              "</div>\n",
              "      <button class=\"colab-df-convert\" onclick=\"convertToInteractive('df-c38ff179-6a4d-49de-b182-f0a47b5e63ec')\"\n",
              "              title=\"Convert this dataframe to an interactive table.\"\n",
              "              style=\"display:none;\">\n",
              "        \n",
              "  <svg xmlns=\"http://www.w3.org/2000/svg\" height=\"24px\"viewBox=\"0 0 24 24\"\n",
              "       width=\"24px\">\n",
              "    <path d=\"M0 0h24v24H0V0z\" fill=\"none\"/>\n",
              "    <path d=\"M18.56 5.44l.94 2.06.94-2.06 2.06-.94-2.06-.94-.94-2.06-.94 2.06-2.06.94zm-11 1L8.5 8.5l.94-2.06 2.06-.94-2.06-.94L8.5 2.5l-.94 2.06-2.06.94zm10 10l.94 2.06.94-2.06 2.06-.94-2.06-.94-.94-2.06-.94 2.06-2.06.94z\"/><path d=\"M17.41 7.96l-1.37-1.37c-.4-.4-.92-.59-1.43-.59-.52 0-1.04.2-1.43.59L10.3 9.45l-7.72 7.72c-.78.78-.78 2.05 0 2.83L4 21.41c.39.39.9.59 1.41.59.51 0 1.02-.2 1.41-.59l7.78-7.78 2.81-2.81c.8-.78.8-2.07 0-2.86zM5.41 20L4 18.59l7.72-7.72 1.47 1.35L5.41 20z\"/>\n",
              "  </svg>\n",
              "      </button>\n",
              "      \n",
              "  <style>\n",
              "    .colab-df-container {\n",
              "      display:flex;\n",
              "      flex-wrap:wrap;\n",
              "      gap: 12px;\n",
              "    }\n",
              "\n",
              "    .colab-df-convert {\n",
              "      background-color: #E8F0FE;\n",
              "      border: none;\n",
              "      border-radius: 50%;\n",
              "      cursor: pointer;\n",
              "      display: none;\n",
              "      fill: #1967D2;\n",
              "      height: 32px;\n",
              "      padding: 0 0 0 0;\n",
              "      width: 32px;\n",
              "    }\n",
              "\n",
              "    .colab-df-convert:hover {\n",
              "      background-color: #E2EBFA;\n",
              "      box-shadow: 0px 1px 2px rgba(60, 64, 67, 0.3), 0px 1px 3px 1px rgba(60, 64, 67, 0.15);\n",
              "      fill: #174EA6;\n",
              "    }\n",
              "\n",
              "    [theme=dark] .colab-df-convert {\n",
              "      background-color: #3B4455;\n",
              "      fill: #D2E3FC;\n",
              "    }\n",
              "\n",
              "    [theme=dark] .colab-df-convert:hover {\n",
              "      background-color: #434B5C;\n",
              "      box-shadow: 0px 1px 3px 1px rgba(0, 0, 0, 0.15);\n",
              "      filter: drop-shadow(0px 1px 2px rgba(0, 0, 0, 0.3));\n",
              "      fill: #FFFFFF;\n",
              "    }\n",
              "  </style>\n",
              "\n",
              "      <script>\n",
              "        const buttonEl =\n",
              "          document.querySelector('#df-c38ff179-6a4d-49de-b182-f0a47b5e63ec button.colab-df-convert');\n",
              "        buttonEl.style.display =\n",
              "          google.colab.kernel.accessAllowed ? 'block' : 'none';\n",
              "\n",
              "        async function convertToInteractive(key) {\n",
              "          const element = document.querySelector('#df-c38ff179-6a4d-49de-b182-f0a47b5e63ec');\n",
              "          const dataTable =\n",
              "            await google.colab.kernel.invokeFunction('convertToInteractive',\n",
              "                                                     [key], {});\n",
              "          if (!dataTable) return;\n",
              "\n",
              "          const docLinkHtml = 'Like what you see? Visit the ' +\n",
              "            '<a target=\"_blank\" href=https://colab.research.google.com/notebooks/data_table.ipynb>data table notebook</a>'\n",
              "            + ' to learn more about interactive tables.';\n",
              "          element.innerHTML = '';\n",
              "          dataTable['output_type'] = 'display_data';\n",
              "          await google.colab.output.renderOutput(dataTable, element);\n",
              "          const docLink = document.createElement('div');\n",
              "          docLink.innerHTML = docLinkHtml;\n",
              "          element.appendChild(docLink);\n",
              "        }\n",
              "      </script>\n",
              "    </div>\n",
              "  </div>\n",
              "  "
            ]
          },
          "metadata": {},
          "execution_count": 13
        }
      ]
    },
    {
      "cell_type": "code",
      "source": [
        "house_df['HOA'] = house_df.groupby('zipcode')['HOA'].transform(lambda x: x.fillna(x.mean()))\n",
        "\n",
        "#filling in missing values in the 'HOA' column of the dataframe with the mean value of 'HOA' for each zipcode."
      ],
      "metadata": {
        "id": "brQ7sxfgYr2z"
      },
      "execution_count": null,
      "outputs": []
    },
    {
      "cell_type": "code",
      "source": [
        "fig,ax=plt.subplots(figsize=(10,6))\n",
        "ax.scatter(house_df['HOA'],house_df['zipcode'])\n",
        "ax.set_xlabel('HOA')\n",
        "ax.set_ylabel('zipcode')"
      ],
      "metadata": {
        "colab": {
          "base_uri": "https://localhost:8080/",
          "height": 405
        },
        "id": "8CdkVi6SSN6w",
        "outputId": "acf2f4af-eb7e-4dad-9bd6-d35e60dfff2a"
      },
      "execution_count": null,
      "outputs": [
        {
          "output_type": "execute_result",
          "data": {
            "text/plain": [
              "Text(0, 0.5, 'zipcode')"
            ]
          },
          "metadata": {},
          "execution_count": 17
        },
        {
          "output_type": "display_data",
          "data": {
            "text/plain": [
              "<Figure size 720x432 with 1 Axes>"
            ],
            "image/png": "[encoded data removed]"
          },
          "metadata": {
            "needs_background": "light"
          }
        }
      ]
    },
    {
      "cell_type": "code",
      "source": [
        "house_df = house_df.replace( np.nan,'None')  \n",
        "\n",
        "#replacing all NaN values with the string 'None'. "
      ],
      "metadata": {
        "id": "tQoh1gCw5HHB"
      },
      "execution_count": null,
      "outputs": []
    },
    {
      "cell_type": "code",
      "source": [
        "for col in house_df.columns:\n",
        "    print(f\"Column {col} has {(house_df[col] == 'None').sum()} None values\")\n",
        "\n",
        "#iterates through each column in a dataframe and prints out the number of values in each column that are equal to 'None'."
      ],
      "metadata": {
        "colab": {
          "base_uri": "https://localhost:8080/"
        },
        "id": "njc1jw1E4A3s",
        "outputId": "aeed79d2-1e4b-4dd8-b659-0533e3d946eb"
      },
      "execution_count": null,
      "outputs": [
        {
          "output_type": "stream",
          "name": "stdout",
          "text": [
            "Column MLS has 0 None values\n",
            "Column sold_price has 0 None values\n",
            "Column zipcode has 0 None values\n",
            "Column longitude has 0 None values\n",
            "Column latitude has 0 None values\n",
            "Column lot_acres has 10 None values\n",
            "Column taxes has 0 None values\n",
            "Column year_built has 0 None values\n",
            "Column bedrooms has 0 None values\n",
            "Column bathrooms has 6 None values\n",
            "Column sqrt_ft has 56 None values\n",
            "Column garage has 7 None values\n",
            "Column kitchen_features has 33 None values\n",
            "Column fireplaces has 25 None values\n",
            "Column floor_covering has 1 None values\n",
            "Column HOA has 6 None values\n"
          ]
        }
      ]
    },
    {
      "cell_type": "code",
      "source": [
        "house_df = house_df[~(house_df == 'None').any(axis=1)]\n",
        "\n",
        "#remove any rows that contain a value of \"None\" in any column "
      ],
      "metadata": {
        "id": "qSVv90vYTJox"
      },
      "execution_count": null,
      "outputs": []
    },
    {
      "cell_type": "code",
      "source": [
        "for col in house_df.columns:\n",
        "    print(f\"Column {col} has {(house_df[col] == 'None').sum()} None values\")"
      ],
      "metadata": {
        "colab": {
          "base_uri": "https://localhost:8080/"
        },
        "id": "DKQnMwLx6q0f",
        "outputId": "a60c049c-167f-4aac-b06f-1c74022aece3"
      },
      "execution_count": null,
      "outputs": [
        {
          "output_type": "stream",
          "name": "stdout",
          "text": [
            "Column MLS has 0 None values\n",
            "Column sold_price has 0 None values\n",
            "Column zipcode has 0 None values\n",
            "Column longitude has 0 None values\n",
            "Column latitude has 0 None values\n",
            "Column lot_acres has 0 None values\n",
            "Column taxes has 0 None values\n",
            "Column year_built has 0 None values\n",
            "Column bedrooms has 0 None values\n",
            "Column bathrooms has 0 None values\n",
            "Column sqrt_ft has 0 None values\n",
            "Column garage has 0 None values\n",
            "Column kitchen_features has 0 None values\n",
            "Column fireplaces has 0 None values\n",
            "Column floor_covering has 0 None values\n",
            "Column HOA has 0 None values\n"
          ]
        }
      ]
    },
    {
      "cell_type": "code",
      "source": [
        "for col in house_df.columns:\n",
        "    print(f\"Column {col} has {(house_df[col] == 0).sum()} Zero values\")\n",
        "# iterates through each column in the dataframe and prints the number of zero values in that column. "
      ],
      "metadata": {
        "colab": {
          "base_uri": "https://localhost:8080/"
        },
        "id": "2mc5C9oFOe7Y",
        "outputId": "341f6210-ad92-45ab-ec92-3cf5ebd6eecc"
      },
      "execution_count": null,
      "outputs": [
        {
          "output_type": "stream",
          "name": "stdout",
          "text": [
            "Column MLS has 0 Zero values\n",
            "Column sold_price has 0 Zero values\n",
            "Column zipcode has 0 Zero values\n",
            "Column longitude has 0 Zero values\n",
            "Column latitude has 0 Zero values\n",
            "Column lot_acres has 35 Zero values\n",
            "Column taxes has 22 Zero values\n",
            "Column year_built has 5 Zero values\n",
            "Column bedrooms has 0 Zero values\n",
            "Column bathrooms has 0 Zero values\n",
            "Column sqrt_ft has 0 Zero values\n",
            "Column garage has 0 Zero values\n",
            "Column kitchen_features has 0 Zero values\n",
            "Column fireplaces has 299 Zero values\n",
            "Column floor_covering has 0 Zero values\n",
            "Column HOA has 831 Zero values\n"
          ]
        }
      ]
    },
    {
      "cell_type": "code",
      "source": [
        "house_df['year_built'] = house_df['year_built'][house_df['year_built'] != 0]\n",
        "\n",
        "# dropping all rows from the dataframe where the year_built column contains a 0 "
      ],
      "metadata": {
        "id": "Chf9ka7T-0oM"
      },
      "execution_count": null,
      "outputs": []
    },
    {
      "cell_type": "code",
      "source": [
        "for col in house_df.columns:\n",
        "    print(f\"Column {col} has {(house_df[col] == 0).sum()} Zero values\")"
      ],
      "metadata": {
        "colab": {
          "base_uri": "https://localhost:8080/"
        },
        "id": "J7Pa3brj720o",
        "outputId": "f352db54-1396-47e3-91fd-e88db4da8d88"
      },
      "execution_count": null,
      "outputs": [
        {
          "output_type": "stream",
          "name": "stdout",
          "text": [
            "Column MLS has 0 Zero values\n",
            "Column sold_price has 0 Zero values\n",
            "Column zipcode has 0 Zero values\n",
            "Column longitude has 0 Zero values\n",
            "Column latitude has 0 Zero values\n",
            "Column lot_acres has 35 Zero values\n",
            "Column taxes has 22 Zero values\n",
            "Column year_built has 0 Zero values\n",
            "Column bedrooms has 0 Zero values\n",
            "Column bathrooms has 0 Zero values\n",
            "Column sqrt_ft has 0 Zero values\n",
            "Column garage has 0 Zero values\n",
            "Column kitchen_features has 0 Zero values\n",
            "Column fireplaces has 299 Zero values\n",
            "Column floor_covering has 0 Zero values\n",
            "Column HOA has 831 Zero values\n"
          ]
        }
      ]
    },
    {
      "cell_type": "code",
      "source": [
        "house_df.HOA.value_counts().nlargest(10).plot(kind='bar',figsize=(10,5))"
      ],
      "metadata": {
        "colab": {
          "base_uri": "https://localhost:8080/",
          "height": 438
        },
        "id": "7FpBWEAFFEgE",
        "outputId": "b4834286-7ee6-4094-f48c-a7f73b0df4b2"
      },
      "execution_count": null,
      "outputs": [
        {
          "output_type": "execute_result",
          "data": {
            "text/plain": [
              "<AxesSubplot:>"
            ]
          },
          "metadata": {},
          "execution_count": 25
        },
        {
          "output_type": "display_data",
          "data": {
            "text/plain": [
              "<Figure size 720x360 with 1 Axes>"
            ],
            "image/png": "[encoded data removed]"
          },
          "metadata": {
            "needs_background": "light"
          }
        }
      ]
    },
    {
      "cell_type": "code",
      "source": [
        "house_df=house_df.dropna()\n",
        "#dropping any rows with a missing value"
      ],
      "metadata": {
        "id": "05rApym5Pu39"
      },
      "execution_count": null,
      "outputs": []
    },
    {
      "cell_type": "code",
      "source": [
        "house_df.count()"
      ],
      "metadata": {
        "colab": {
          "base_uri": "https://localhost:8080/"
        },
        "id": "1GEH7PXWxm6h",
        "outputId": "1f3b603a-6cc0-4fb0-f4ed-65f9c988421b"
      },
      "execution_count": null,
      "outputs": [
        {
          "output_type": "execute_result",
          "data": {
            "text/plain": [
              "MLS                 4899\n",
              "sold_price          4899\n",
              "zipcode             4899\n",
              "longitude           4899\n",
              "latitude            4899\n",
              "lot_acres           4899\n",
              "taxes               4899\n",
              "year_built          4899\n",
              "bedrooms            4899\n",
              "bathrooms           4899\n",
              "sqrt_ft             4899\n",
              "garage              4899\n",
              "kitchen_features    4899\n",
              "fireplaces          4899\n",
              "floor_covering      4899\n",
              "HOA                 4899\n",
              "dtype: int64"
            ]
          },
          "metadata": {},
          "execution_count": 27
        }
      ]
    },
    {
      "cell_type": "code",
      "source": [
        "house_df.isnull().sum() "
      ],
      "metadata": {
        "colab": {
          "base_uri": "https://localhost:8080/"
        },
        "id": "g_ye0yEkxo9f",
        "outputId": "d54c9575-986f-43e2-9cff-ef797ee85e74"
      },
      "execution_count": null,
      "outputs": [
        {
          "output_type": "execute_result",
          "data": {
            "text/plain": [
              "MLS                 0\n",
              "sold_price          0\n",
              "zipcode             0\n",
              "longitude           0\n",
              "latitude            0\n",
              "lot_acres           0\n",
              "taxes               0\n",
              "year_built          0\n",
              "bedrooms            0\n",
              "bathrooms           0\n",
              "sqrt_ft             0\n",
              "garage              0\n",
              "kitchen_features    0\n",
              "fireplaces          0\n",
              "floor_covering      0\n",
              "HOA                 0\n",
              "dtype: int64"
            ]
          },
          "metadata": {},
          "execution_count": 28
        }
      ]
    },
    {
      "cell_type": "code",
      "source": [
        "house_df['kitchen_features'] = house_df['kitchen_features'].apply(lambda x: x.split(','))\n",
        "#splits kitchen_features values in the column on commas"
      ],
      "metadata": {
        "id": "1JTbfsEKna6D"
      },
      "execution_count": null,
      "outputs": []
    },
    {
      "cell_type": "code",
      "source": [
        "house_df.kitchen_features.value_counts().nlargest(10).plot(kind='bar',figsize=(10,5))"
      ],
      "metadata": {
        "colab": {
          "base_uri": "https://localhost:8080/",
          "height": 722
        },
        "id": "CotYInek6Oq3",
        "outputId": "01bd4235-8598-4693-96b1-c7bada1f7cc8"
      },
      "execution_count": null,
      "outputs": [
        {
          "output_type": "execute_result",
          "data": {
            "text/plain": [
              "<AxesSubplot:>"
            ]
          },
          "metadata": {},
          "execution_count": 30
        },
        {
          "output_type": "display_data",
          "data": {
            "text/plain": [
              "<Figure size 720x360 with 1 Axes>"
            ],
            "image/png": "[encoded data removed]"
          },
          "metadata": {
            "needs_background": "light"
          }
        }
      ]
    },
    {
      "cell_type": "code",
      "source": [
        "house_df['floor_covering'] = house_df['floor_covering'].apply(lambda x: x.split(','))\n",
        "#splits floor_covering values in the column on commas"
      ],
      "metadata": {
        "id": "gx7Hj92voWnU"
      },
      "execution_count": null,
      "outputs": []
    },
    {
      "cell_type": "code",
      "source": [
        "house_df.floor_covering.value_counts().nlargest(10).plot(kind='bar',figsize=(10,5))\n",
        "\n",
        "#top 10 most common floor coverings in the house_df data set."
      ],
      "metadata": {
        "colab": {
          "base_uri": "https://localhost:8080/",
          "height": 517
        },
        "id": "hOlsMxxkolhz",
        "outputId": "baaafff3-9d23-4fca-cb0e-32872efc16fc"
      },
      "execution_count": null,
      "outputs": [
        {
          "output_type": "execute_result",
          "data": {
            "text/plain": [
              "<AxesSubplot:>"
            ]
          },
          "metadata": {},
          "execution_count": 32
        },
        {
          "output_type": "display_data",
          "data": {
            "text/plain": [
              "<Figure size 720x360 with 1 Axes>"
            ],
            "image/png": "[encoded data removed]"
          },
          "metadata": {
            "needs_background": "light"
          }
        }
      ]
    }
  ]
}